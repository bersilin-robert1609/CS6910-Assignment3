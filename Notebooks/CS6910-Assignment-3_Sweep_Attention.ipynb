{
 "cells": [
  {
   "cell_type": "code",
   "execution_count": 1,
   "metadata": {},
   "outputs": [
    {
     "name": "stderr",
     "output_type": "stream",
     "text": [
      "Failed to detect the name of this notebook, you can set it manually with the WANDB_NOTEBOOK_NAME environment variable to enable code saving.\n",
      "\u001b[34m\u001b[1mwandb\u001b[0m: Currently logged in as: \u001b[33mcs20b013\u001b[0m (\u001b[33mcs20b013-bersilin\u001b[0m). Use \u001b[1m`wandb login --relogin`\u001b[0m to force relogin\n"
     ]
    },
    {
     "name": "stdout",
     "output_type": "stream",
     "text": [
      "cuda\n"
     ]
    }
   ],
   "source": [
    "import torch\n",
    "import torch.nn as nn\n",
    "import torch.nn.functional as F\n",
    "import torch.optim as optim\n",
    "import random\n",
    "import numpy as np\n",
    "import matplotlib.pyplot as plt\n",
    "import pandas as pd\n",
    "import time\n",
    "\n",
    "import wandb\n",
    "wandb.login()\n",
    "\n",
    "random.seed()\n",
    "\n",
    "device = torch.device(\"cuda\" if torch.cuda.is_available() else \"cpu\")\n",
    "print(device)"
   ]
  },
  {
   "cell_type": "code",
   "execution_count": 2,
   "metadata": {},
   "outputs": [],
   "source": [
    "# Language Model\n",
    "SOS_token = 0\n",
    "EOS_token = 1\n",
    "\n",
    "class Language:\n",
    "    def __init__(self, name):\n",
    "        self.name = name\n",
    "        self.word2index = {}\n",
    "        self.word2count = {}\n",
    "        self.index2word = {SOS_token: \"<\", EOS_token: \">\"}\n",
    "        self.n_chars = 2  # Count SOS and EOS\n",
    "\n",
    "    def addWord(self, word):\n",
    "        for char in word:\n",
    "            self.addChar(char)\n",
    "\n",
    "    def addChar(self, char):\n",
    "        if char not in self.word2index:\n",
    "            self.word2index[char] = self.n_chars\n",
    "            self.word2count[char] = 1\n",
    "            self.index2word[self.n_chars] = char\n",
    "            self.n_chars += 1\n",
    "        else:\n",
    "            self.word2count[char] += 1"
   ]
  },
  {
   "cell_type": "code",
   "execution_count": 3,
   "metadata": {},
   "outputs": [],
   "source": [
    "def get_data(lang: str, type: str) -> list[list[str]]:\n",
    "    \"\"\"\n",
    "    Returns: 'pairs': list of [input_word, target_word] pairs\n",
    "    \"\"\"\n",
    "    path = \"../aksharantar_sampled/{}/{}_{}.csv\".format(lang, lang, type)\n",
    "    df = pd.read_csv(path, header=None)\n",
    "    pairs = df.values.tolist()\n",
    "    return pairs"
   ]
  },
  {
   "cell_type": "code",
   "execution_count": 4,
   "metadata": {},
   "outputs": [],
   "source": [
    "def get_languages(lang: str):\n",
    "    \"\"\"\n",
    "    Returns \n",
    "    1. input_lang: input language - English\n",
    "    2. output_lang: output language - Given language\n",
    "    3. pairs: list of [input_word, target_word] pairs\n",
    "    \"\"\"\n",
    "    input_lang = Language('eng')\n",
    "    output_lang = Language(lang)\n",
    "    pairs = get_data(lang, \"train\")\n",
    "    for pair in pairs:\n",
    "        input_lang.addWord(pair[0])\n",
    "        output_lang.addWord(pair[1])\n",
    "    return input_lang, output_lang, pairs"
   ]
  },
  {
   "cell_type": "code",
   "execution_count": 5,
   "metadata": {},
   "outputs": [],
   "source": [
    "def get_cell(cell_type: str):\n",
    "    if cell_type == \"LSTM\":\n",
    "        return nn.LSTM\n",
    "    elif cell_type == \"GRU\":\n",
    "        return nn.GRU\n",
    "    elif cell_type == \"RNN\":\n",
    "        return nn.RNN\n",
    "    else:\n",
    "        raise Exception(\"Invalid cell type\")\n",
    "    \n",
    "def get_optimizer(optimizer: str):\n",
    "    if optimizer == \"SGD\":\n",
    "        return optim.SGD\n",
    "    elif optimizer == \"ADAM\":\n",
    "        return optim.Adam\n",
    "    else:\n",
    "        raise Exception(\"Invalid optimizer\")"
   ]
  },
  {
   "cell_type": "code",
   "execution_count": 6,
   "metadata": {},
   "outputs": [],
   "source": [
    "class Encoder(nn.Module):\n",
    "    def __init__(self,\n",
    "                 in_sz: int,\n",
    "                 embed_sz: int,\n",
    "                 hidden_sz: int,\n",
    "                 cell_type: str,\n",
    "                 n_layers: int,\n",
    "                 dropout: float):\n",
    "        \n",
    "        super(Encoder, self).__init__()\n",
    "        self.hidden_sz = hidden_sz\n",
    "        self.n_layers = n_layers\n",
    "        self.dropout = dropout\n",
    "        self.cell_type = cell_type\n",
    "        self.embedding = nn.Embedding(in_sz, embed_sz)\n",
    "\n",
    "        self.rnn = get_cell(cell_type)(input_size = embed_sz,\n",
    "                                       hidden_size = hidden_sz,\n",
    "                                       num_layers = n_layers,\n",
    "                                       dropout = dropout)\n",
    "        \n",
    "    def forward(self, input, hidden, cell):\n",
    "        embedded = self.embedding(input).view(1, 1, -1)\n",
    "\n",
    "        if(self.cell_type == \"LSTM\"):\n",
    "            output, (hidden, cell) = self.rnn(embedded, (hidden, cell))\n",
    "        else:\n",
    "            output, hidden = self.rnn(embedded, hidden)\n",
    "            \n",
    "        return output, hidden, cell\n",
    "    \n",
    "    def initHidden(self):\n",
    "        return torch.zeros(self.n_layers, 1, self.hidden_sz, device=device)"
   ]
  },
  {
   "cell_type": "code",
   "execution_count": 7,
   "metadata": {},
   "outputs": [],
   "source": [
    "class AttentionDecoder(nn.Module):\n",
    "    def __init__(self,\n",
    "                 out_sz: int,\n",
    "                 embed_sz: int,\n",
    "                 hidden_sz: int,\n",
    "                 cell_type: str,\n",
    "                 n_layers: int,\n",
    "                 dropout: float):\n",
    "\n",
    "        super(AttentionDecoder, self).__init__()\n",
    "        self.hidden_sz = hidden_sz\n",
    "        self.n_layers = n_layers\n",
    "        self.dropout = dropout\n",
    "        self.cell_type = cell_type\n",
    "        self.embedding = nn.Embedding(out_sz, embed_sz)\n",
    "\n",
    "        self.attn = nn.Linear(hidden_sz + embed_sz, 50)\n",
    "        self.attn_combine = nn.Linear(hidden_sz + embed_sz, hidden_sz)\n",
    "\n",
    "        self.rnn = get_cell(cell_type)(input_size = hidden_sz,\n",
    "                                       hidden_size = hidden_sz,\n",
    "                                       num_layers = n_layers,\n",
    "                                       dropout = dropout)\n",
    "        \n",
    "        self.out = nn.Linear(hidden_sz, out_sz)\n",
    "        self.softmax = nn.LogSoftmax(dim=1)\n",
    "\n",
    "    def forward(self, input, hidden, cell, encoder_outputs):\n",
    "        embedding = self.embedding(input).view(1, 1, -1)\n",
    "\n",
    "        attn_weights = F.softmax(self.attn(torch.cat((embedding[0], hidden[0]), 1)), dim=1)\n",
    "        attn_applied = torch.bmm(attn_weights.unsqueeze(0), encoder_outputs.unsqueeze(0))\n",
    "        \n",
    "        output = torch.cat((embedding[0], attn_applied[0]), 1)\n",
    "        output = self.attn_combine(output).unsqueeze(0)\n",
    "\n",
    "        if(self.cell_type == \"LSTM\"):\n",
    "            output, (hidden, cell) = self.rnn(output, (hidden, cell))\n",
    "        else:\n",
    "            output, hidden = self.rnn(output, hidden)\n",
    "\n",
    "        output = self.softmax(self.out(output[0]))\n",
    "        return output, hidden, cell, attn_weights\n",
    "    \n",
    "    def initHidden(self):\n",
    "        return torch.zeros(self.n_layers, 1, self.hidden_sz, device=device)"
   ]
  },
  {
   "cell_type": "code",
   "execution_count": 8,
   "metadata": {},
   "outputs": [],
   "source": [
    "def indexesFromWord(lang:Language, word:str):\n",
    "    return [lang.word2index[char] for char in word]\n",
    "\n",
    "def tensorFromWord(lang:Language, word:str):\n",
    "    indexes = indexesFromWord(lang, word)\n",
    "    indexes.append(EOS_token)\n",
    "    return torch.tensor(indexes, dtype=torch.long, device=device).view(-1, 1)\n",
    "\n",
    "def tensorsFromPair(input_lang:Language, output_lang:Language, pair:list[str]):\n",
    "    input_tensor = tensorFromWord(input_lang, pair[0])\n",
    "    target_tensor = tensorFromWord(output_lang, pair[1])\n",
    "    return (input_tensor, target_tensor)"
   ]
  },
  {
   "cell_type": "code",
   "execution_count": 9,
   "metadata": {},
   "outputs": [],
   "source": [
    "def params_definition(): \n",
    "    \"\"\"\n",
    "    params:\n",
    "\n",
    "        embed_size : size of embedding (input and output) (8, 16, 32, 64)\n",
    "        hidden_size : size of hidden layer (64, 128, 256, 512)\n",
    "        cell_type : type of cell (LSTM, GRU, RNN)\n",
    "        num_layers : number of layers in encoder (1, 2, 3)\n",
    "        dropout : dropout probability\n",
    "        learning_rate : learning rate\n",
    "        teacher_forcing_ratio : teacher forcing ratio (0.5 fixed for now)\n",
    "        optimizer : optimizer (SGD, Adam)\n",
    "        max_length : maximum length of input word (50 fixed for now)\n",
    "\n",
    "    \"\"\"\n",
    "    pass"
   ]
  },
  {
   "cell_type": "code",
   "execution_count": 10,
   "metadata": {},
   "outputs": [],
   "source": [
    "PRINT_EVERY = 5000\n",
    "PLOT_EVERY = 100"
   ]
  },
  {
   "cell_type": "code",
   "execution_count": 11,
   "metadata": {},
   "outputs": [],
   "source": [
    "class Translator:\n",
    "    def __init__(self, lang: str, params: dict):\n",
    "        self.lang = lang\n",
    "        self.input_lang, self.output_lang, self.pairs = get_languages(self.lang)\n",
    "        self.input_size = self.input_lang.n_chars\n",
    "        self.output_size = self.output_lang.n_chars\n",
    "\n",
    "        self.training_pairs = [tensorsFromPair(self.input_lang, self.output_lang, pair) for pair in self.pairs]\n",
    "\n",
    "        self.encoder = Encoder(in_sz = self.input_size,\n",
    "                             embed_sz = params[\"embed_size\"],\n",
    "                             hidden_sz = params[\"hidden_size\"],\n",
    "                             cell_type = params[\"cell_type\"],\n",
    "                             n_layers = params[\"num_layers\"],\n",
    "                             dropout = params[\"dropout\"]).to(device)\n",
    "        \n",
    "        self.decoder = AttentionDecoder(out_sz = self.output_size,\n",
    "                             embed_sz = params[\"embed_size\"],\n",
    "                             hidden_sz = params[\"hidden_size\"],\n",
    "                             cell_type = params[\"cell_type\"],\n",
    "                             n_layers = params[\"num_layers\"],\n",
    "                             dropout = params[\"dropout\"]).to(device)\n",
    "\n",
    "        self.encoder_optimizer = get_optimizer(params[\"optimizer\"])(self.encoder.parameters(), lr=params[\"learning_rate\"], weight_decay=params[\"weight_decay\"])\n",
    "        self.decoder_optimizer = get_optimizer(params[\"optimizer\"])(self.decoder.parameters(), lr=params[\"learning_rate\"], weight_decay=params[\"weight_decay\"])\n",
    "        \n",
    "        self.criterion = nn.NLLLoss()\n",
    "\n",
    "        self.teacher_forcing_ratio = params[\"teacher_forcing_ratio\"]\n",
    "        self.max_length = params[\"max_length\"]\n",
    "\n",
    "    def train_single(self, input_tensor, target_tensor):\n",
    "        encoder_hidden = self.encoder.initHidden()\n",
    "        encoder_cell = self.encoder.initHidden()\n",
    "\n",
    "        self.encoder_optimizer.zero_grad()\n",
    "        self.decoder_optimizer.zero_grad()\n",
    "\n",
    "        input_length = input_tensor.size(0)\n",
    "        target_length = target_tensor.size(0)\n",
    "\n",
    "        encoder_outputs = torch.zeros(self.max_length, self.encoder.hidden_sz, device=device)\n",
    "\n",
    "        loss = 0\n",
    "\n",
    "        for ei in range(input_length):\n",
    "            encoder_output, encoder_hidden, encoder_cell = self.encoder(input_tensor[ei], encoder_hidden, encoder_cell)\n",
    "            encoder_outputs[ei] = encoder_output[0, 0]\n",
    "\n",
    "        decoder_input = torch.tensor([[SOS_token]], device=device)\n",
    "        decoder_hidden, decoder_cell = encoder_hidden, encoder_cell\n",
    "\n",
    "        use_teacher_forcing = True if random.random() < self.teacher_forcing_ratio else False\n",
    "\n",
    "        if use_teacher_forcing:\n",
    "            for di in range(target_length):\n",
    "                decoder_output, decoder_hidden, decoder_cell, decoder_attention = self.decoder(decoder_input, decoder_hidden, decoder_cell, encoder_outputs)\n",
    "                loss += self.criterion(decoder_output, target_tensor[di])\n",
    "\n",
    "                decoder_input = target_tensor[di]\n",
    "        else:\n",
    "            for di in range(target_length):\n",
    "                decoder_output, decoder_hidden, decoder_cell, decoder_attention = self.decoder(decoder_input, decoder_hidden, decoder_cell, encoder_outputs)\n",
    "                loss += self.criterion(decoder_output, target_tensor[di])\n",
    "\n",
    "                topv, topi = decoder_output.topk(1)\n",
    "                decoder_input = topi.squeeze().detach()\n",
    "                if decoder_input.item() == EOS_token:\n",
    "                    break\n",
    "\n",
    "        loss.backward()\n",
    "        self.encoder_optimizer.step()\n",
    "        self.decoder_optimizer.step()\n",
    "\n",
    "        return loss.item() / target_length\n",
    "    \n",
    "    def train(self, iters=-1):\n",
    "        start_time = time.time()\n",
    "        plot_losses = []\n",
    "        print_loss_total = 0\n",
    "        plot_loss_total = 0\n",
    "\n",
    "        random.shuffle(self.training_pairs)\n",
    "        iters = len(self.training_pairs) if iters == -1 else iters\n",
    "\n",
    "        for iter in range(1, iters):\n",
    "            training_pair = self.training_pairs[iter - 1]\n",
    "            input_tensor = training_pair[0]\n",
    "            target_tensor = training_pair[1]\n",
    "\n",
    "            loss = self.train_single(input_tensor, target_tensor)\n",
    "            print_loss_total += loss\n",
    "            plot_loss_total += loss\n",
    "\n",
    "            if iter % PRINT_EVERY == 0:\n",
    "                print_loss_avg = print_loss_total / PRINT_EVERY\n",
    "                print_loss_total = 0\n",
    "                current_time = time.time()\n",
    "                print(\"Loss: {:.4f} | Iterations: {} | Time: {:.3f}\".format(print_loss_avg, iter, current_time - start_time))\n",
    "\n",
    "            if iter % PLOT_EVERY == 0:\n",
    "                plot_loss_avg = plot_loss_total / PLOT_EVERY\n",
    "                plot_losses.append(plot_loss_avg)\n",
    "                plot_loss_total = 0\n",
    "            \n",
    "        return plot_losses\n",
    "    \n",
    "    def evaluate(self, word):\n",
    "        with torch.no_grad():\n",
    "            input_tensor = tensorFromWord(self.input_lang, word)\n",
    "            input_length = input_tensor.size()[0]\n",
    "            encoder_hidden = self.encoder.initHidden()\n",
    "            encoder_cell = self.encoder.initHidden()\n",
    "\n",
    "            encoder_outputs = torch.zeros(self.max_length, self.encoder.hidden_sz, device=device)\n",
    "\n",
    "            for ei in range(input_length):\n",
    "                encoder_output, encoder_hidden, encoder_cell = self.encoder(input_tensor[ei], encoder_hidden, encoder_cell)\n",
    "                encoder_outputs[ei] += encoder_output[0, 0]\n",
    "\n",
    "            decoder_input = torch.tensor([[SOS_token]], device=device)\n",
    "            decoder_hidden, decoder_cell = encoder_hidden, encoder_cell\n",
    "\n",
    "            decoded_chars = \"\"\n",
    "            decoder_attentions = torch.zeros(self.max_length, self.max_length)\n",
    "\n",
    "            for di in range(self.max_length):\n",
    "                decoder_output, decoder_hidden, decoder_cell, decoder_attention = self.decoder(decoder_input, decoder_hidden, decoder_cell, encoder_outputs)\n",
    "                decoder_attentions[di] = decoder_attention.data\n",
    "                topv, topi = decoder_output.topk(1)\n",
    "                \n",
    "                if topi.item() == EOS_token:\n",
    "                    break\n",
    "                else:\n",
    "                    decoded_chars += self.output_lang.index2word[topi.item()]\n",
    "\n",
    "                decoder_input = topi.squeeze().detach()\n",
    "\n",
    "            return decoded_chars, decoder_attentions[:di + 1]\n",
    "        \n",
    "    def test_validate(self, type:str):\n",
    "        pairs = get_data(self.lang, type)\n",
    "        accuracy = 0\n",
    "        for pair in pairs:\n",
    "            output, _ = self.evaluate(pair[0])\n",
    "            if output == pair[1]:\n",
    "                accuracy += 1\n",
    "        return accuracy / len(pairs)"
   ]
  },
  {
   "cell_type": "code",
   "execution_count": 12,
   "metadata": {},
   "outputs": [],
   "source": [
    "def plot_losses(plot_losses, title: str):\n",
    "    # return plot of losses\n",
    "    x_labels = [i * PLOT_EVERY for i in range(1, len(plot_losses) + 1)]\n",
    "    plt.plot(x_labels, plot_losses, color=\"blue\")\n",
    "    plt.xlabel(\"Iterations\")\n",
    "    plt.ylabel(\"Loss\")\n",
    "    plt.title(title)\n",
    "    plt.show()"
   ]
  },
  {
   "cell_type": "code",
   "execution_count": 13,
   "metadata": {},
   "outputs": [],
   "source": [
    "sweep_configuration = {\n",
    "    \"method\": \"bayes\",\n",
    "    \"metric\": {\n",
    "        \"name\": \"validation_accuracy\",\n",
    "        \"goal\": \"maximize\"\n",
    "    },\n",
    "    \"parameters\": {\n",
    "        \"embed_size\": {\n",
    "            \"values\": [8, 16, 32]\n",
    "        },\n",
    "        \"hidden_size\": {\n",
    "            \"values\": [64, 128, 256, 512]\n",
    "        },\n",
    "        \"cell_type\": {\n",
    "            \"values\": [\"RNN\", \"LSTM\", \"GRU\"]\n",
    "        },\n",
    "        \"num_layers\": {\n",
    "            \"values\": [1, 2, 3]\n",
    "        },\n",
    "        \"dropout\": {\n",
    "            \"values\": [0, 0.1, 0.2]\n",
    "        },\n",
    "        \"learning_rate\": {\n",
    "            \"values\": [0.0005, 0.001, 0.005]\n",
    "        },\n",
    "        \"optimizer\": {\n",
    "            \"values\": [\"SGD\", \"ADAM\"]\n",
    "        },\n",
    "        \"teacher_forcing_ratio\": {\n",
    "            'value': 0.5\n",
    "        },\n",
    "        \"max_length\": {\n",
    "            'value': 50\n",
    "        },\n",
    "        \"weight_decay\": {\n",
    "            \"values\": [0, 1e-1, 1e-3, 1e-5]\n",
    "        }\n",
    "    }\n",
    "}"
   ]
  },
  {
   "cell_type": "code",
   "execution_count": 14,
   "metadata": {},
   "outputs": [],
   "source": [
    "count = 0\n",
    "\n",
    "def train_sweep():\n",
    "    global count\n",
    "    count += 1\n",
    "\n",
    "    run = wandb.init()\n",
    "    config = wandb.config\n",
    "    run.name = \"embed_size: {} | hidden_size: {} | cell_type: {} | num_layers: {} | dropout: {} | learning_rate: {} | optimizer: {} | teacher_forcing_ratio: {} | max_length: {} | weight_decay: {}\".format(config.embed_size, config.hidden_size, config.cell_type, config.num_layers, config.dropout, config.learning_rate, config.optimizer, config.teacher_forcing_ratio, config.max_length, config.weight_decay)\n",
    "\n",
    "    model = Translator('tam', config)\n",
    "\n",
    "    epochs = 10\n",
    "    old_validation_accuracy = 0\n",
    "\n",
    "    for epoch in range(epochs):\n",
    "        print(\"Epoch: {}\".format(epoch + 1))\n",
    "        plot_losses = model.train()\n",
    "\n",
    "        # take average of plot losses as training loss\n",
    "        training_loss = sum(plot_losses) / len(plot_losses)\n",
    "        \n",
    "        training_accuracy = model.test_validate('train')\n",
    "        print(\"Training Accuracy: {:.4f}\".format(training_accuracy))\n",
    "\n",
    "        validation_accuracy = model.test_validate('valid')\n",
    "        print(\"Validation Accuracy: {:.4f}\".format(validation_accuracy))\n",
    "\n",
    "        wandb.log({\n",
    "            \"epoch\": epoch + 1,\n",
    "            \"training_loss\": training_loss,\n",
    "            \"training_accuracy\": training_accuracy,\n",
    "            \"validation_accuracy\": validation_accuracy\n",
    "        })\n",
    "\n",
    "        if epoch > 0:\n",
    "            if validation_accuracy < 0.0001:\n",
    "                break\n",
    "\n",
    "            if validation_accuracy < 0.9 * old_validation_accuracy:\n",
    "                break\n",
    "\n",
    "        old_validation_accuracy = validation_accuracy\n",
    "\n",
    "    test_accuracy = model.test_validate('test')\n",
    "    print(\"Test Accuracy: {:.4f}\".format(test_accuracy))\n",
    "\n",
    "    wandb.log({\n",
    "        \"test_accuracy\": test_accuracy\n",
    "    })\n",
    "\n",
    "    run.finish()"
   ]
  },
  {
   "cell_type": "code",
   "execution_count": 15,
   "metadata": {},
   "outputs": [
    {
     "name": "stdout",
     "output_type": "stream",
     "text": [
      "Create sweep with ID: w7rnszm2\n",
      "Sweep URL: https://wandb.ai/cs20b013-bersilin/CS6910_Assn3_Attention_RNN/sweeps/w7rnszm2\n"
     ]
    },
    {
     "name": "stderr",
     "output_type": "stream",
     "text": [
      "\u001b[34m\u001b[1mwandb\u001b[0m: Agent Starting Run: h8x541yx with config:\n",
      "\u001b[34m\u001b[1mwandb\u001b[0m: \tcell_type: GRU\n",
      "\u001b[34m\u001b[1mwandb\u001b[0m: \tdropout: 0.1\n",
      "\u001b[34m\u001b[1mwandb\u001b[0m: \tembed_size: 32\n",
      "\u001b[34m\u001b[1mwandb\u001b[0m: \thidden_size: 128\n",
      "\u001b[34m\u001b[1mwandb\u001b[0m: \tlearning_rate: 0.0005\n",
      "\u001b[34m\u001b[1mwandb\u001b[0m: \tmax_length: 50\n",
      "\u001b[34m\u001b[1mwandb\u001b[0m: \tnum_layers: 1\n",
      "\u001b[34m\u001b[1mwandb\u001b[0m: \toptimizer: ADAM\n",
      "\u001b[34m\u001b[1mwandb\u001b[0m: \tteacher_forcing_ratio: 0.5\n",
      "\u001b[34m\u001b[1mwandb\u001b[0m: \tweight_decay: 0\n",
      "Failed to detect the name of this notebook, you can set it manually with the WANDB_NOTEBOOK_NAME environment variable to enable code saving.\n"
     ]
    },
    {
     "data": {
      "text/html": [
       "wandb version 0.15.3 is available!  To upgrade, please run:\n",
       " $ pip install wandb --upgrade"
      ],
      "text/plain": [
       "<IPython.core.display.HTML object>"
      ]
     },
     "metadata": {},
     "output_type": "display_data"
    },
    {
     "data": {
      "text/html": [
       "Tracking run with wandb version 0.15.1"
      ],
      "text/plain": [
       "<IPython.core.display.HTML object>"
      ]
     },
     "metadata": {},
     "output_type": "display_data"
    },
    {
     "data": {
      "text/html": [
       "Run data is saved locally in <code>/home/bersi/Documents/CS6910 Assignments/CS6910-Assignment3/Notebooks/wandb/run-20230519_190655-h8x541yx</code>"
      ],
      "text/plain": [
       "<IPython.core.display.HTML object>"
      ]
     },
     "metadata": {},
     "output_type": "display_data"
    },
    {
     "data": {
      "text/html": [
       "Syncing run <strong><a href='https://wandb.ai/cs20b013-bersilin/CS6910_Assn3_Attention_RNN/runs/h8x541yx' target=\"_blank\">morning-sweep-1</a></strong> to <a href='https://wandb.ai/cs20b013-bersilin/CS6910_Assn3_Attention_RNN' target=\"_blank\">Weights & Biases</a> (<a href='https://wandb.me/run' target=\"_blank\">docs</a>)<br/>Sweep page: <a href='https://wandb.ai/cs20b013-bersilin/CS6910_Assn3_Attention_RNN/sweeps/w7rnszm2' target=\"_blank\">https://wandb.ai/cs20b013-bersilin/CS6910_Assn3_Attention_RNN/sweeps/w7rnszm2</a>"
      ],
      "text/plain": [
       "<IPython.core.display.HTML object>"
      ]
     },
     "metadata": {},
     "output_type": "display_data"
    },
    {
     "data": {
      "text/html": [
       " View project at <a href='https://wandb.ai/cs20b013-bersilin/CS6910_Assn3_Attention_RNN' target=\"_blank\">https://wandb.ai/cs20b013-bersilin/CS6910_Assn3_Attention_RNN</a>"
      ],
      "text/plain": [
       "<IPython.core.display.HTML object>"
      ]
     },
     "metadata": {},
     "output_type": "display_data"
    },
    {
     "data": {
      "text/html": [
       " View sweep at <a href='https://wandb.ai/cs20b013-bersilin/CS6910_Assn3_Attention_RNN/sweeps/w7rnszm2' target=\"_blank\">https://wandb.ai/cs20b013-bersilin/CS6910_Assn3_Attention_RNN/sweeps/w7rnszm2</a>"
      ],
      "text/plain": [
       "<IPython.core.display.HTML object>"
      ]
     },
     "metadata": {},
     "output_type": "display_data"
    },
    {
     "data": {
      "text/html": [
       " View run at <a href='https://wandb.ai/cs20b013-bersilin/CS6910_Assn3_Attention_RNN/runs/h8x541yx' target=\"_blank\">https://wandb.ai/cs20b013-bersilin/CS6910_Assn3_Attention_RNN/runs/h8x541yx</a>"
      ],
      "text/plain": [
       "<IPython.core.display.HTML object>"
      ]
     },
     "metadata": {},
     "output_type": "display_data"
    },
    {
     "name": "stderr",
     "output_type": "stream",
     "text": [
      "/home/bersi/.local/lib/python3.10/site-packages/torch/nn/modules/rnn.py:67: UserWarning: dropout option adds dropout after all but last recurrent layer, so non-zero dropout expects num_layers greater than 1, but got dropout=0.1 and num_layers=1\n",
      "  warnings.warn(\"dropout option adds dropout after all but last \"\n"
     ]
    },
    {
     "name": "stdout",
     "output_type": "stream",
     "text": [
      "Epoch: 1\n",
      "Loss: 1.5957 | Iterations: 5000 | Time: 48.352\n",
      "Loss: 0.6664 | Iterations: 10000 | Time: 96.237\n",
      "Loss: 0.4980 | Iterations: 15000 | Time: 144.529\n",
      "Loss: 0.4059 | Iterations: 20000 | Time: 192.912\n",
      "Loss: 0.3717 | Iterations: 25000 | Time: 241.216\n",
      "Loss: 0.3835 | Iterations: 30000 | Time: 289.729\n",
      "Loss: 0.3403 | Iterations: 35000 | Time: 338.893\n",
      "Loss: 0.3370 | Iterations: 40000 | Time: 387.429\n",
      "Loss: 0.3160 | Iterations: 45000 | Time: 436.056\n",
      "Loss: 0.3073 | Iterations: 50000 | Time: 484.980\n",
      "Training Accuracy: 0.6063\n",
      "Validation Accuracy: 0.4856\n",
      "Epoch: 2\n",
      "Loss: 0.3097 | Iterations: 5000 | Time: 49.634\n",
      "Loss: 0.2883 | Iterations: 10000 | Time: 100.192\n",
      "Loss: 0.3097 | Iterations: 15000 | Time: 149.005\n",
      "Loss: 0.2875 | Iterations: 20000 | Time: 197.761\n",
      "Loss: 0.2994 | Iterations: 25000 | Time: 246.339\n",
      "Loss: 0.2926 | Iterations: 30000 | Time: 294.910\n",
      "Loss: 0.2877 | Iterations: 35000 | Time: 345.130\n",
      "Loss: 0.2869 | Iterations: 40000 | Time: 394.204\n",
      "Loss: 0.2957 | Iterations: 45000 | Time: 444.152\n",
      "Loss: 0.2870 | Iterations: 50000 | Time: 494.813\n",
      "Training Accuracy: 0.5984\n",
      "Validation Accuracy: 0.5012\n",
      "Epoch: 3\n",
      "Loss: 0.2751 | Iterations: 5000 | Time: 49.761\n",
      "Loss: 0.2821 | Iterations: 10000 | Time: 99.894\n",
      "Loss: 0.2764 | Iterations: 15000 | Time: 149.940\n",
      "Loss: 0.2764 | Iterations: 20000 | Time: 200.404\n",
      "Loss: 0.2713 | Iterations: 25000 | Time: 252.807\n",
      "Loss: 0.2795 | Iterations: 30000 | Time: 303.080\n",
      "Loss: 0.2628 | Iterations: 35000 | Time: 352.097\n",
      "Loss: 0.2744 | Iterations: 40000 | Time: 400.832\n",
      "Loss: 0.2808 | Iterations: 45000 | Time: 449.318\n",
      "Loss: 0.2726 | Iterations: 50000 | Time: 498.126\n",
      "Training Accuracy: 0.6364\n",
      "Validation Accuracy: 0.5090\n",
      "Epoch: 4\n",
      "Loss: 0.2595 | Iterations: 5000 | Time: 48.686\n",
      "Loss: 0.2781 | Iterations: 10000 | Time: 97.210\n",
      "Loss: 0.2839 | Iterations: 15000 | Time: 145.863\n",
      "Loss: 0.2662 | Iterations: 20000 | Time: 194.813\n",
      "Loss: 0.2708 | Iterations: 25000 | Time: 246.801\n",
      "Loss: 0.2681 | Iterations: 30000 | Time: 295.486\n",
      "Loss: 0.2884 | Iterations: 35000 | Time: 344.221\n",
      "Loss: 0.2824 | Iterations: 40000 | Time: 392.887\n",
      "Loss: 0.2929 | Iterations: 45000 | Time: 444.473\n",
      "Loss: 0.2635 | Iterations: 50000 | Time: 497.126\n",
      "Training Accuracy: 0.6177\n",
      "Validation Accuracy: 0.5034\n",
      "Epoch: 5\n",
      "Loss: 0.2718 | Iterations: 5000 | Time: 52.654\n",
      "Loss: 0.2754 | Iterations: 10000 | Time: 104.375\n",
      "Loss: 0.2705 | Iterations: 15000 | Time: 153.578\n",
      "Loss: 0.2689 | Iterations: 20000 | Time: 202.145\n",
      "Loss: 0.2669 | Iterations: 25000 | Time: 251.003\n",
      "Loss: 0.2620 | Iterations: 30000 | Time: 299.895\n",
      "Loss: 0.2842 | Iterations: 35000 | Time: 348.820\n",
      "Loss: 0.2951 | Iterations: 40000 | Time: 397.852\n",
      "Loss: 0.2887 | Iterations: 45000 | Time: 447.055\n",
      "Loss: 0.3062 | Iterations: 50000 | Time: 495.842\n",
      "Training Accuracy: 0.6255\n",
      "Validation Accuracy: 0.5100\n",
      "Epoch: 6\n",
      "Loss: 0.2925 | Iterations: 5000 | Time: 49.337\n",
      "Loss: 0.2765 | Iterations: 10000 | Time: 98.503\n",
      "Loss: 0.2683 | Iterations: 15000 | Time: 147.886\n",
      "Loss: 0.2996 | Iterations: 20000 | Time: 197.143\n",
      "Loss: 0.2869 | Iterations: 25000 | Time: 246.159\n",
      "Loss: 0.2820 | Iterations: 30000 | Time: 295.090\n",
      "Loss: 0.2632 | Iterations: 35000 | Time: 343.988\n",
      "Loss: 0.3018 | Iterations: 40000 | Time: 393.189\n",
      "Loss: 0.2941 | Iterations: 45000 | Time: 442.043\n",
      "Loss: 0.3037 | Iterations: 50000 | Time: 491.202\n",
      "Training Accuracy: 0.6168\n",
      "Validation Accuracy: 0.5044\n",
      "Epoch: 7\n",
      "Loss: 0.2996 | Iterations: 5000 | Time: 49.210\n",
      "Loss: 0.2668 | Iterations: 10000 | Time: 98.519\n",
      "Loss: 0.2948 | Iterations: 15000 | Time: 147.476\n",
      "Loss: 0.3200 | Iterations: 20000 | Time: 196.253\n",
      "Loss: 0.2793 | Iterations: 25000 | Time: 245.463\n",
      "Loss: 0.2971 | Iterations: 30000 | Time: 294.631\n",
      "Loss: 0.3267 | Iterations: 35000 | Time: 343.445\n",
      "Loss: 0.2972 | Iterations: 40000 | Time: 392.422\n",
      "Loss: 0.3418 | Iterations: 45000 | Time: 441.543\n",
      "Loss: 0.3178 | Iterations: 50000 | Time: 490.916\n",
      "Training Accuracy: 0.5691\n",
      "Validation Accuracy: 0.4646\n",
      "Epoch: 8\n",
      "Loss: 0.3234 | Iterations: 5000 | Time: 49.256\n",
      "Loss: 0.3328 | Iterations: 10000 | Time: 98.359\n",
      "Loss: 0.2966 | Iterations: 15000 | Time: 147.564\n",
      "Loss: 0.3336 | Iterations: 20000 | Time: 196.756\n",
      "Loss: 0.3126 | Iterations: 25000 | Time: 245.897\n",
      "Loss: 0.3260 | Iterations: 30000 | Time: 294.929\n",
      "Loss: 0.3311 | Iterations: 35000 | Time: 344.205\n",
      "Loss: 0.3545 | Iterations: 40000 | Time: 393.135\n",
      "Loss: 0.3232 | Iterations: 45000 | Time: 441.981\n",
      "Loss: 0.3980 | Iterations: 50000 | Time: 490.980\n",
      "Training Accuracy: 0.5157\n",
      "Validation Accuracy: 0.4324\n",
      "Epoch: 9\n",
      "Loss: 0.3405 | Iterations: 5000 | Time: 49.123\n",
      "Loss: 0.3470 | Iterations: 10000 | Time: 97.915\n",
      "Loss: 0.3475 | Iterations: 15000 | Time: 146.795\n",
      "Loss: 0.4189 | Iterations: 20000 | Time: 195.895\n",
      "Loss: 0.3524 | Iterations: 25000 | Time: 245.090\n",
      "Loss: 0.4177 | Iterations: 30000 | Time: 294.310\n",
      "Loss: 0.3787 | Iterations: 35000 | Time: 343.219\n",
      "Loss: 0.3777 | Iterations: 40000 | Time: 392.235\n",
      "Loss: 0.4374 | Iterations: 45000 | Time: 440.965\n",
      "Loss: 0.4254 | Iterations: 50000 | Time: 489.953\n",
      "Training Accuracy: 0.5072\n",
      "Validation Accuracy: 0.4341\n",
      "Epoch: 10\n",
      "Loss: 0.4291 | Iterations: 5000 | Time: 49.111\n",
      "Loss: 0.5573 | Iterations: 10000 | Time: 98.072\n",
      "Loss: 0.4415 | Iterations: 15000 | Time: 146.856\n",
      "Loss: 0.5021 | Iterations: 20000 | Time: 195.496\n",
      "Loss: 0.5440 | Iterations: 25000 | Time: 244.666\n",
      "Loss: 0.5644 | Iterations: 30000 | Time: 293.486\n",
      "Loss: 0.5324 | Iterations: 35000 | Time: 342.508\n",
      "Loss: 0.6510 | Iterations: 40000 | Time: 391.274\n",
      "Loss: 0.5332 | Iterations: 45000 | Time: 440.270\n",
      "Loss: 0.5871 | Iterations: 50000 | Time: 489.374\n",
      "Training Accuracy: 0.3901\n",
      "Validation Accuracy: 0.3477\n",
      "Test Accuracy: 0.2898\n"
     ]
    },
    {
     "data": {
      "text/html": [
       "Waiting for W&B process to finish... <strong style=\"color:green\">(success).</strong>"
      ],
      "text/plain": [
       "<IPython.core.display.HTML object>"
      ]
     },
     "metadata": {},
     "output_type": "display_data"
    },
    {
     "data": {
      "application/vnd.jupyter.widget-view+json": {
       "model_id": "130990ba6b934bd684ad7cad5b7f38e9",
       "version_major": 2,
       "version_minor": 0
      },
      "text/plain": [
       "VBox(children=(Label(value='0.003 MB of 0.003 MB uploaded (0.000 MB deduped)\\r'), FloatProgress(value=1.0, max…"
      ]
     },
     "metadata": {},
     "output_type": "display_data"
    },
    {
     "data": {
      "text/html": [
       "<style>\n",
       "    table.wandb td:nth-child(1) { padding: 0 10px; text-align: left ; width: auto;} td:nth-child(2) {text-align: left ; width: 100%}\n",
       "    .wandb-row { display: flex; flex-direction: row; flex-wrap: wrap; justify-content: flex-start; width: 100% }\n",
       "    .wandb-col { display: flex; flex-direction: column; flex-basis: 100%; flex: 1; padding: 10px; }\n",
       "    </style>\n",
       "<div class=\"wandb-row\"><div class=\"wandb-col\"><h3>Run history:</h3><br/><table class=\"wandb\"><tr><td>epoch</td><td>▁▂▃▃▄▅▆▆▇█</td></tr><tr><td>test_accuracy</td><td>▁</td></tr><tr><td>training_accuracy</td><td>▇▇█▇█▇▆▅▄▁</td></tr><tr><td>training_loss</td><td>█▂▁▁▁▁▂▃▄█</td></tr><tr><td>validation_accuracy</td><td>▇█████▆▅▅▁</td></tr></table><br/></div><div class=\"wandb-col\"><h3>Run summary:</h3><br/><table class=\"wandb\"><tr><td>epoch</td><td>10</td></tr><tr><td>test_accuracy</td><td>0.28979</td></tr><tr><td>training_accuracy</td><td>0.39008</td></tr><tr><td>training_loss</td><td>0.53447</td></tr><tr><td>validation_accuracy</td><td>0.34766</td></tr></table><br/></div></div>"
      ],
      "text/plain": [
       "<IPython.core.display.HTML object>"
      ]
     },
     "metadata": {},
     "output_type": "display_data"
    },
    {
     "data": {
      "text/html": [
       " View run <strong style=\"color:#cdcd00\">morning-sweep-1</strong> at: <a href='https://wandb.ai/cs20b013-bersilin/CS6910_Assn3_Attention_RNN/runs/h8x541yx' target=\"_blank\">https://wandb.ai/cs20b013-bersilin/CS6910_Assn3_Attention_RNN/runs/h8x541yx</a><br/>Synced 6 W&B file(s), 0 media file(s), 0 artifact file(s) and 0 other file(s)"
      ],
      "text/plain": [
       "<IPython.core.display.HTML object>"
      ]
     },
     "metadata": {},
     "output_type": "display_data"
    },
    {
     "data": {
      "text/html": [
       "Find logs at: <code>./wandb/run-20230519_190655-h8x541yx/logs</code>"
      ],
      "text/plain": [
       "<IPython.core.display.HTML object>"
      ]
     },
     "metadata": {},
     "output_type": "display_data"
    },
    {
     "name": "stderr",
     "output_type": "stream",
     "text": [
      "\u001b[34m\u001b[1mwandb\u001b[0m: Sweep Agent: Waiting for job.\n",
      "\u001b[34m\u001b[1mwandb\u001b[0m: Job received.\n",
      "\u001b[34m\u001b[1mwandb\u001b[0m: Agent Starting Run: yy0zsb5a with config:\n",
      "\u001b[34m\u001b[1mwandb\u001b[0m: \tcell_type: GRU\n",
      "\u001b[34m\u001b[1mwandb\u001b[0m: \tdropout: 0\n",
      "\u001b[34m\u001b[1mwandb\u001b[0m: \tembed_size: 8\n",
      "\u001b[34m\u001b[1mwandb\u001b[0m: \thidden_size: 512\n",
      "\u001b[34m\u001b[1mwandb\u001b[0m: \tlearning_rate: 0.001\n",
      "\u001b[34m\u001b[1mwandb\u001b[0m: \tmax_length: 50\n",
      "\u001b[34m\u001b[1mwandb\u001b[0m: \tnum_layers: 3\n",
      "\u001b[34m\u001b[1mwandb\u001b[0m: \toptimizer: SGD\n",
      "\u001b[34m\u001b[1mwandb\u001b[0m: \tteacher_forcing_ratio: 0.5\n",
      "\u001b[34m\u001b[1mwandb\u001b[0m: \tweight_decay: 0.001\n",
      "Failed to detect the name of this notebook, you can set it manually with the WANDB_NOTEBOOK_NAME environment variable to enable code saving.\n"
     ]
    },
    {
     "data": {
      "application/vnd.jupyter.widget-view+json": {
       "model_id": "51ee3b0973244cfbb107c64f969205ba",
       "version_major": 2,
       "version_minor": 0
      },
      "text/plain": [
       "VBox(children=(Label(value='Waiting for wandb.init()...\\r'), FloatProgress(value=0.016670416399999038, max=1.0…"
      ]
     },
     "metadata": {},
     "output_type": "display_data"
    },
    {
     "data": {
      "text/html": [
       "wandb version 0.15.3 is available!  To upgrade, please run:\n",
       " $ pip install wandb --upgrade"
      ],
      "text/plain": [
       "<IPython.core.display.HTML object>"
      ]
     },
     "metadata": {},
     "output_type": "display_data"
    },
    {
     "data": {
      "text/html": [
       "Tracking run with wandb version 0.15.1"
      ],
      "text/plain": [
       "<IPython.core.display.HTML object>"
      ]
     },
     "metadata": {},
     "output_type": "display_data"
    },
    {
     "data": {
      "text/html": [
       "Run data is saved locally in <code>/home/bersi/Documents/CS6910 Assignments/CS6910-Assignment3/Notebooks/wandb/run-20230519_210213-yy0zsb5a</code>"
      ],
      "text/plain": [
       "<IPython.core.display.HTML object>"
      ]
     },
     "metadata": {},
     "output_type": "display_data"
    },
    {
     "data": {
      "text/html": [
       "Syncing run <strong><a href='https://wandb.ai/cs20b013-bersilin/CS6910_Assn3_Attention_RNN/runs/yy0zsb5a' target=\"_blank\">dashing-sweep-2</a></strong> to <a href='https://wandb.ai/cs20b013-bersilin/CS6910_Assn3_Attention_RNN' target=\"_blank\">Weights & Biases</a> (<a href='https://wandb.me/run' target=\"_blank\">docs</a>)<br/>Sweep page: <a href='https://wandb.ai/cs20b013-bersilin/CS6910_Assn3_Attention_RNN/sweeps/w7rnszm2' target=\"_blank\">https://wandb.ai/cs20b013-bersilin/CS6910_Assn3_Attention_RNN/sweeps/w7rnszm2</a>"
      ],
      "text/plain": [
       "<IPython.core.display.HTML object>"
      ]
     },
     "metadata": {},
     "output_type": "display_data"
    },
    {
     "data": {
      "text/html": [
       " View project at <a href='https://wandb.ai/cs20b013-bersilin/CS6910_Assn3_Attention_RNN' target=\"_blank\">https://wandb.ai/cs20b013-bersilin/CS6910_Assn3_Attention_RNN</a>"
      ],
      "text/plain": [
       "<IPython.core.display.HTML object>"
      ]
     },
     "metadata": {},
     "output_type": "display_data"
    },
    {
     "data": {
      "text/html": [
       " View sweep at <a href='https://wandb.ai/cs20b013-bersilin/CS6910_Assn3_Attention_RNN/sweeps/w7rnszm2' target=\"_blank\">https://wandb.ai/cs20b013-bersilin/CS6910_Assn3_Attention_RNN/sweeps/w7rnszm2</a>"
      ],
      "text/plain": [
       "<IPython.core.display.HTML object>"
      ]
     },
     "metadata": {},
     "output_type": "display_data"
    },
    {
     "data": {
      "text/html": [
       " View run at <a href='https://wandb.ai/cs20b013-bersilin/CS6910_Assn3_Attention_RNN/runs/yy0zsb5a' target=\"_blank\">https://wandb.ai/cs20b013-bersilin/CS6910_Assn3_Attention_RNN/runs/yy0zsb5a</a>"
      ],
      "text/plain": [
       "<IPython.core.display.HTML object>"
      ]
     },
     "metadata": {},
     "output_type": "display_data"
    },
    {
     "name": "stdout",
     "output_type": "stream",
     "text": [
      "Epoch: 1\n",
      "Loss: 2.9706 | Iterations: 5000 | Time: 129.811\n",
      "Loss: 2.7834 | Iterations: 10000 | Time: 260.419\n",
      "Loss: 2.7395 | Iterations: 15000 | Time: 390.945\n",
      "Loss: 2.7098 | Iterations: 20000 | Time: 523.051\n",
      "Loss: 2.6703 | Iterations: 25000 | Time: 654.953\n",
      "Loss: 2.6006 | Iterations: 30000 | Time: 786.196\n",
      "Loss: 2.5411 | Iterations: 35000 | Time: 918.532\n",
      "Loss: 2.5141 | Iterations: 40000 | Time: 1050.254\n",
      "Loss: 2.4765 | Iterations: 45000 | Time: 1182.790\n",
      "Loss: 2.4570 | Iterations: 50000 | Time: 1314.785\n",
      "Training Accuracy: 0.0000\n",
      "Validation Accuracy: 0.0000\n",
      "Epoch: 2\n",
      "Loss: 2.4180 | Iterations: 5000 | Time: 130.975\n",
      "Loss: 2.3768 | Iterations: 10000 | Time: 263.530\n",
      "Loss: 2.3293 | Iterations: 15000 | Time: 395.597\n",
      "Loss: 2.2789 | Iterations: 20000 | Time: 528.774\n",
      "Loss: 2.2221 | Iterations: 25000 | Time: 660.648\n",
      "Loss: 2.1842 | Iterations: 30000 | Time: 793.496\n",
      "Loss: 2.1369 | Iterations: 35000 | Time: 925.962\n",
      "Loss: 2.0839 | Iterations: 40000 | Time: 1059.618\n",
      "Loss: 2.0235 | Iterations: 45000 | Time: 1192.205\n",
      "Loss: 1.9534 | Iterations: 50000 | Time: 1325.046\n",
      "Training Accuracy: 0.0002\n",
      "Validation Accuracy: 0.0020\n",
      "Epoch: 3\n",
      "Loss: 1.8714 | Iterations: 5000 | Time: 132.361\n",
      "Loss: 1.8030 | Iterations: 10000 | Time: 266.154\n",
      "Loss: 1.7255 | Iterations: 15000 | Time: 400.369\n",
      "Loss: 1.6782 | Iterations: 20000 | Time: 533.246\n",
      "Loss: 1.6113 | Iterations: 25000 | Time: 666.424\n",
      "Loss: 1.5342 | Iterations: 30000 | Time: 800.249\n",
      "Loss: 1.4604 | Iterations: 35000 | Time: 933.319\n",
      "Loss: 1.3848 | Iterations: 40000 | Time: 1067.554\n",
      "Loss: 1.3101 | Iterations: 45000 | Time: 1200.528\n",
      "Loss: 1.2481 | Iterations: 50000 | Time: 1334.397\n",
      "Training Accuracy: 0.0492\n",
      "Validation Accuracy: 0.1060\n",
      "Epoch: 4\n",
      "Loss: 1.1659 | Iterations: 5000 | Time: 133.539\n",
      "Loss: 1.0842 | Iterations: 10000 | Time: 268.037\n",
      "Loss: 1.0110 | Iterations: 15000 | Time: 402.102\n",
      "Loss: 0.9776 | Iterations: 20000 | Time: 536.056\n",
      "Loss: 0.9088 | Iterations: 25000 | Time: 670.124\n",
      "Loss: 0.8590 | Iterations: 30000 | Time: 804.864\n",
      "Loss: 0.8167 | Iterations: 35000 | Time: 938.910\n",
      "Loss: 0.7695 | Iterations: 40000 | Time: 1073.607\n",
      "Loss: 0.7390 | Iterations: 45000 | Time: 1207.989\n",
      "Loss: 0.6834 | Iterations: 50000 | Time: 1342.392\n",
      "Training Accuracy: 0.3073\n",
      "Validation Accuracy: 0.3503\n",
      "Epoch: 5\n",
      "Loss: 0.6312 | Iterations: 5000 | Time: 133.102\n",
      "Loss: 0.6068 | Iterations: 10000 | Time: 267.479\n",
      "Loss: 0.5834 | Iterations: 15000 | Time: 401.584\n",
      "Loss: 0.5656 | Iterations: 20000 | Time: 536.420\n",
      "Loss: 0.5436 | Iterations: 25000 | Time: 662.147\n",
      "Loss: 0.5250 | Iterations: 30000 | Time: 788.017\n",
      "Loss: 0.5035 | Iterations: 35000 | Time: 913.197\n",
      "Loss: 0.5101 | Iterations: 40000 | Time: 1037.852\n",
      "Loss: 0.4751 | Iterations: 45000 | Time: 1164.216\n",
      "Loss: 0.4469 | Iterations: 50000 | Time: 1294.628\n",
      "Training Accuracy: 0.4824\n",
      "Validation Accuracy: 0.4443\n",
      "Epoch: 6\n",
      "Loss: 0.4157 | Iterations: 5000 | Time: 117.156\n",
      "Loss: 0.4167 | Iterations: 10000 | Time: 234.126\n",
      "Loss: 0.4159 | Iterations: 15000 | Time: 350.685\n",
      "Loss: 0.3821 | Iterations: 20000 | Time: 467.673\n",
      "Loss: 0.3858 | Iterations: 25000 | Time: 586.772\n",
      "Loss: 0.3895 | Iterations: 30000 | Time: 699.631\n",
      "Loss: 0.3665 | Iterations: 35000 | Time: 818.999\n",
      "Loss: 0.3626 | Iterations: 40000 | Time: 936.002\n",
      "Loss: 0.3441 | Iterations: 45000 | Time: 1052.333\n",
      "Loss: 0.3513 | Iterations: 50000 | Time: 1170.195\n",
      "Training Accuracy: 0.5694\n",
      "Validation Accuracy: 0.4910\n",
      "Epoch: 7\n",
      "Loss: 0.3387 | Iterations: 5000 | Time: 135.656\n",
      "Loss: 0.3448 | Iterations: 10000 | Time: 287.103\n",
      "Loss: 0.3241 | Iterations: 15000 | Time: 428.079\n",
      "Loss: 0.3304 | Iterations: 20000 | Time: 566.405\n",
      "Loss: 0.3159 | Iterations: 25000 | Time: 701.779\n",
      "Loss: 0.3102 | Iterations: 30000 | Time: 833.331\n",
      "Loss: 0.2929 | Iterations: 35000 | Time: 961.777\n",
      "Loss: 0.3138 | Iterations: 40000 | Time: 1092.138\n",
      "Loss: 0.3102 | Iterations: 45000 | Time: 1222.540\n",
      "Loss: 0.2933 | Iterations: 50000 | Time: 1353.115\n",
      "Training Accuracy: 0.5896\n",
      "Validation Accuracy: 0.5051\n",
      "Epoch: 8\n",
      "Loss: 0.2662 | Iterations: 5000 | Time: 125.482\n",
      "Loss: 0.2592 | Iterations: 10000 | Time: 251.128\n",
      "Loss: 0.2672 | Iterations: 15000 | Time: 376.483\n",
      "Loss: 0.2772 | Iterations: 20000 | Time: 502.135\n",
      "Loss: 0.2722 | Iterations: 25000 | Time: 627.851\n",
      "Loss: 0.2713 | Iterations: 30000 | Time: 752.890\n",
      "Loss: 0.2951 | Iterations: 35000 | Time: 878.318\n",
      "Loss: 0.2784 | Iterations: 40000 | Time: 1003.807\n",
      "Loss: 0.2671 | Iterations: 45000 | Time: 1128.994\n",
      "Loss: 0.2610 | Iterations: 50000 | Time: 1251.928\n",
      "Training Accuracy: 0.6820\n",
      "Validation Accuracy: 0.5464\n",
      "Epoch: 9\n",
      "Loss: 0.2384 | Iterations: 5000 | Time: 109.474\n",
      "Loss: 0.2404 | Iterations: 10000 | Time: 219.197\n",
      "Loss: 0.2563 | Iterations: 15000 | Time: 329.071\n",
      "Loss: 0.2544 | Iterations: 20000 | Time: 438.343\n",
      "Loss: 0.2448 | Iterations: 25000 | Time: 548.339\n",
      "Loss: 0.2436 | Iterations: 30000 | Time: 658.775\n",
      "Loss: 0.2406 | Iterations: 35000 | Time: 768.758\n",
      "Loss: 0.2445 | Iterations: 40000 | Time: 878.038\n",
      "Loss: 0.2493 | Iterations: 45000 | Time: 988.277\n",
      "Loss: 0.2393 | Iterations: 50000 | Time: 1098.196\n",
      "Training Accuracy: 0.6625\n",
      "Validation Accuracy: 0.5449\n",
      "Epoch: 10\n",
      "Loss: 0.2215 | Iterations: 5000 | Time: 110.231\n",
      "Loss: 0.2189 | Iterations: 10000 | Time: 220.450\n",
      "Loss: 0.2084 | Iterations: 15000 | Time: 330.149\n",
      "Loss: 0.2126 | Iterations: 20000 | Time: 440.222\n",
      "Loss: 0.2122 | Iterations: 25000 | Time: 550.711\n",
      "Loss: 0.2236 | Iterations: 30000 | Time: 660.537\n",
      "Loss: 0.2231 | Iterations: 35000 | Time: 770.233\n",
      "Loss: 0.2250 | Iterations: 40000 | Time: 880.482\n",
      "Loss: 0.2083 | Iterations: 45000 | Time: 989.822\n",
      "Loss: 0.2227 | Iterations: 50000 | Time: 1099.205\n",
      "Training Accuracy: 0.7171\n",
      "Validation Accuracy: 0.5557\n",
      "Test Accuracy: 0.4492\n"
     ]
    },
    {
     "data": {
      "text/html": [
       "Waiting for W&B process to finish... <strong style=\"color:green\">(success).</strong>"
      ],
      "text/plain": [
       "<IPython.core.display.HTML object>"
      ]
     },
     "metadata": {},
     "output_type": "display_data"
    },
    {
     "data": {
      "application/vnd.jupyter.widget-view+json": {
       "model_id": "e7846fbc84054c48b0c0646da3c1edcd",
       "version_major": 2,
       "version_minor": 0
      },
      "text/plain": [
       "VBox(children=(Label(value='0.003 MB of 0.032 MB uploaded (0.000 MB deduped)\\r'), FloatProgress(value=0.100636…"
      ]
     },
     "metadata": {},
     "output_type": "display_data"
    },
    {
     "data": {
      "text/html": [
       "<style>\n",
       "    table.wandb td:nth-child(1) { padding: 0 10px; text-align: left ; width: auto;} td:nth-child(2) {text-align: left ; width: 100%}\n",
       "    .wandb-row { display: flex; flex-direction: row; flex-wrap: wrap; justify-content: flex-start; width: 100% }\n",
       "    .wandb-col { display: flex; flex-direction: column; flex-basis: 100%; flex: 1; padding: 10px; }\n",
       "    </style>\n",
       "<div class=\"wandb-row\"><div class=\"wandb-col\"><h3>Run history:</h3><br/><table class=\"wandb\"><tr><td>epoch</td><td>▁▂▃▃▄▅▆▆▇█</td></tr><tr><td>test_accuracy</td><td>▁</td></tr><tr><td>training_accuracy</td><td>▁▁▁▄▆▇▇█▇█</td></tr><tr><td>training_loss</td><td>█▇▅▃▂▁▁▁▁▁</td></tr><tr><td>validation_accuracy</td><td>▁▁▂▅▇▇▇███</td></tr></table><br/></div><div class=\"wandb-col\"><h3>Run summary:</h3><br/><table class=\"wandb\"><tr><td>epoch</td><td>10</td></tr><tr><td>test_accuracy</td><td>0.44922</td></tr><tr><td>training_accuracy</td><td>0.71713</td></tr><tr><td>training_loss</td><td>0.21812</td></tr><tr><td>validation_accuracy</td><td>0.55566</td></tr></table><br/></div></div>"
      ],
      "text/plain": [
       "<IPython.core.display.HTML object>"
      ]
     },
     "metadata": {},
     "output_type": "display_data"
    },
    {
     "data": {
      "text/html": [
       " View run <strong style=\"color:#cdcd00\">dashing-sweep-2</strong> at: <a href='https://wandb.ai/cs20b013-bersilin/CS6910_Assn3_Attention_RNN/runs/yy0zsb5a' target=\"_blank\">https://wandb.ai/cs20b013-bersilin/CS6910_Assn3_Attention_RNN/runs/yy0zsb5a</a><br/>Synced 6 W&B file(s), 0 media file(s), 0 artifact file(s) and 0 other file(s)"
      ],
      "text/plain": [
       "<IPython.core.display.HTML object>"
      ]
     },
     "metadata": {},
     "output_type": "display_data"
    },
    {
     "data": {
      "text/html": [
       "Find logs at: <code>./wandb/run-20230519_210213-yy0zsb5a/logs</code>"
      ],
      "text/plain": [
       "<IPython.core.display.HTML object>"
      ]
     },
     "metadata": {},
     "output_type": "display_data"
    },
    {
     "name": "stderr",
     "output_type": "stream",
     "text": [
      "\u001b[34m\u001b[1mwandb\u001b[0m: Agent Starting Run: 80lxbl3c with config:\n",
      "\u001b[34m\u001b[1mwandb\u001b[0m: \tcell_type: GRU\n",
      "\u001b[34m\u001b[1mwandb\u001b[0m: \tdropout: 0.1\n",
      "\u001b[34m\u001b[1mwandb\u001b[0m: \tembed_size: 32\n",
      "\u001b[34m\u001b[1mwandb\u001b[0m: \thidden_size: 128\n",
      "\u001b[34m\u001b[1mwandb\u001b[0m: \tlearning_rate: 0.0005\n",
      "\u001b[34m\u001b[1mwandb\u001b[0m: \tmax_length: 50\n",
      "\u001b[34m\u001b[1mwandb\u001b[0m: \tnum_layers: 2\n",
      "\u001b[34m\u001b[1mwandb\u001b[0m: \toptimizer: SGD\n",
      "\u001b[34m\u001b[1mwandb\u001b[0m: \tteacher_forcing_ratio: 0.5\n",
      "\u001b[34m\u001b[1mwandb\u001b[0m: \tweight_decay: 0.001\n",
      "Failed to detect the name of this notebook, you can set it manually with the WANDB_NOTEBOOK_NAME environment variable to enable code saving.\n"
     ]
    },
    {
     "data": {
      "text/html": [
       "wandb version 0.15.3 is available!  To upgrade, please run:\n",
       " $ pip install wandb --upgrade"
      ],
      "text/plain": [
       "<IPython.core.display.HTML object>"
      ]
     },
     "metadata": {},
     "output_type": "display_data"
    },
    {
     "data": {
      "text/html": [
       "Tracking run with wandb version 0.15.1"
      ],
      "text/plain": [
       "<IPython.core.display.HTML object>"
      ]
     },
     "metadata": {},
     "output_type": "display_data"
    },
    {
     "data": {
      "text/html": [
       "Run data is saved locally in <code>/home/bersi/Documents/CS6910 Assignments/CS6910-Assignment3/Notebooks/wandb/run-20230520_012048-80lxbl3c</code>"
      ],
      "text/plain": [
       "<IPython.core.display.HTML object>"
      ]
     },
     "metadata": {},
     "output_type": "display_data"
    },
    {
     "data": {
      "text/html": [
       "Syncing run <strong><a href='https://wandb.ai/cs20b013-bersilin/CS6910_Assn3_Attention_RNN/runs/80lxbl3c' target=\"_blank\">leafy-sweep-3</a></strong> to <a href='https://wandb.ai/cs20b013-bersilin/CS6910_Assn3_Attention_RNN' target=\"_blank\">Weights & Biases</a> (<a href='https://wandb.me/run' target=\"_blank\">docs</a>)<br/>Sweep page: <a href='https://wandb.ai/cs20b013-bersilin/CS6910_Assn3_Attention_RNN/sweeps/w7rnszm2' target=\"_blank\">https://wandb.ai/cs20b013-bersilin/CS6910_Assn3_Attention_RNN/sweeps/w7rnszm2</a>"
      ],
      "text/plain": [
       "<IPython.core.display.HTML object>"
      ]
     },
     "metadata": {},
     "output_type": "display_data"
    },
    {
     "data": {
      "text/html": [
       " View project at <a href='https://wandb.ai/cs20b013-bersilin/CS6910_Assn3_Attention_RNN' target=\"_blank\">https://wandb.ai/cs20b013-bersilin/CS6910_Assn3_Attention_RNN</a>"
      ],
      "text/plain": [
       "<IPython.core.display.HTML object>"
      ]
     },
     "metadata": {},
     "output_type": "display_data"
    },
    {
     "data": {
      "text/html": [
       " View sweep at <a href='https://wandb.ai/cs20b013-bersilin/CS6910_Assn3_Attention_RNN/sweeps/w7rnszm2' target=\"_blank\">https://wandb.ai/cs20b013-bersilin/CS6910_Assn3_Attention_RNN/sweeps/w7rnszm2</a>"
      ],
      "text/plain": [
       "<IPython.core.display.HTML object>"
      ]
     },
     "metadata": {},
     "output_type": "display_data"
    },
    {
     "data": {
      "text/html": [
       " View run at <a href='https://wandb.ai/cs20b013-bersilin/CS6910_Assn3_Attention_RNN/runs/80lxbl3c' target=\"_blank\">https://wandb.ai/cs20b013-bersilin/CS6910_Assn3_Attention_RNN/runs/80lxbl3c</a>"
      ],
      "text/plain": [
       "<IPython.core.display.HTML object>"
      ]
     },
     "metadata": {},
     "output_type": "display_data"
    },
    {
     "name": "stdout",
     "output_type": "stream",
     "text": [
      "Epoch: 1\n",
      "Loss: 3.1110 | Iterations: 5000 | Time: 53.285\n",
      "Loss: 2.8292 | Iterations: 10000 | Time: 104.164\n",
      "Loss: 2.7503 | Iterations: 15000 | Time: 155.200\n",
      "Loss: 2.6424 | Iterations: 20000 | Time: 206.733\n",
      "Loss: 2.5891 | Iterations: 25000 | Time: 258.548\n",
      "Loss: 2.5527 | Iterations: 30000 | Time: 310.265\n",
      "Loss: 2.5384 | Iterations: 35000 | Time: 362.280\n",
      "Loss: 2.5147 | Iterations: 40000 | Time: 414.661\n",
      "Loss: 2.4860 | Iterations: 45000 | Time: 466.971\n",
      "Loss: 2.4496 | Iterations: 50000 | Time: 519.022\n",
      "Training Accuracy: 0.0000\n",
      "Validation Accuracy: 0.0000\n",
      "Epoch: 2\n",
      "Loss: 2.4108 | Iterations: 5000 | Time: 52.481\n",
      "Loss: 2.3627 | Iterations: 10000 | Time: 104.827\n",
      "Loss: 2.3005 | Iterations: 15000 | Time: 156.873\n",
      "Loss: 2.2243 | Iterations: 20000 | Time: 209.381\n",
      "Loss: 2.1376 | Iterations: 25000 | Time: 261.383\n",
      "Loss: 2.0345 | Iterations: 30000 | Time: 313.712\n",
      "Loss: 1.9329 | Iterations: 35000 | Time: 366.191\n",
      "Loss: 1.8177 | Iterations: 40000 | Time: 418.347\n",
      "Loss: 1.7405 | Iterations: 45000 | Time: 470.448\n",
      "Loss: 1.6224 | Iterations: 50000 | Time: 522.949\n",
      "Training Accuracy: 0.0076\n",
      "Validation Accuracy: 0.0159\n",
      "Epoch: 3\n",
      "Loss: 1.4843 | Iterations: 5000 | Time: 52.558\n",
      "Loss: 1.3507 | Iterations: 10000 | Time: 105.335\n",
      "Loss: 1.2103 | Iterations: 15000 | Time: 158.365\n",
      "Loss: 1.1124 | Iterations: 20000 | Time: 211.249\n",
      "Loss: 1.0091 | Iterations: 25000 | Time: 264.219\n",
      "Loss: 0.9554 | Iterations: 30000 | Time: 317.435\n",
      "Loss: 0.8940 | Iterations: 35000 | Time: 370.268\n",
      "Loss: 0.8232 | Iterations: 40000 | Time: 423.039\n",
      "Loss: 0.7776 | Iterations: 45000 | Time: 475.961\n",
      "Loss: 0.7204 | Iterations: 50000 | Time: 529.120\n",
      "Training Accuracy: 0.2979\n",
      "Validation Accuracy: 0.2698\n",
      "Epoch: 4\n",
      "Loss: 0.6620 | Iterations: 5000 | Time: 53.346\n",
      "Loss: 0.6256 | Iterations: 10000 | Time: 106.953\n",
      "Loss: 0.5984 | Iterations: 15000 | Time: 160.179\n",
      "Loss: 0.5673 | Iterations: 20000 | Time: 213.100\n",
      "Loss: 0.5440 | Iterations: 25000 | Time: 266.376\n",
      "Loss: 0.5311 | Iterations: 30000 | Time: 319.692\n",
      "Loss: 0.5181 | Iterations: 35000 | Time: 372.479\n",
      "Loss: 0.4911 | Iterations: 40000 | Time: 425.522\n",
      "Loss: 0.4924 | Iterations: 45000 | Time: 478.801\n",
      "Loss: 0.4585 | Iterations: 50000 | Time: 531.724\n",
      "Training Accuracy: 0.4631\n",
      "Validation Accuracy: 0.3975\n",
      "Epoch: 5\n",
      "Loss: 0.4485 | Iterations: 5000 | Time: 53.417\n",
      "Loss: 0.4268 | Iterations: 10000 | Time: 106.514\n",
      "Loss: 0.4353 | Iterations: 15000 | Time: 159.505\n",
      "Loss: 0.4123 | Iterations: 20000 | Time: 212.367\n",
      "Loss: 0.4151 | Iterations: 25000 | Time: 265.544\n",
      "Loss: 0.4054 | Iterations: 30000 | Time: 318.937\n",
      "Loss: 0.3847 | Iterations: 35000 | Time: 372.261\n",
      "Loss: 0.3982 | Iterations: 40000 | Time: 425.361\n",
      "Loss: 0.3918 | Iterations: 45000 | Time: 478.458\n",
      "Loss: 0.3798 | Iterations: 50000 | Time: 531.780\n",
      "Training Accuracy: 0.5449\n",
      "Validation Accuracy: 0.4460\n",
      "Epoch: 6\n",
      "Loss: 0.3685 | Iterations: 5000 | Time: 53.129\n",
      "Loss: 0.3586 | Iterations: 10000 | Time: 106.285\n",
      "Loss: 0.3255 | Iterations: 15000 | Time: 159.548\n",
      "Loss: 0.3535 | Iterations: 20000 | Time: 212.888\n",
      "Loss: 0.3633 | Iterations: 25000 | Time: 265.989\n",
      "Loss: 0.3561 | Iterations: 30000 | Time: 319.110\n",
      "Loss: 0.3352 | Iterations: 35000 | Time: 372.426\n",
      "Loss: 0.3318 | Iterations: 40000 | Time: 425.873\n",
      "Loss: 0.3497 | Iterations: 45000 | Time: 479.078\n",
      "Loss: 0.3142 | Iterations: 50000 | Time: 532.405\n",
      "Training Accuracy: 0.5795\n",
      "Validation Accuracy: 0.4631\n",
      "Epoch: 7\n",
      "Loss: 0.3229 | Iterations: 5000 | Time: 53.304\n",
      "Loss: 0.3204 | Iterations: 10000 | Time: 106.493\n",
      "Loss: 0.3205 | Iterations: 15000 | Time: 159.768\n",
      "Loss: 0.3142 | Iterations: 20000 | Time: 212.945\n",
      "Loss: 0.3130 | Iterations: 25000 | Time: 266.122\n",
      "Loss: 0.2995 | Iterations: 30000 | Time: 319.315\n",
      "Loss: 0.3121 | Iterations: 35000 | Time: 372.421\n",
      "Loss: 0.2991 | Iterations: 40000 | Time: 425.819\n",
      "Loss: 0.2928 | Iterations: 45000 | Time: 478.965\n",
      "Loss: 0.3075 | Iterations: 50000 | Time: 532.258\n",
      "Training Accuracy: 0.5911\n",
      "Validation Accuracy: 0.4695\n",
      "Epoch: 8\n",
      "Loss: 0.2797 | Iterations: 5000 | Time: 53.350\n",
      "Loss: 0.2902 | Iterations: 10000 | Time: 106.312\n",
      "Loss: 0.2947 | Iterations: 15000 | Time: 159.376\n",
      "Loss: 0.2963 | Iterations: 20000 | Time: 212.618\n",
      "Loss: 0.2869 | Iterations: 25000 | Time: 266.044\n",
      "Loss: 0.3005 | Iterations: 30000 | Time: 319.124\n",
      "Loss: 0.2744 | Iterations: 35000 | Time: 372.122\n",
      "Loss: 0.2655 | Iterations: 40000 | Time: 425.210\n",
      "Loss: 0.2744 | Iterations: 45000 | Time: 478.386\n",
      "Loss: 0.2884 | Iterations: 50000 | Time: 531.725\n",
      "Training Accuracy: 0.6248\n",
      "Validation Accuracy: 0.4846\n",
      "Epoch: 9\n",
      "Loss: 0.2842 | Iterations: 5000 | Time: 53.030\n",
      "Loss: 0.2745 | Iterations: 10000 | Time: 106.440\n",
      "Loss: 0.2753 | Iterations: 15000 | Time: 159.426\n",
      "Loss: 0.2738 | Iterations: 20000 | Time: 212.776\n",
      "Loss: 0.2750 | Iterations: 25000 | Time: 265.718\n",
      "Loss: 0.2581 | Iterations: 30000 | Time: 319.200\n",
      "Loss: 0.2462 | Iterations: 35000 | Time: 372.469\n",
      "Loss: 0.2687 | Iterations: 40000 | Time: 425.953\n",
      "Loss: 0.2682 | Iterations: 45000 | Time: 479.260\n",
      "Loss: 0.2491 | Iterations: 50000 | Time: 532.811\n",
      "Training Accuracy: 0.6479\n",
      "Validation Accuracy: 0.5024\n",
      "Epoch: 10\n",
      "Loss: 0.2626 | Iterations: 5000 | Time: 53.272\n",
      "Loss: 0.2539 | Iterations: 10000 | Time: 106.716\n",
      "Loss: 0.2569 | Iterations: 15000 | Time: 159.854\n",
      "Loss: 0.2701 | Iterations: 20000 | Time: 212.837\n",
      "Loss: 0.2688 | Iterations: 25000 | Time: 266.049\n",
      "Loss: 0.2620 | Iterations: 30000 | Time: 319.141\n",
      "Loss: 0.2538 | Iterations: 35000 | Time: 372.540\n",
      "Loss: 0.2496 | Iterations: 40000 | Time: 425.677\n",
      "Loss: 0.2593 | Iterations: 45000 | Time: 479.199\n",
      "Loss: 0.2521 | Iterations: 50000 | Time: 532.681\n",
      "Training Accuracy: 0.6479\n",
      "Validation Accuracy: 0.4993\n",
      "Test Accuracy: 0.3889\n"
     ]
    },
    {
     "data": {
      "text/html": [
       "Waiting for W&B process to finish... <strong style=\"color:green\">(success).</strong>"
      ],
      "text/plain": [
       "<IPython.core.display.HTML object>"
      ]
     },
     "metadata": {},
     "output_type": "display_data"
    },
    {
     "data": {
      "application/vnd.jupyter.widget-view+json": {
       "model_id": "30fe2c5f06c74cb28f50c3b340cbb9a6",
       "version_major": 2,
       "version_minor": 0
      },
      "text/plain": [
       "VBox(children=(Label(value='0.003 MB of 0.003 MB uploaded (0.000 MB deduped)\\r'), FloatProgress(value=1.0, max…"
      ]
     },
     "metadata": {},
     "output_type": "display_data"
    },
    {
     "data": {
      "text/html": [
       "<style>\n",
       "    table.wandb td:nth-child(1) { padding: 0 10px; text-align: left ; width: auto;} td:nth-child(2) {text-align: left ; width: 100%}\n",
       "    .wandb-row { display: flex; flex-direction: row; flex-wrap: wrap; justify-content: flex-start; width: 100% }\n",
       "    .wandb-col { display: flex; flex-direction: column; flex-basis: 100%; flex: 1; padding: 10px; }\n",
       "    </style>\n",
       "<div class=\"wandb-row\"><div class=\"wandb-col\"><h3>Run history:</h3><br/><table class=\"wandb\"><tr><td>epoch</td><td>▁▂▃▃▄▅▆▆▇█</td></tr><tr><td>test_accuracy</td><td>▁</td></tr><tr><td>training_accuracy</td><td>▁▁▄▆▇▇▇███</td></tr><tr><td>training_loss</td><td>█▆▃▂▁▁▁▁▁▁</td></tr><tr><td>validation_accuracy</td><td>▁▁▅▇▇▇████</td></tr></table><br/></div><div class=\"wandb-col\"><h3>Run summary:</h3><br/><table class=\"wandb\"><tr><td>epoch</td><td>10</td></tr><tr><td>test_accuracy</td><td>0.38892</td></tr><tr><td>training_accuracy</td><td>0.64787</td></tr><tr><td>training_loss</td><td>0.25895</td></tr><tr><td>validation_accuracy</td><td>0.49927</td></tr></table><br/></div></div>"
      ],
      "text/plain": [
       "<IPython.core.display.HTML object>"
      ]
     },
     "metadata": {},
     "output_type": "display_data"
    },
    {
     "data": {
      "text/html": [
       " View run <strong style=\"color:#cdcd00\">leafy-sweep-3</strong> at: <a href='https://wandb.ai/cs20b013-bersilin/CS6910_Assn3_Attention_RNN/runs/80lxbl3c' target=\"_blank\">https://wandb.ai/cs20b013-bersilin/CS6910_Assn3_Attention_RNN/runs/80lxbl3c</a><br/>Synced 6 W&B file(s), 0 media file(s), 0 artifact file(s) and 0 other file(s)"
      ],
      "text/plain": [
       "<IPython.core.display.HTML object>"
      ]
     },
     "metadata": {},
     "output_type": "display_data"
    },
    {
     "data": {
      "text/html": [
       "Find logs at: <code>./wandb/run-20230520_012048-80lxbl3c/logs</code>"
      ],
      "text/plain": [
       "<IPython.core.display.HTML object>"
      ]
     },
     "metadata": {},
     "output_type": "display_data"
    },
    {
     "name": "stderr",
     "output_type": "stream",
     "text": [
      "\u001b[34m\u001b[1mwandb\u001b[0m: Agent Starting Run: ka8l4crk with config:\n",
      "\u001b[34m\u001b[1mwandb\u001b[0m: \tcell_type: RNN\n",
      "\u001b[34m\u001b[1mwandb\u001b[0m: \tdropout: 0.2\n",
      "\u001b[34m\u001b[1mwandb\u001b[0m: \tembed_size: 8\n",
      "\u001b[34m\u001b[1mwandb\u001b[0m: \thidden_size: 128\n",
      "\u001b[34m\u001b[1mwandb\u001b[0m: \tlearning_rate: 0.0005\n",
      "\u001b[34m\u001b[1mwandb\u001b[0m: \tmax_length: 50\n",
      "\u001b[34m\u001b[1mwandb\u001b[0m: \tnum_layers: 3\n",
      "\u001b[34m\u001b[1mwandb\u001b[0m: \toptimizer: SGD\n",
      "\u001b[34m\u001b[1mwandb\u001b[0m: \tteacher_forcing_ratio: 0.5\n",
      "\u001b[34m\u001b[1mwandb\u001b[0m: \tweight_decay: 0.1\n",
      "Failed to detect the name of this notebook, you can set it manually with the WANDB_NOTEBOOK_NAME environment variable to enable code saving.\n"
     ]
    },
    {
     "data": {
      "text/html": [
       "wandb version 0.15.3 is available!  To upgrade, please run:\n",
       " $ pip install wandb --upgrade"
      ],
      "text/plain": [
       "<IPython.core.display.HTML object>"
      ]
     },
     "metadata": {},
     "output_type": "display_data"
    },
    {
     "data": {
      "text/html": [
       "Tracking run with wandb version 0.15.1"
      ],
      "text/plain": [
       "<IPython.core.display.HTML object>"
      ]
     },
     "metadata": {},
     "output_type": "display_data"
    },
    {
     "data": {
      "text/html": [
       "Run data is saved locally in <code>/home/bersi/Documents/CS6910 Assignments/CS6910-Assignment3/Notebooks/wandb/run-20230520_032357-ka8l4crk</code>"
      ],
      "text/plain": [
       "<IPython.core.display.HTML object>"
      ]
     },
     "metadata": {},
     "output_type": "display_data"
    },
    {
     "data": {
      "text/html": [
       "Syncing run <strong><a href='https://wandb.ai/cs20b013-bersilin/CS6910_Assn3_Attention_RNN/runs/ka8l4crk' target=\"_blank\">radiant-sweep-4</a></strong> to <a href='https://wandb.ai/cs20b013-bersilin/CS6910_Assn3_Attention_RNN' target=\"_blank\">Weights & Biases</a> (<a href='https://wandb.me/run' target=\"_blank\">docs</a>)<br/>Sweep page: <a href='https://wandb.ai/cs20b013-bersilin/CS6910_Assn3_Attention_RNN/sweeps/w7rnszm2' target=\"_blank\">https://wandb.ai/cs20b013-bersilin/CS6910_Assn3_Attention_RNN/sweeps/w7rnszm2</a>"
      ],
      "text/plain": [
       "<IPython.core.display.HTML object>"
      ]
     },
     "metadata": {},
     "output_type": "display_data"
    },
    {
     "data": {
      "text/html": [
       " View project at <a href='https://wandb.ai/cs20b013-bersilin/CS6910_Assn3_Attention_RNN' target=\"_blank\">https://wandb.ai/cs20b013-bersilin/CS6910_Assn3_Attention_RNN</a>"
      ],
      "text/plain": [
       "<IPython.core.display.HTML object>"
      ]
     },
     "metadata": {},
     "output_type": "display_data"
    },
    {
     "data": {
      "text/html": [
       " View sweep at <a href='https://wandb.ai/cs20b013-bersilin/CS6910_Assn3_Attention_RNN/sweeps/w7rnszm2' target=\"_blank\">https://wandb.ai/cs20b013-bersilin/CS6910_Assn3_Attention_RNN/sweeps/w7rnszm2</a>"
      ],
      "text/plain": [
       "<IPython.core.display.HTML object>"
      ]
     },
     "metadata": {},
     "output_type": "display_data"
    },
    {
     "data": {
      "text/html": [
       " View run at <a href='https://wandb.ai/cs20b013-bersilin/CS6910_Assn3_Attention_RNN/runs/ka8l4crk' target=\"_blank\">https://wandb.ai/cs20b013-bersilin/CS6910_Assn3_Attention_RNN/runs/ka8l4crk</a>"
      ],
      "text/plain": [
       "<IPython.core.display.HTML object>"
      ]
     },
     "metadata": {},
     "output_type": "display_data"
    },
    {
     "name": "stdout",
     "output_type": "stream",
     "text": [
      "Epoch: 1\n",
      "Loss: 2.9697 | Iterations: 5000 | Time: 56.496\n",
      "Loss: 2.7558 | Iterations: 10000 | Time: 112.569\n",
      "Loss: 2.7505 | Iterations: 15000 | Time: 168.640\n",
      "Loss: 2.7551 | Iterations: 20000 | Time: 224.689\n",
      "Loss: 2.7539 | Iterations: 25000 | Time: 280.617\n",
      "Loss: 2.7408 | Iterations: 30000 | Time: 336.688\n",
      "Loss: 2.7433 | Iterations: 35000 | Time: 392.984\n",
      "Loss: 2.7401 | Iterations: 40000 | Time: 449.218\n",
      "Loss: 2.7355 | Iterations: 45000 | Time: 505.582\n",
      "Loss: 2.7331 | Iterations: 50000 | Time: 562.076\n",
      "Training Accuracy: 0.0000\n",
      "Validation Accuracy: 0.0000\n",
      "Epoch: 2\n",
      "Loss: 2.7396 | Iterations: 5000 | Time: 56.264\n",
      "Loss: 2.7369 | Iterations: 10000 | Time: 112.390\n",
      "Loss: 2.7330 | Iterations: 15000 | Time: 168.612\n",
      "Loss: 2.7346 | Iterations: 20000 | Time: 224.530\n",
      "Loss: 2.7381 | Iterations: 25000 | Time: 280.392\n",
      "Loss: 2.7306 | Iterations: 30000 | Time: 336.915\n",
      "Loss: 2.7302 | Iterations: 35000 | Time: 393.148\n",
      "Loss: 2.7259 | Iterations: 40000 | Time: 449.393\n",
      "Loss: 2.7255 | Iterations: 45000 | Time: 505.652\n",
      "Loss: 2.7360 | Iterations: 50000 | Time: 562.126\n",
      "Training Accuracy: 0.0000\n",
      "Validation Accuracy: 0.0000\n",
      "Test Accuracy: 0.0000\n"
     ]
    },
    {
     "data": {
      "text/html": [
       "Waiting for W&B process to finish... <strong style=\"color:green\">(success).</strong>"
      ],
      "text/plain": [
       "<IPython.core.display.HTML object>"
      ]
     },
     "metadata": {},
     "output_type": "display_data"
    },
    {
     "data": {
      "application/vnd.jupyter.widget-view+json": {
       "model_id": "a54fd3896c4d4109b9bb7808742b7d32",
       "version_major": 2,
       "version_minor": 0
      },
      "text/plain": [
       "VBox(children=(Label(value='0.003 MB of 0.003 MB uploaded (0.000 MB deduped)\\r'), FloatProgress(value=1.0, max…"
      ]
     },
     "metadata": {},
     "output_type": "display_data"
    },
    {
     "data": {
      "text/html": [
       "<style>\n",
       "    table.wandb td:nth-child(1) { padding: 0 10px; text-align: left ; width: auto;} td:nth-child(2) {text-align: left ; width: 100%}\n",
       "    .wandb-row { display: flex; flex-direction: row; flex-wrap: wrap; justify-content: flex-start; width: 100% }\n",
       "    .wandb-col { display: flex; flex-direction: column; flex-basis: 100%; flex: 1; padding: 10px; }\n",
       "    </style>\n",
       "<div class=\"wandb-row\"><div class=\"wandb-col\"><h3>Run history:</h3><br/><table class=\"wandb\"><tr><td>epoch</td><td>▁█</td></tr><tr><td>test_accuracy</td><td>▁</td></tr><tr><td>training_accuracy</td><td>▁▁</td></tr><tr><td>training_loss</td><td>█▁</td></tr><tr><td>validation_accuracy</td><td>▁▁</td></tr></table><br/></div><div class=\"wandb-col\"><h3>Run summary:</h3><br/><table class=\"wandb\"><tr><td>epoch</td><td>2</td></tr><tr><td>test_accuracy</td><td>0.0</td></tr><tr><td>training_accuracy</td><td>0.0</td></tr><tr><td>training_loss</td><td>2.7329</td></tr><tr><td>validation_accuracy</td><td>0.0</td></tr></table><br/></div></div>"
      ],
      "text/plain": [
       "<IPython.core.display.HTML object>"
      ]
     },
     "metadata": {},
     "output_type": "display_data"
    },
    {
     "data": {
      "text/html": [
       " View run <strong style=\"color:#cdcd00\">radiant-sweep-4</strong> at: <a href='https://wandb.ai/cs20b013-bersilin/CS6910_Assn3_Attention_RNN/runs/ka8l4crk' target=\"_blank\">https://wandb.ai/cs20b013-bersilin/CS6910_Assn3_Attention_RNN/runs/ka8l4crk</a><br/>Synced 6 W&B file(s), 0 media file(s), 0 artifact file(s) and 0 other file(s)"
      ],
      "text/plain": [
       "<IPython.core.display.HTML object>"
      ]
     },
     "metadata": {},
     "output_type": "display_data"
    },
    {
     "data": {
      "text/html": [
       "Find logs at: <code>./wandb/run-20230520_032357-ka8l4crk/logs</code>"
      ],
      "text/plain": [
       "<IPython.core.display.HTML object>"
      ]
     },
     "metadata": {},
     "output_type": "display_data"
    },
    {
     "name": "stderr",
     "output_type": "stream",
     "text": [
      "\u001b[34m\u001b[1mwandb\u001b[0m: Sweep Agent: Waiting for job.\n",
      "\u001b[34m\u001b[1mwandb\u001b[0m: Job received.\n",
      "\u001b[34m\u001b[1mwandb\u001b[0m: Agent Starting Run: 8s7o5ebl with config:\n",
      "\u001b[34m\u001b[1mwandb\u001b[0m: \tcell_type: LSTM\n",
      "\u001b[34m\u001b[1mwandb\u001b[0m: \tdropout: 0.2\n",
      "\u001b[34m\u001b[1mwandb\u001b[0m: \tembed_size: 16\n",
      "\u001b[34m\u001b[1mwandb\u001b[0m: \thidden_size: 512\n",
      "\u001b[34m\u001b[1mwandb\u001b[0m: \tlearning_rate: 0.0005\n",
      "\u001b[34m\u001b[1mwandb\u001b[0m: \tmax_length: 50\n",
      "\u001b[34m\u001b[1mwandb\u001b[0m: \tnum_layers: 2\n",
      "\u001b[34m\u001b[1mwandb\u001b[0m: \toptimizer: SGD\n",
      "\u001b[34m\u001b[1mwandb\u001b[0m: \tteacher_forcing_ratio: 0.5\n",
      "\u001b[34m\u001b[1mwandb\u001b[0m: \tweight_decay: 0.001\n",
      "Failed to detect the name of this notebook, you can set it manually with the WANDB_NOTEBOOK_NAME environment variable to enable code saving.\n"
     ]
    },
    {
     "data": {
      "text/html": [
       "wandb version 0.15.3 is available!  To upgrade, please run:\n",
       " $ pip install wandb --upgrade"
      ],
      "text/plain": [
       "<IPython.core.display.HTML object>"
      ]
     },
     "metadata": {},
     "output_type": "display_data"
    },
    {
     "data": {
      "text/html": [
       "Tracking run with wandb version 0.15.1"
      ],
      "text/plain": [
       "<IPython.core.display.HTML object>"
      ]
     },
     "metadata": {},
     "output_type": "display_data"
    },
    {
     "data": {
      "text/html": [
       "Run data is saved locally in <code>/home/bersi/Documents/CS6910 Assignments/CS6910-Assignment3/Notebooks/wandb/run-20230520_034903-8s7o5ebl</code>"
      ],
      "text/plain": [
       "<IPython.core.display.HTML object>"
      ]
     },
     "metadata": {},
     "output_type": "display_data"
    },
    {
     "data": {
      "text/html": [
       "Syncing run <strong><a href='https://wandb.ai/cs20b013-bersilin/CS6910_Assn3_Attention_RNN/runs/8s7o5ebl' target=\"_blank\">different-sweep-5</a></strong> to <a href='https://wandb.ai/cs20b013-bersilin/CS6910_Assn3_Attention_RNN' target=\"_blank\">Weights & Biases</a> (<a href='https://wandb.me/run' target=\"_blank\">docs</a>)<br/>Sweep page: <a href='https://wandb.ai/cs20b013-bersilin/CS6910_Assn3_Attention_RNN/sweeps/w7rnszm2' target=\"_blank\">https://wandb.ai/cs20b013-bersilin/CS6910_Assn3_Attention_RNN/sweeps/w7rnszm2</a>"
      ],
      "text/plain": [
       "<IPython.core.display.HTML object>"
      ]
     },
     "metadata": {},
     "output_type": "display_data"
    },
    {
     "data": {
      "text/html": [
       " View project at <a href='https://wandb.ai/cs20b013-bersilin/CS6910_Assn3_Attention_RNN' target=\"_blank\">https://wandb.ai/cs20b013-bersilin/CS6910_Assn3_Attention_RNN</a>"
      ],
      "text/plain": [
       "<IPython.core.display.HTML object>"
      ]
     },
     "metadata": {},
     "output_type": "display_data"
    },
    {
     "data": {
      "text/html": [
       " View sweep at <a href='https://wandb.ai/cs20b013-bersilin/CS6910_Assn3_Attention_RNN/sweeps/w7rnszm2' target=\"_blank\">https://wandb.ai/cs20b013-bersilin/CS6910_Assn3_Attention_RNN/sweeps/w7rnszm2</a>"
      ],
      "text/plain": [
       "<IPython.core.display.HTML object>"
      ]
     },
     "metadata": {},
     "output_type": "display_data"
    },
    {
     "data": {
      "text/html": [
       " View run at <a href='https://wandb.ai/cs20b013-bersilin/CS6910_Assn3_Attention_RNN/runs/8s7o5ebl' target=\"_blank\">https://wandb.ai/cs20b013-bersilin/CS6910_Assn3_Attention_RNN/runs/8s7o5ebl</a>"
      ],
      "text/plain": [
       "<IPython.core.display.HTML object>"
      ]
     },
     "metadata": {},
     "output_type": "display_data"
    },
    {
     "name": "stdout",
     "output_type": "stream",
     "text": [
      "Epoch: 1\n",
      "Loss: 3.2456 | Iterations: 5000 | Time: 97.152\n",
      "Loss: 2.9706 | Iterations: 10000 | Time: 193.306\n",
      "Loss: 2.8760 | Iterations: 15000 | Time: 287.368\n",
      "Loss: 2.8422 | Iterations: 20000 | Time: 380.593\n",
      "Loss: 2.8018 | Iterations: 25000 | Time: 473.521\n",
      "Loss: 2.7755 | Iterations: 30000 | Time: 566.565\n",
      "Loss: 2.7687 | Iterations: 35000 | Time: 660.274\n",
      "Loss: 2.7519 | Iterations: 40000 | Time: 755.053\n",
      "Loss: 2.7146 | Iterations: 45000 | Time: 849.305\n",
      "Loss: 2.7067 | Iterations: 50000 | Time: 944.518\n",
      "Training Accuracy: 0.0000\n",
      "Validation Accuracy: 0.0000\n",
      "Epoch: 2\n",
      "Loss: 2.6805 | Iterations: 5000 | Time: 95.134\n",
      "Loss: 2.6626 | Iterations: 10000 | Time: 191.217\n",
      "Loss: 2.6222 | Iterations: 15000 | Time: 286.141\n",
      "Loss: 2.5787 | Iterations: 20000 | Time: 381.765\n",
      "Loss: 2.5546 | Iterations: 25000 | Time: 477.764\n",
      "Loss: 2.5297 | Iterations: 30000 | Time: 573.997\n",
      "Loss: 2.5151 | Iterations: 35000 | Time: 670.403\n",
      "Loss: 2.5044 | Iterations: 40000 | Time: 766.386\n",
      "Loss: 2.4941 | Iterations: 45000 | Time: 862.082\n",
      "Loss: 2.4784 | Iterations: 50000 | Time: 958.602\n",
      "Training Accuracy: 0.0000\n",
      "Validation Accuracy: 0.0000\n",
      "Test Accuracy: 0.0000\n"
     ]
    },
    {
     "data": {
      "text/html": [
       "Waiting for W&B process to finish... <strong style=\"color:green\">(success).</strong>"
      ],
      "text/plain": [
       "<IPython.core.display.HTML object>"
      ]
     },
     "metadata": {},
     "output_type": "display_data"
    },
    {
     "data": {
      "text/html": [
       "<style>\n",
       "    table.wandb td:nth-child(1) { padding: 0 10px; text-align: left ; width: auto;} td:nth-child(2) {text-align: left ; width: 100%}\n",
       "    .wandb-row { display: flex; flex-direction: row; flex-wrap: wrap; justify-content: flex-start; width: 100% }\n",
       "    .wandb-col { display: flex; flex-direction: column; flex-basis: 100%; flex: 1; padding: 10px; }\n",
       "    </style>\n",
       "<div class=\"wandb-row\"><div class=\"wandb-col\"><h3>Run history:</h3><br/><table class=\"wandb\"><tr><td>epoch</td><td>▁█</td></tr><tr><td>test_accuracy</td><td>▁</td></tr><tr><td>training_accuracy</td><td>▁▁</td></tr><tr><td>training_loss</td><td>█▁</td></tr><tr><td>validation_accuracy</td><td>▁▁</td></tr></table><br/></div><div class=\"wandb-col\"><h3>Run summary:</h3><br/><table class=\"wandb\"><tr><td>epoch</td><td>2</td></tr><tr><td>test_accuracy</td><td>0.0</td></tr><tr><td>training_accuracy</td><td>0.0</td></tr><tr><td>training_loss</td><td>2.56028</td></tr><tr><td>validation_accuracy</td><td>0.0</td></tr></table><br/></div></div>"
      ],
      "text/plain": [
       "<IPython.core.display.HTML object>"
      ]
     },
     "metadata": {},
     "output_type": "display_data"
    },
    {
     "data": {
      "text/html": [
       " View run <strong style=\"color:#cdcd00\">different-sweep-5</strong> at: <a href='https://wandb.ai/cs20b013-bersilin/CS6910_Assn3_Attention_RNN/runs/8s7o5ebl' target=\"_blank\">https://wandb.ai/cs20b013-bersilin/CS6910_Assn3_Attention_RNN/runs/8s7o5ebl</a><br/>Synced 6 W&B file(s), 0 media file(s), 0 artifact file(s) and 0 other file(s)"
      ],
      "text/plain": [
       "<IPython.core.display.HTML object>"
      ]
     },
     "metadata": {},
     "output_type": "display_data"
    },
    {
     "data": {
      "text/html": [
       "Find logs at: <code>./wandb/run-20230520_034903-8s7o5ebl/logs</code>"
      ],
      "text/plain": [
       "<IPython.core.display.HTML object>"
      ]
     },
     "metadata": {},
     "output_type": "display_data"
    },
    {
     "name": "stderr",
     "output_type": "stream",
     "text": [
      "\u001b[34m\u001b[1mwandb\u001b[0m: Agent Starting Run: aaq0n13f with config:\n",
      "\u001b[34m\u001b[1mwandb\u001b[0m: \tcell_type: GRU\n",
      "\u001b[34m\u001b[1mwandb\u001b[0m: \tdropout: 0.2\n",
      "\u001b[34m\u001b[1mwandb\u001b[0m: \tembed_size: 16\n",
      "\u001b[34m\u001b[1mwandb\u001b[0m: \thidden_size: 256\n",
      "\u001b[34m\u001b[1mwandb\u001b[0m: \tlearning_rate: 0.001\n",
      "\u001b[34m\u001b[1mwandb\u001b[0m: \tmax_length: 50\n",
      "\u001b[34m\u001b[1mwandb\u001b[0m: \tnum_layers: 3\n",
      "\u001b[34m\u001b[1mwandb\u001b[0m: \toptimizer: SGD\n",
      "\u001b[34m\u001b[1mwandb\u001b[0m: \tteacher_forcing_ratio: 0.5\n",
      "\u001b[34m\u001b[1mwandb\u001b[0m: \tweight_decay: 1e-05\n",
      "Failed to detect the name of this notebook, you can set it manually with the WANDB_NOTEBOOK_NAME environment variable to enable code saving.\n"
     ]
    },
    {
     "data": {
      "application/vnd.jupyter.widget-view+json": {
       "model_id": "f73512e86ebb44b4ae4cb5540345e1cb",
       "version_major": 2,
       "version_minor": 0
      },
      "text/plain": [
       "VBox(children=(Label(value='Waiting for wandb.init()...\\r'), FloatProgress(value=0.016671147183418118, max=1.0…"
      ]
     },
     "metadata": {},
     "output_type": "display_data"
    },
    {
     "data": {
      "text/html": [
       "wandb version 0.15.3 is available!  To upgrade, please run:\n",
       " $ pip install wandb --upgrade"
      ],
      "text/plain": [
       "<IPython.core.display.HTML object>"
      ]
     },
     "metadata": {},
     "output_type": "display_data"
    },
    {
     "data": {
      "text/html": [
       "Tracking run with wandb version 0.15.1"
      ],
      "text/plain": [
       "<IPython.core.display.HTML object>"
      ]
     },
     "metadata": {},
     "output_type": "display_data"
    },
    {
     "data": {
      "text/html": [
       "Run data is saved locally in <code>/home/bersi/Documents/CS6910 Assignments/CS6910-Assignment3/Notebooks/wandb/run-20230520_042919-aaq0n13f</code>"
      ],
      "text/plain": [
       "<IPython.core.display.HTML object>"
      ]
     },
     "metadata": {},
     "output_type": "display_data"
    },
    {
     "data": {
      "text/html": [
       "Syncing run <strong><a href='https://wandb.ai/cs20b013-bersilin/CS6910_Assn3_Attention_RNN/runs/aaq0n13f' target=\"_blank\">sweepy-sweep-6</a></strong> to <a href='https://wandb.ai/cs20b013-bersilin/CS6910_Assn3_Attention_RNN' target=\"_blank\">Weights & Biases</a> (<a href='https://wandb.me/run' target=\"_blank\">docs</a>)<br/>Sweep page: <a href='https://wandb.ai/cs20b013-bersilin/CS6910_Assn3_Attention_RNN/sweeps/w7rnszm2' target=\"_blank\">https://wandb.ai/cs20b013-bersilin/CS6910_Assn3_Attention_RNN/sweeps/w7rnszm2</a>"
      ],
      "text/plain": [
       "<IPython.core.display.HTML object>"
      ]
     },
     "metadata": {},
     "output_type": "display_data"
    },
    {
     "data": {
      "text/html": [
       " View project at <a href='https://wandb.ai/cs20b013-bersilin/CS6910_Assn3_Attention_RNN' target=\"_blank\">https://wandb.ai/cs20b013-bersilin/CS6910_Assn3_Attention_RNN</a>"
      ],
      "text/plain": [
       "<IPython.core.display.HTML object>"
      ]
     },
     "metadata": {},
     "output_type": "display_data"
    },
    {
     "data": {
      "text/html": [
       " View sweep at <a href='https://wandb.ai/cs20b013-bersilin/CS6910_Assn3_Attention_RNN/sweeps/w7rnszm2' target=\"_blank\">https://wandb.ai/cs20b013-bersilin/CS6910_Assn3_Attention_RNN/sweeps/w7rnszm2</a>"
      ],
      "text/plain": [
       "<IPython.core.display.HTML object>"
      ]
     },
     "metadata": {},
     "output_type": "display_data"
    },
    {
     "data": {
      "text/html": [
       " View run at <a href='https://wandb.ai/cs20b013-bersilin/CS6910_Assn3_Attention_RNN/runs/aaq0n13f' target=\"_blank\">https://wandb.ai/cs20b013-bersilin/CS6910_Assn3_Attention_RNN/runs/aaq0n13f</a>"
      ],
      "text/plain": [
       "<IPython.core.display.HTML object>"
      ]
     },
     "metadata": {},
     "output_type": "display_data"
    },
    {
     "name": "stdout",
     "output_type": "stream",
     "text": [
      "Epoch: 1\n",
      "Loss: 2.9296 | Iterations: 5000 | Time: 60.141\n",
      "Loss: 2.7838 | Iterations: 10000 | Time: 120.060\n",
      "Loss: 2.7294 | Iterations: 15000 | Time: 180.538\n",
      "Loss: 2.6799 | Iterations: 20000 | Time: 241.404\n",
      "Loss: 2.6193 | Iterations: 25000 | Time: 302.395\n",
      "Loss: 2.5639 | Iterations: 30000 | Time: 364.243\n",
      "Loss: 2.5163 | Iterations: 35000 | Time: 426.340\n",
      "Loss: 2.4817 | Iterations: 40000 | Time: 488.105\n",
      "Loss: 2.4501 | Iterations: 45000 | Time: 550.080\n",
      "Loss: 2.4072 | Iterations: 50000 | Time: 611.584\n",
      "Training Accuracy: 0.0000\n",
      "Validation Accuracy: 0.0000\n",
      "Epoch: 2\n",
      "Loss: 2.3553 | Iterations: 5000 | Time: 60.612\n",
      "Loss: 2.3135 | Iterations: 10000 | Time: 121.208\n",
      "Loss: 2.2435 | Iterations: 15000 | Time: 182.832\n",
      "Loss: 2.1839 | Iterations: 20000 | Time: 243.840\n",
      "Loss: 2.1106 | Iterations: 25000 | Time: 305.580\n",
      "Loss: 2.0353 | Iterations: 30000 | Time: 367.221\n",
      "Loss: 1.9357 | Iterations: 35000 | Time: 429.709\n",
      "Loss: 1.8429 | Iterations: 40000 | Time: 491.926\n",
      "Loss: 1.7682 | Iterations: 45000 | Time: 554.510\n",
      "Loss: 1.6830 | Iterations: 50000 | Time: 616.701\n",
      "Training Accuracy: 0.0027\n",
      "Validation Accuracy: 0.0137\n",
      "Epoch: 3\n",
      "Loss: 1.5808 | Iterations: 5000 | Time: 61.524\n",
      "Loss: 1.5004 | Iterations: 10000 | Time: 123.473\n",
      "Loss: 1.4092 | Iterations: 15000 | Time: 185.210\n",
      "Loss: 1.3401 | Iterations: 20000 | Time: 247.599\n",
      "Loss: 1.2547 | Iterations: 25000 | Time: 309.872\n",
      "Loss: 1.2115 | Iterations: 30000 | Time: 372.107\n",
      "Loss: 1.1287 | Iterations: 35000 | Time: 434.951\n",
      "Loss: 1.0620 | Iterations: 40000 | Time: 498.202\n",
      "Loss: 0.9947 | Iterations: 45000 | Time: 560.745\n",
      "Loss: 0.9764 | Iterations: 50000 | Time: 624.002\n",
      "Training Accuracy: 0.1189\n",
      "Validation Accuracy: 0.1973\n",
      "Epoch: 4\n",
      "Loss: 0.9043 | Iterations: 5000 | Time: 61.623\n",
      "Loss: 0.8662 | Iterations: 10000 | Time: 123.321\n",
      "Loss: 0.8192 | Iterations: 15000 | Time: 185.608\n",
      "Loss: 0.8069 | Iterations: 20000 | Time: 248.032\n",
      "Loss: 0.7709 | Iterations: 25000 | Time: 310.133\n",
      "Loss: 0.7401 | Iterations: 30000 | Time: 372.809\n",
      "Loss: 0.7057 | Iterations: 35000 | Time: 435.650\n",
      "Loss: 0.6791 | Iterations: 40000 | Time: 498.511\n",
      "Loss: 0.6593 | Iterations: 45000 | Time: 561.648\n",
      "Loss: 0.6158 | Iterations: 50000 | Time: 624.791\n",
      "Training Accuracy: 0.3274\n",
      "Validation Accuracy: 0.3679\n",
      "Epoch: 5\n",
      "Loss: 0.5879 | Iterations: 5000 | Time: 61.751\n",
      "Loss: 0.5672 | Iterations: 10000 | Time: 123.542\n",
      "Loss: 0.5714 | Iterations: 15000 | Time: 185.800\n",
      "Loss: 0.5432 | Iterations: 20000 | Time: 247.930\n",
      "Loss: 0.5312 | Iterations: 25000 | Time: 311.089\n",
      "Loss: 0.5115 | Iterations: 30000 | Time: 374.255\n",
      "Loss: 0.4979 | Iterations: 35000 | Time: 437.258\n",
      "Loss: 0.4959 | Iterations: 40000 | Time: 500.339\n",
      "Loss: 0.4906 | Iterations: 45000 | Time: 563.291\n",
      "Loss: 0.4712 | Iterations: 50000 | Time: 625.983\n",
      "Training Accuracy: 0.4232\n",
      "Validation Accuracy: 0.4070\n",
      "Epoch: 6\n",
      "Loss: 0.4366 | Iterations: 5000 | Time: 61.756\n",
      "Loss: 0.4193 | Iterations: 10000 | Time: 124.051\n",
      "Loss: 0.4197 | Iterations: 15000 | Time: 186.085\n",
      "Loss: 0.4273 | Iterations: 20000 | Time: 248.622\n",
      "Loss: 0.4022 | Iterations: 25000 | Time: 311.077\n",
      "Loss: 0.4049 | Iterations: 30000 | Time: 373.769\n",
      "Loss: 0.3953 | Iterations: 35000 | Time: 436.981\n",
      "Loss: 0.3961 | Iterations: 40000 | Time: 499.729\n",
      "Loss: 0.3962 | Iterations: 45000 | Time: 562.483\n",
      "Loss: 0.3818 | Iterations: 50000 | Time: 625.217\n",
      "Training Accuracy: 0.5122\n",
      "Validation Accuracy: 0.4683\n",
      "Epoch: 7\n",
      "Loss: 0.3564 | Iterations: 5000 | Time: 61.886\n",
      "Loss: 0.3552 | Iterations: 10000 | Time: 124.308\n",
      "Loss: 0.3534 | Iterations: 15000 | Time: 187.028\n",
      "Loss: 0.3427 | Iterations: 20000 | Time: 249.340\n",
      "Loss: 0.3438 | Iterations: 25000 | Time: 311.868\n",
      "Loss: 0.3504 | Iterations: 30000 | Time: 374.421\n",
      "Loss: 0.3323 | Iterations: 35000 | Time: 437.347\n",
      "Loss: 0.3362 | Iterations: 40000 | Time: 500.645\n",
      "Loss: 0.3298 | Iterations: 45000 | Time: 562.980\n",
      "Loss: 0.3311 | Iterations: 50000 | Time: 625.828\n",
      "Training Accuracy: 0.5735\n",
      "Validation Accuracy: 0.5015\n",
      "Epoch: 8\n",
      "Loss: 0.2974 | Iterations: 5000 | Time: 62.166\n",
      "Loss: 0.3032 | Iterations: 10000 | Time: 123.794\n",
      "Loss: 0.3023 | Iterations: 15000 | Time: 186.065\n",
      "Loss: 0.3130 | Iterations: 20000 | Time: 248.664\n",
      "Loss: 0.2955 | Iterations: 25000 | Time: 312.012\n",
      "Loss: 0.3010 | Iterations: 30000 | Time: 375.112\n",
      "Loss: 0.3051 | Iterations: 35000 | Time: 437.884\n",
      "Loss: 0.3153 | Iterations: 40000 | Time: 500.958\n",
      "Loss: 0.2942 | Iterations: 45000 | Time: 563.928\n",
      "Loss: 0.2825 | Iterations: 50000 | Time: 627.330\n",
      "Training Accuracy: 0.5881\n",
      "Validation Accuracy: 0.5105\n",
      "Epoch: 9\n",
      "Loss: 0.2782 | Iterations: 5000 | Time: 61.898\n",
      "Loss: 0.2638 | Iterations: 10000 | Time: 124.114\n",
      "Loss: 0.2876 | Iterations: 15000 | Time: 186.748\n",
      "Loss: 0.2643 | Iterations: 20000 | Time: 249.834\n",
      "Loss: 0.2579 | Iterations: 25000 | Time: 313.079\n",
      "Loss: 0.2632 | Iterations: 30000 | Time: 375.864\n",
      "Loss: 0.2675 | Iterations: 35000 | Time: 439.673\n",
      "Loss: 0.2873 | Iterations: 40000 | Time: 502.460\n",
      "Loss: 0.2554 | Iterations: 45000 | Time: 565.131\n",
      "Loss: 0.2597 | Iterations: 50000 | Time: 627.737\n",
      "Training Accuracy: 0.6115\n",
      "Validation Accuracy: 0.5105\n",
      "Epoch: 10\n",
      "Loss: 0.2447 | Iterations: 5000 | Time: 62.227\n",
      "Loss: 0.2406 | Iterations: 10000 | Time: 124.244\n",
      "Loss: 0.2470 | Iterations: 15000 | Time: 186.820\n",
      "Loss: 0.2493 | Iterations: 20000 | Time: 249.237\n",
      "Loss: 0.2404 | Iterations: 25000 | Time: 312.276\n",
      "Loss: 0.2387 | Iterations: 30000 | Time: 374.973\n",
      "Loss: 0.2336 | Iterations: 35000 | Time: 437.757\n",
      "Loss: 0.2326 | Iterations: 40000 | Time: 500.836\n",
      "Loss: 0.2499 | Iterations: 45000 | Time: 563.841\n",
      "Loss: 0.2511 | Iterations: 50000 | Time: 626.889\n",
      "Training Accuracy: 0.6688\n",
      "Validation Accuracy: 0.5339\n",
      "Test Accuracy: 0.4475\n"
     ]
    },
    {
     "data": {
      "text/html": [
       "Waiting for W&B process to finish... <strong style=\"color:green\">(success).</strong>"
      ],
      "text/plain": [
       "<IPython.core.display.HTML object>"
      ]
     },
     "metadata": {},
     "output_type": "display_data"
    },
    {
     "data": {
      "text/html": [
       "<style>\n",
       "    table.wandb td:nth-child(1) { padding: 0 10px; text-align: left ; width: auto;} td:nth-child(2) {text-align: left ; width: 100%}\n",
       "    .wandb-row { display: flex; flex-direction: row; flex-wrap: wrap; justify-content: flex-start; width: 100% }\n",
       "    .wandb-col { display: flex; flex-direction: column; flex-basis: 100%; flex: 1; padding: 10px; }\n",
       "    </style>\n",
       "<div class=\"wandb-row\"><div class=\"wandb-col\"><h3>Run history:</h3><br/><table class=\"wandb\"><tr><td>epoch</td><td>▁▂▃▃▄▅▆▆▇█</td></tr><tr><td>test_accuracy</td><td>▁</td></tr><tr><td>training_accuracy</td><td>▁▁▂▄▅▆▇▇▇█</td></tr><tr><td>training_loss</td><td>█▆▄▃▂▁▁▁▁▁</td></tr><tr><td>validation_accuracy</td><td>▁▁▄▆▆▇████</td></tr></table><br/></div><div class=\"wandb-col\"><h3>Run summary:</h3><br/><table class=\"wandb\"><tr><td>epoch</td><td>10</td></tr><tr><td>test_accuracy</td><td>0.44751</td></tr><tr><td>training_accuracy</td><td>0.66881</td></tr><tr><td>training_loss</td><td>0.24291</td></tr><tr><td>validation_accuracy</td><td>0.53394</td></tr></table><br/></div></div>"
      ],
      "text/plain": [
       "<IPython.core.display.HTML object>"
      ]
     },
     "metadata": {},
     "output_type": "display_data"
    },
    {
     "data": {
      "text/html": [
       " View run <strong style=\"color:#cdcd00\">sweepy-sweep-6</strong> at: <a href='https://wandb.ai/cs20b013-bersilin/CS6910_Assn3_Attention_RNN/runs/aaq0n13f' target=\"_blank\">https://wandb.ai/cs20b013-bersilin/CS6910_Assn3_Attention_RNN/runs/aaq0n13f</a><br/>Synced 6 W&B file(s), 0 media file(s), 0 artifact file(s) and 0 other file(s)"
      ],
      "text/plain": [
       "<IPython.core.display.HTML object>"
      ]
     },
     "metadata": {},
     "output_type": "display_data"
    },
    {
     "data": {
      "text/html": [
       "Find logs at: <code>./wandb/run-20230520_042919-aaq0n13f/logs</code>"
      ],
      "text/plain": [
       "<IPython.core.display.HTML object>"
      ]
     },
     "metadata": {},
     "output_type": "display_data"
    },
    {
     "name": "stderr",
     "output_type": "stream",
     "text": [
      "\u001b[34m\u001b[1mwandb\u001b[0m: Agent Starting Run: slajca6b with config:\n",
      "\u001b[34m\u001b[1mwandb\u001b[0m: \tcell_type: GRU\n",
      "\u001b[34m\u001b[1mwandb\u001b[0m: \tdropout: 0.1\n",
      "\u001b[34m\u001b[1mwandb\u001b[0m: \tembed_size: 16\n",
      "\u001b[34m\u001b[1mwandb\u001b[0m: \thidden_size: 512\n",
      "\u001b[34m\u001b[1mwandb\u001b[0m: \tlearning_rate: 0.001\n",
      "\u001b[34m\u001b[1mwandb\u001b[0m: \tmax_length: 50\n",
      "\u001b[34m\u001b[1mwandb\u001b[0m: \tnum_layers: 3\n",
      "\u001b[34m\u001b[1mwandb\u001b[0m: \toptimizer: ADAM\n",
      "\u001b[34m\u001b[1mwandb\u001b[0m: \tteacher_forcing_ratio: 0.5\n",
      "\u001b[34m\u001b[1mwandb\u001b[0m: \tweight_decay: 1e-05\n",
      "Failed to detect the name of this notebook, you can set it manually with the WANDB_NOTEBOOK_NAME environment variable to enable code saving.\n"
     ]
    },
    {
     "data": {
      "text/html": [
       "wandb version 0.15.3 is available!  To upgrade, please run:\n",
       " $ pip install wandb --upgrade"
      ],
      "text/plain": [
       "<IPython.core.display.HTML object>"
      ]
     },
     "metadata": {},
     "output_type": "display_data"
    },
    {
     "data": {
      "text/html": [
       "Tracking run with wandb version 0.15.1"
      ],
      "text/plain": [
       "<IPython.core.display.HTML object>"
      ]
     },
     "metadata": {},
     "output_type": "display_data"
    },
    {
     "data": {
      "text/html": [
       "Run data is saved locally in <code>/home/bersi/Documents/CS6910 Assignments/CS6910-Assignment3/Notebooks/wandb/run-20230520_065009-slajca6b</code>"
      ],
      "text/plain": [
       "<IPython.core.display.HTML object>"
      ]
     },
     "metadata": {},
     "output_type": "display_data"
    },
    {
     "data": {
      "text/html": [
       "Syncing run <strong><a href='https://wandb.ai/cs20b013-bersilin/CS6910_Assn3_Attention_RNN/runs/slajca6b' target=\"_blank\">fresh-sweep-7</a></strong> to <a href='https://wandb.ai/cs20b013-bersilin/CS6910_Assn3_Attention_RNN' target=\"_blank\">Weights & Biases</a> (<a href='https://wandb.me/run' target=\"_blank\">docs</a>)<br/>Sweep page: <a href='https://wandb.ai/cs20b013-bersilin/CS6910_Assn3_Attention_RNN/sweeps/w7rnszm2' target=\"_blank\">https://wandb.ai/cs20b013-bersilin/CS6910_Assn3_Attention_RNN/sweeps/w7rnszm2</a>"
      ],
      "text/plain": [
       "<IPython.core.display.HTML object>"
      ]
     },
     "metadata": {},
     "output_type": "display_data"
    },
    {
     "data": {
      "text/html": [
       " View project at <a href='https://wandb.ai/cs20b013-bersilin/CS6910_Assn3_Attention_RNN' target=\"_blank\">https://wandb.ai/cs20b013-bersilin/CS6910_Assn3_Attention_RNN</a>"
      ],
      "text/plain": [
       "<IPython.core.display.HTML object>"
      ]
     },
     "metadata": {},
     "output_type": "display_data"
    },
    {
     "data": {
      "text/html": [
       " View sweep at <a href='https://wandb.ai/cs20b013-bersilin/CS6910_Assn3_Attention_RNN/sweeps/w7rnszm2' target=\"_blank\">https://wandb.ai/cs20b013-bersilin/CS6910_Assn3_Attention_RNN/sweeps/w7rnszm2</a>"
      ],
      "text/plain": [
       "<IPython.core.display.HTML object>"
      ]
     },
     "metadata": {},
     "output_type": "display_data"
    },
    {
     "data": {
      "text/html": [
       " View run at <a href='https://wandb.ai/cs20b013-bersilin/CS6910_Assn3_Attention_RNN/runs/slajca6b' target=\"_blank\">https://wandb.ai/cs20b013-bersilin/CS6910_Assn3_Attention_RNN/runs/slajca6b</a>"
      ],
      "text/plain": [
       "<IPython.core.display.HTML object>"
      ]
     },
     "metadata": {},
     "output_type": "display_data"
    },
    {
     "name": "stdout",
     "output_type": "stream",
     "text": [
      "Epoch: 1\n",
      "Loss: 2.1321 | Iterations: 5000 | Time: 122.459\n",
      "Loss: 1.5427 | Iterations: 10000 | Time: 246.540\n",
      "Loss: 1.4238 | Iterations: 15000 | Time: 371.198\n",
      "Loss: 1.3543 | Iterations: 20000 | Time: 495.457\n",
      "Loss: 1.3455 | Iterations: 25000 | Time: 619.690\n",
      "Loss: 1.5047 | Iterations: 30000 | Time: 743.806\n",
      "Loss: 2.2557 | Iterations: 35000 | Time: 866.094\n",
      "Loss: 2.1068 | Iterations: 40000 | Time: 989.090\n",
      "Loss: 1.9023 | Iterations: 45000 | Time: 1112.473\n",
      "Loss: 2.0024 | Iterations: 50000 | Time: 1236.489\n",
      "Training Accuracy: 0.0008\n",
      "Validation Accuracy: 0.0059\n",
      "Epoch: 2\n",
      "Loss: 1.7689 | Iterations: 5000 | Time: 123.691\n",
      "Loss: 1.6187 | Iterations: 10000 | Time: 247.662\n",
      "Loss: 1.5461 | Iterations: 15000 | Time: 371.190\n",
      "Loss: 1.4958 | Iterations: 20000 | Time: 494.540\n",
      "Loss: 1.5428 | Iterations: 25000 | Time: 618.088\n",
      "Loss: 1.7340 | Iterations: 30000 | Time: 742.065\n",
      "Loss: 1.5514 | Iterations: 35000 | Time: 865.857\n",
      "Loss: 1.5781 | Iterations: 40000 | Time: 989.976\n",
      "Loss: 1.5570 | Iterations: 45000 | Time: 1113.561\n",
      "Loss: 1.6143 | Iterations: 50000 | Time: 1237.323\n",
      "Training Accuracy: 0.0083\n",
      "Validation Accuracy: 0.0420\n",
      "Epoch: 3\n",
      "Loss: 1.6480 | Iterations: 5000 | Time: 123.843\n",
      "Loss: 1.6631 | Iterations: 10000 | Time: 247.250\n",
      "Loss: 1.6388 | Iterations: 15000 | Time: 371.599\n",
      "Loss: 1.5853 | Iterations: 20000 | Time: 495.442\n",
      "Loss: 1.5685 | Iterations: 25000 | Time: 619.647\n",
      "Loss: 1.5707 | Iterations: 30000 | Time: 743.665\n",
      "Loss: 1.5554 | Iterations: 35000 | Time: 867.672\n",
      "Loss: 1.5013 | Iterations: 40000 | Time: 991.344\n",
      "Loss: 1.4825 | Iterations: 45000 | Time: 1120.655\n",
      "Loss: 1.4398 | Iterations: 50000 | Time: 1273.209\n",
      "Training Accuracy: 0.0079\n",
      "Validation Accuracy: 0.0303\n",
      "Test Accuracy: 0.0251\n"
     ]
    },
    {
     "data": {
      "text/html": [
       "Waiting for W&B process to finish... <strong style=\"color:green\">(success).</strong>"
      ],
      "text/plain": [
       "<IPython.core.display.HTML object>"
      ]
     },
     "metadata": {},
     "output_type": "display_data"
    },
    {
     "data": {
      "application/vnd.jupyter.widget-view+json": {
       "model_id": "2623627c84184401bd6e776cd26d1164",
       "version_major": 2,
       "version_minor": 0
      },
      "text/plain": [
       "VBox(children=(Label(value='0.003 MB of 0.028 MB uploaded (0.000 MB deduped)\\r'), FloatProgress(value=0.114013…"
      ]
     },
     "metadata": {},
     "output_type": "display_data"
    },
    {
     "data": {
      "text/html": [
       "<style>\n",
       "    table.wandb td:nth-child(1) { padding: 0 10px; text-align: left ; width: auto;} td:nth-child(2) {text-align: left ; width: 100%}\n",
       "    .wandb-row { display: flex; flex-direction: row; flex-wrap: wrap; justify-content: flex-start; width: 100% }\n",
       "    .wandb-col { display: flex; flex-direction: column; flex-basis: 100%; flex: 1; padding: 10px; }\n",
       "    </style>\n",
       "<div class=\"wandb-row\"><div class=\"wandb-col\"><h3>Run history:</h3><br/><table class=\"wandb\"><tr><td>epoch</td><td>▁▅█</td></tr><tr><td>test_accuracy</td><td>▁</td></tr><tr><td>training_accuracy</td><td>▁██</td></tr><tr><td>training_loss</td><td>█▂▁</td></tr><tr><td>validation_accuracy</td><td>▁█▆</td></tr></table><br/></div><div class=\"wandb-col\"><h3>Run summary:</h3><br/><table class=\"wandb\"><tr><td>epoch</td><td>3</td></tr><tr><td>test_accuracy</td><td>0.02515</td></tr><tr><td>training_accuracy</td><td>0.00785</td></tr><tr><td>training_loss</td><td>1.56146</td></tr><tr><td>validation_accuracy</td><td>0.03027</td></tr></table><br/></div></div>"
      ],
      "text/plain": [
       "<IPython.core.display.HTML object>"
      ]
     },
     "metadata": {},
     "output_type": "display_data"
    },
    {
     "data": {
      "text/html": [
       " View run <strong style=\"color:#cdcd00\">fresh-sweep-7</strong> at: <a href='https://wandb.ai/cs20b013-bersilin/CS6910_Assn3_Attention_RNN/runs/slajca6b' target=\"_blank\">https://wandb.ai/cs20b013-bersilin/CS6910_Assn3_Attention_RNN/runs/slajca6b</a><br/>Synced 6 W&B file(s), 0 media file(s), 0 artifact file(s) and 0 other file(s)"
      ],
      "text/plain": [
       "<IPython.core.display.HTML object>"
      ]
     },
     "metadata": {},
     "output_type": "display_data"
    },
    {
     "data": {
      "text/html": [
       "Find logs at: <code>./wandb/run-20230520_065009-slajca6b/logs</code>"
      ],
      "text/plain": [
       "<IPython.core.display.HTML object>"
      ]
     },
     "metadata": {},
     "output_type": "display_data"
    },
    {
     "name": "stderr",
     "output_type": "stream",
     "text": [
      "\u001b[34m\u001b[1mwandb\u001b[0m: Agent Starting Run: 4dl7vxs3 with config:\n",
      "\u001b[34m\u001b[1mwandb\u001b[0m: \tcell_type: GRU\n",
      "\u001b[34m\u001b[1mwandb\u001b[0m: \tdropout: 0.2\n",
      "\u001b[34m\u001b[1mwandb\u001b[0m: \tembed_size: 32\n",
      "\u001b[34m\u001b[1mwandb\u001b[0m: \thidden_size: 128\n",
      "\u001b[34m\u001b[1mwandb\u001b[0m: \tlearning_rate: 0.005\n",
      "\u001b[34m\u001b[1mwandb\u001b[0m: \tmax_length: 50\n",
      "\u001b[34m\u001b[1mwandb\u001b[0m: \tnum_layers: 3\n",
      "\u001b[34m\u001b[1mwandb\u001b[0m: \toptimizer: SGD\n",
      "\u001b[34m\u001b[1mwandb\u001b[0m: \tteacher_forcing_ratio: 0.5\n",
      "\u001b[34m\u001b[1mwandb\u001b[0m: \tweight_decay: 0.001\n",
      "Failed to detect the name of this notebook, you can set it manually with the WANDB_NOTEBOOK_NAME environment variable to enable code saving.\n"
     ]
    },
    {
     "data": {
      "text/html": [
       "wandb version 0.15.3 is available!  To upgrade, please run:\n",
       " $ pip install wandb --upgrade"
      ],
      "text/plain": [
       "<IPython.core.display.HTML object>"
      ]
     },
     "metadata": {},
     "output_type": "display_data"
    },
    {
     "data": {
      "text/html": [
       "Tracking run with wandb version 0.15.1"
      ],
      "text/plain": [
       "<IPython.core.display.HTML object>"
      ]
     },
     "metadata": {},
     "output_type": "display_data"
    },
    {
     "data": {
      "text/html": [
       "Run data is saved locally in <code>/home/bersi/Documents/CS6910 Assignments/CS6910-Assignment3/Notebooks/wandb/run-20230520_080824-4dl7vxs3</code>"
      ],
      "text/plain": [
       "<IPython.core.display.HTML object>"
      ]
     },
     "metadata": {},
     "output_type": "display_data"
    },
    {
     "data": {
      "text/html": [
       "Syncing run <strong><a href='https://wandb.ai/cs20b013-bersilin/CS6910_Assn3_Attention_RNN/runs/4dl7vxs3' target=\"_blank\">earthy-sweep-8</a></strong> to <a href='https://wandb.ai/cs20b013-bersilin/CS6910_Assn3_Attention_RNN' target=\"_blank\">Weights & Biases</a> (<a href='https://wandb.me/run' target=\"_blank\">docs</a>)<br/>Sweep page: <a href='https://wandb.ai/cs20b013-bersilin/CS6910_Assn3_Attention_RNN/sweeps/w7rnszm2' target=\"_blank\">https://wandb.ai/cs20b013-bersilin/CS6910_Assn3_Attention_RNN/sweeps/w7rnszm2</a>"
      ],
      "text/plain": [
       "<IPython.core.display.HTML object>"
      ]
     },
     "metadata": {},
     "output_type": "display_data"
    },
    {
     "data": {
      "text/html": [
       " View project at <a href='https://wandb.ai/cs20b013-bersilin/CS6910_Assn3_Attention_RNN' target=\"_blank\">https://wandb.ai/cs20b013-bersilin/CS6910_Assn3_Attention_RNN</a>"
      ],
      "text/plain": [
       "<IPython.core.display.HTML object>"
      ]
     },
     "metadata": {},
     "output_type": "display_data"
    },
    {
     "data": {
      "text/html": [
       " View sweep at <a href='https://wandb.ai/cs20b013-bersilin/CS6910_Assn3_Attention_RNN/sweeps/w7rnszm2' target=\"_blank\">https://wandb.ai/cs20b013-bersilin/CS6910_Assn3_Attention_RNN/sweeps/w7rnszm2</a>"
      ],
      "text/plain": [
       "<IPython.core.display.HTML object>"
      ]
     },
     "metadata": {},
     "output_type": "display_data"
    },
    {
     "data": {
      "text/html": [
       " View run at <a href='https://wandb.ai/cs20b013-bersilin/CS6910_Assn3_Attention_RNN/runs/4dl7vxs3' target=\"_blank\">https://wandb.ai/cs20b013-bersilin/CS6910_Assn3_Attention_RNN/runs/4dl7vxs3</a>"
      ],
      "text/plain": [
       "<IPython.core.display.HTML object>"
      ]
     },
     "metadata": {},
     "output_type": "display_data"
    },
    {
     "name": "stdout",
     "output_type": "stream",
     "text": [
      "Epoch: 1\n",
      "Loss: 2.7668 | Iterations: 5000 | Time: 65.171\n",
      "Loss: 2.5562 | Iterations: 10000 | Time: 130.966\n",
      "Loss: 2.4020 | Iterations: 15000 | Time: 197.231\n",
      "Loss: 2.1709 | Iterations: 20000 | Time: 263.047\n",
      "Loss: 1.9337 | Iterations: 25000 | Time: 329.729\n",
      "Loss: 1.6520 | Iterations: 30000 | Time: 396.302\n",
      "Loss: 1.4386 | Iterations: 35000 | Time: 463.161\n",
      "Loss: 1.2863 | Iterations: 40000 | Time: 530.290\n",
      "Loss: 1.1408 | Iterations: 45000 | Time: 596.852\n",
      "Loss: 1.0439 | Iterations: 50000 | Time: 663.941\n",
      "Training Accuracy: 0.1079\n",
      "Validation Accuracy: 0.1929\n",
      "Epoch: 2\n",
      "Loss: 0.9362 | Iterations: 5000 | Time: 67.369\n",
      "Loss: 0.8337 | Iterations: 10000 | Time: 134.673\n",
      "Loss: 0.8130 | Iterations: 15000 | Time: 201.785\n",
      "Loss: 0.7642 | Iterations: 20000 | Time: 268.955\n",
      "Loss: 0.7189 | Iterations: 25000 | Time: 336.573\n",
      "Loss: 0.6803 | Iterations: 30000 | Time: 404.276\n",
      "Loss: 0.6432 | Iterations: 35000 | Time: 471.327\n",
      "Loss: 0.6236 | Iterations: 40000 | Time: 538.606\n",
      "Loss: 0.5907 | Iterations: 45000 | Time: 605.998\n",
      "Loss: 0.5613 | Iterations: 50000 | Time: 673.304\n",
      "Training Accuracy: 0.3101\n",
      "Validation Accuracy: 0.3459\n",
      "Epoch: 3\n",
      "Loss: 0.5303 | Iterations: 5000 | Time: 67.394\n",
      "Loss: 0.5246 | Iterations: 10000 | Time: 135.015\n",
      "Loss: 0.5071 | Iterations: 15000 | Time: 202.462\n",
      "Loss: 0.5005 | Iterations: 20000 | Time: 269.852\n",
      "Loss: 0.4780 | Iterations: 25000 | Time: 337.635\n",
      "Loss: 0.4682 | Iterations: 30000 | Time: 405.851\n",
      "Loss: 0.4757 | Iterations: 35000 | Time: 473.535\n",
      "Loss: 0.4735 | Iterations: 40000 | Time: 541.224\n",
      "Loss: 0.4425 | Iterations: 45000 | Time: 608.468\n",
      "Loss: 0.4421 | Iterations: 50000 | Time: 675.345\n",
      "Training Accuracy: 0.3875\n",
      "Validation Accuracy: 0.4185\n",
      "Epoch: 4\n",
      "Loss: 0.4176 | Iterations: 5000 | Time: 67.886\n",
      "Loss: 0.4119 | Iterations: 10000 | Time: 135.564\n",
      "Loss: 0.4006 | Iterations: 15000 | Time: 203.321\n",
      "Loss: 0.4043 | Iterations: 20000 | Time: 271.294\n",
      "Loss: 0.4008 | Iterations: 25000 | Time: 338.879\n",
      "Loss: 0.4120 | Iterations: 30000 | Time: 406.470\n",
      "Loss: 0.3996 | Iterations: 35000 | Time: 474.037\n",
      "Loss: 0.3813 | Iterations: 40000 | Time: 541.532\n",
      "Loss: 0.3941 | Iterations: 45000 | Time: 608.688\n",
      "Loss: 0.3960 | Iterations: 50000 | Time: 676.095\n",
      "Training Accuracy: 0.4529\n",
      "Validation Accuracy: 0.4270\n",
      "Epoch: 5\n",
      "Loss: 0.3626 | Iterations: 5000 | Time: 67.498\n",
      "Loss: 0.3735 | Iterations: 10000 | Time: 134.849\n",
      "Loss: 0.3719 | Iterations: 15000 | Time: 202.283\n",
      "Loss: 0.3648 | Iterations: 20000 | Time: 269.891\n",
      "Loss: 0.3684 | Iterations: 25000 | Time: 337.321\n",
      "Loss: 0.3643 | Iterations: 30000 | Time: 405.544\n",
      "Loss: 0.3573 | Iterations: 35000 | Time: 473.125\n",
      "Loss: 0.3553 | Iterations: 40000 | Time: 541.017\n",
      "Loss: 0.3630 | Iterations: 45000 | Time: 609.428\n",
      "Loss: 0.3540 | Iterations: 50000 | Time: 679.584\n",
      "Training Accuracy: 0.5342\n",
      "Validation Accuracy: 0.4802\n",
      "Epoch: 6\n",
      "Loss: 0.3461 | Iterations: 5000 | Time: 66.064\n",
      "Loss: 0.3578 | Iterations: 10000 | Time: 132.729\n",
      "Loss: 0.3363 | Iterations: 15000 | Time: 198.830\n",
      "Loss: 0.3543 | Iterations: 20000 | Time: 272.318\n",
      "Loss: 0.3395 | Iterations: 25000 | Time: 339.885\n",
      "Loss: 0.3332 | Iterations: 30000 | Time: 405.896\n",
      "Loss: 0.3526 | Iterations: 35000 | Time: 472.166\n",
      "Loss: 0.3353 | Iterations: 40000 | Time: 539.645\n",
      "Loss: 0.3260 | Iterations: 45000 | Time: 606.004\n",
      "Loss: 0.3318 | Iterations: 50000 | Time: 674.101\n",
      "Training Accuracy: 0.5400\n",
      "Validation Accuracy: 0.4912\n",
      "Epoch: 7\n",
      "Loss: 0.3296 | Iterations: 5000 | Time: 68.220\n",
      "Loss: 0.3092 | Iterations: 10000 | Time: 136.424\n",
      "Loss: 0.3209 | Iterations: 15000 | Time: 204.371\n",
      "Loss: 0.3283 | Iterations: 20000 | Time: 272.565\n",
      "Loss: 0.3430 | Iterations: 25000 | Time: 340.374\n",
      "Loss: 0.3196 | Iterations: 30000 | Time: 407.051\n",
      "Loss: 0.3313 | Iterations: 35000 | Time: 473.325\n",
      "Loss: 0.3221 | Iterations: 40000 | Time: 538.991\n",
      "Loss: 0.3315 | Iterations: 45000 | Time: 605.077\n",
      "Loss: 0.3147 | Iterations: 50000 | Time: 670.849\n",
      "Training Accuracy: 0.5709\n",
      "Validation Accuracy: 0.4988\n",
      "Epoch: 8\n",
      "Loss: 0.2994 | Iterations: 5000 | Time: 65.867\n",
      "Loss: 0.2956 | Iterations: 10000 | Time: 132.083\n",
      "Loss: 0.3496 | Iterations: 15000 | Time: 197.896\n",
      "Loss: 0.3061 | Iterations: 20000 | Time: 264.077\n",
      "Loss: 0.3065 | Iterations: 25000 | Time: 330.992\n",
      "Loss: 0.3151 | Iterations: 30000 | Time: 399.145\n",
      "Loss: 0.2991 | Iterations: 35000 | Time: 467.680\n",
      "Loss: 0.2974 | Iterations: 40000 | Time: 534.121\n",
      "Loss: 0.3028 | Iterations: 45000 | Time: 600.373\n",
      "Loss: 0.3167 | Iterations: 50000 | Time: 667.773\n",
      "Training Accuracy: 0.5826\n",
      "Validation Accuracy: 0.5061\n",
      "Epoch: 9\n",
      "Loss: 0.3009 | Iterations: 5000 | Time: 68.232\n",
      "Loss: 0.3019 | Iterations: 10000 | Time: 136.763\n",
      "Loss: 0.2922 | Iterations: 15000 | Time: 204.676\n",
      "Loss: 0.2963 | Iterations: 20000 | Time: 272.975\n",
      "Loss: 0.3115 | Iterations: 25000 | Time: 340.425\n",
      "Loss: 0.2866 | Iterations: 30000 | Time: 406.651\n",
      "Loss: 0.3017 | Iterations: 35000 | Time: 473.806\n",
      "Loss: 0.2903 | Iterations: 40000 | Time: 539.814\n",
      "Loss: 0.2986 | Iterations: 45000 | Time: 607.880\n",
      "Loss: 0.2892 | Iterations: 50000 | Time: 675.950\n",
      "Training Accuracy: 0.5747\n",
      "Validation Accuracy: 0.4912\n",
      "Epoch: 10\n",
      "Loss: 0.2866 | Iterations: 5000 | Time: 68.042\n",
      "Loss: 0.2919 | Iterations: 10000 | Time: 134.504\n",
      "Loss: 0.2765 | Iterations: 15000 | Time: 200.544\n",
      "Loss: 0.2959 | Iterations: 20000 | Time: 267.698\n",
      "Loss: 0.2847 | Iterations: 25000 | Time: 333.538\n",
      "Loss: 0.2852 | Iterations: 30000 | Time: 399.520\n",
      "Loss: 0.2937 | Iterations: 35000 | Time: 465.901\n",
      "Loss: 0.2856 | Iterations: 40000 | Time: 532.055\n",
      "Loss: 0.2998 | Iterations: 45000 | Time: 597.635\n",
      "Loss: 0.3037 | Iterations: 50000 | Time: 663.953\n",
      "Training Accuracy: 0.5667\n",
      "Validation Accuracy: 0.4849\n",
      "Test Accuracy: 0.3916\n"
     ]
    },
    {
     "data": {
      "text/html": [
       "Waiting for W&B process to finish... <strong style=\"color:green\">(success).</strong>"
      ],
      "text/plain": [
       "<IPython.core.display.HTML object>"
      ]
     },
     "metadata": {},
     "output_type": "display_data"
    },
    {
     "data": {
      "text/html": [
       "<style>\n",
       "    table.wandb td:nth-child(1) { padding: 0 10px; text-align: left ; width: auto;} td:nth-child(2) {text-align: left ; width: 100%}\n",
       "    .wandb-row { display: flex; flex-direction: row; flex-wrap: wrap; justify-content: flex-start; width: 100% }\n",
       "    .wandb-col { display: flex; flex-direction: column; flex-basis: 100%; flex: 1; padding: 10px; }\n",
       "    </style>\n",
       "<div class=\"wandb-row\"><div class=\"wandb-col\"><h3>Run history:</h3><br/><table class=\"wandb\"><tr><td>epoch</td><td>▁▂▃▃▄▅▆▆▇█</td></tr><tr><td>test_accuracy</td><td>▁</td></tr><tr><td>training_accuracy</td><td>▁▄▅▆▇▇████</td></tr><tr><td>training_loss</td><td>█▃▂▂▁▁▁▁▁▁</td></tr><tr><td>validation_accuracy</td><td>▁▄▆▆▇█████</td></tr></table><br/></div><div class=\"wandb-col\"><h3>Run summary:</h3><br/><table class=\"wandb\"><tr><td>epoch</td><td>10</td></tr><tr><td>test_accuracy</td><td>0.3916</td></tr><tr><td>training_accuracy</td><td>0.56668</td></tr><tr><td>training_loss</td><td>0.29035</td></tr><tr><td>validation_accuracy</td><td>0.48486</td></tr></table><br/></div></div>"
      ],
      "text/plain": [
       "<IPython.core.display.HTML object>"
      ]
     },
     "metadata": {},
     "output_type": "display_data"
    },
    {
     "data": {
      "text/html": [
       " View run <strong style=\"color:#cdcd00\">earthy-sweep-8</strong> at: <a href='https://wandb.ai/cs20b013-bersilin/CS6910_Assn3_Attention_RNN/runs/4dl7vxs3' target=\"_blank\">https://wandb.ai/cs20b013-bersilin/CS6910_Assn3_Attention_RNN/runs/4dl7vxs3</a><br/>Synced 6 W&B file(s), 0 media file(s), 0 artifact file(s) and 0 other file(s)"
      ],
      "text/plain": [
       "<IPython.core.display.HTML object>"
      ]
     },
     "metadata": {},
     "output_type": "display_data"
    },
    {
     "data": {
      "text/html": [
       "Find logs at: <code>./wandb/run-20230520_080824-4dl7vxs3/logs</code>"
      ],
      "text/plain": [
       "<IPython.core.display.HTML object>"
      ]
     },
     "metadata": {},
     "output_type": "display_data"
    },
    {
     "name": "stderr",
     "output_type": "stream",
     "text": [
      "\u001b[34m\u001b[1mwandb\u001b[0m: Sweep Agent: Waiting for job.\n",
      "\u001b[34m\u001b[1mwandb\u001b[0m: Job received.\n",
      "\u001b[34m\u001b[1mwandb\u001b[0m: Agent Starting Run: d55j9u67 with config:\n",
      "\u001b[34m\u001b[1mwandb\u001b[0m: \tcell_type: GRU\n",
      "\u001b[34m\u001b[1mwandb\u001b[0m: \tdropout: 0.2\n",
      "\u001b[34m\u001b[1mwandb\u001b[0m: \tembed_size: 16\n",
      "\u001b[34m\u001b[1mwandb\u001b[0m: \thidden_size: 256\n",
      "\u001b[34m\u001b[1mwandb\u001b[0m: \tlearning_rate: 0.001\n",
      "\u001b[34m\u001b[1mwandb\u001b[0m: \tmax_length: 50\n",
      "\u001b[34m\u001b[1mwandb\u001b[0m: \tnum_layers: 3\n",
      "\u001b[34m\u001b[1mwandb\u001b[0m: \toptimizer: ADAM\n",
      "\u001b[34m\u001b[1mwandb\u001b[0m: \tteacher_forcing_ratio: 0.5\n",
      "\u001b[34m\u001b[1mwandb\u001b[0m: \tweight_decay: 1e-05\n",
      "Failed to detect the name of this notebook, you can set it manually with the WANDB_NOTEBOOK_NAME environment variable to enable code saving.\n"
     ]
    },
    {
     "data": {
      "text/html": [
       "wandb version 0.15.3 is available!  To upgrade, please run:\n",
       " $ pip install wandb --upgrade"
      ],
      "text/plain": [
       "<IPython.core.display.HTML object>"
      ]
     },
     "metadata": {},
     "output_type": "display_data"
    },
    {
     "data": {
      "text/html": [
       "Tracking run with wandb version 0.15.1"
      ],
      "text/plain": [
       "<IPython.core.display.HTML object>"
      ]
     },
     "metadata": {},
     "output_type": "display_data"
    },
    {
     "data": {
      "text/html": [
       "Run data is saved locally in <code>/home/bersi/Documents/CS6910 Assignments/CS6910-Assignment3/Notebooks/wandb/run-20230520_105436-d55j9u67</code>"
      ],
      "text/plain": [
       "<IPython.core.display.HTML object>"
      ]
     },
     "metadata": {},
     "output_type": "display_data"
    },
    {
     "data": {
      "text/html": [
       "Syncing run <strong><a href='https://wandb.ai/cs20b013-bersilin/CS6910_Assn3_Attention_RNN/runs/d55j9u67' target=\"_blank\">bumbling-sweep-9</a></strong> to <a href='https://wandb.ai/cs20b013-bersilin/CS6910_Assn3_Attention_RNN' target=\"_blank\">Weights & Biases</a> (<a href='https://wandb.me/run' target=\"_blank\">docs</a>)<br/>Sweep page: <a href='https://wandb.ai/cs20b013-bersilin/CS6910_Assn3_Attention_RNN/sweeps/w7rnszm2' target=\"_blank\">https://wandb.ai/cs20b013-bersilin/CS6910_Assn3_Attention_RNN/sweeps/w7rnszm2</a>"
      ],
      "text/plain": [
       "<IPython.core.display.HTML object>"
      ]
     },
     "metadata": {},
     "output_type": "display_data"
    },
    {
     "data": {
      "text/html": [
       " View project at <a href='https://wandb.ai/cs20b013-bersilin/CS6910_Assn3_Attention_RNN' target=\"_blank\">https://wandb.ai/cs20b013-bersilin/CS6910_Assn3_Attention_RNN</a>"
      ],
      "text/plain": [
       "<IPython.core.display.HTML object>"
      ]
     },
     "metadata": {},
     "output_type": "display_data"
    },
    {
     "data": {
      "text/html": [
       " View sweep at <a href='https://wandb.ai/cs20b013-bersilin/CS6910_Assn3_Attention_RNN/sweeps/w7rnszm2' target=\"_blank\">https://wandb.ai/cs20b013-bersilin/CS6910_Assn3_Attention_RNN/sweeps/w7rnszm2</a>"
      ],
      "text/plain": [
       "<IPython.core.display.HTML object>"
      ]
     },
     "metadata": {},
     "output_type": "display_data"
    },
    {
     "data": {
      "text/html": [
       " View run at <a href='https://wandb.ai/cs20b013-bersilin/CS6910_Assn3_Attention_RNN/runs/d55j9u67' target=\"_blank\">https://wandb.ai/cs20b013-bersilin/CS6910_Assn3_Attention_RNN/runs/d55j9u67</a>"
      ],
      "text/plain": [
       "<IPython.core.display.HTML object>"
      ]
     },
     "metadata": {},
     "output_type": "display_data"
    },
    {
     "name": "stdout",
     "output_type": "stream",
     "text": [
      "Epoch: 1\n",
      "Loss: 2.0014 | Iterations: 5000 | Time: 70.786\n",
      "Loss: 1.3063 | Iterations: 10000 | Time: 141.811\n",
      "Loss: 1.1359 | Iterations: 15000 | Time: 217.893\n",
      "Loss: 1.1961 | Iterations: 20000 | Time: 297.872\n",
      "Loss: 1.0591 | Iterations: 25000 | Time: 378.777\n",
      "Loss: 0.9967 | Iterations: 30000 | Time: 457.406\n",
      "Loss: 0.9907 | Iterations: 35000 | Time: 534.042\n",
      "Loss: 1.0269 | Iterations: 40000 | Time: 612.221\n",
      "Loss: 0.9822 | Iterations: 45000 | Time: 689.577\n",
      "Loss: 0.9885 | Iterations: 50000 | Time: 766.188\n",
      "Training Accuracy: 0.0954\n",
      "Validation Accuracy: 0.1797\n",
      "Epoch: 2\n",
      "Loss: 0.9962 | Iterations: 5000 | Time: 71.595\n",
      "Loss: 0.9369 | Iterations: 10000 | Time: 143.313\n",
      "Loss: 1.1703 | Iterations: 15000 | Time: 215.561\n",
      "Loss: 1.3664 | Iterations: 20000 | Time: 290.860\n",
      "Loss: 1.2199 | Iterations: 25000 | Time: 367.182\n",
      "Loss: 1.1178 | Iterations: 30000 | Time: 443.498\n",
      "Loss: 1.0845 | Iterations: 35000 | Time: 519.562\n",
      "Loss: 1.1077 | Iterations: 40000 | Time: 595.496\n",
      "Loss: 1.2084 | Iterations: 45000 | Time: 671.897\n",
      "Loss: 1.2232 | Iterations: 50000 | Time: 747.591\n",
      "Training Accuracy: 0.0404\n",
      "Validation Accuracy: 0.0947\n",
      "Test Accuracy: 0.0857\n"
     ]
    },
    {
     "data": {
      "text/html": [
       "Waiting for W&B process to finish... <strong style=\"color:green\">(success).</strong>"
      ],
      "text/plain": [
       "<IPython.core.display.HTML object>"
      ]
     },
     "metadata": {},
     "output_type": "display_data"
    },
    {
     "data": {
      "application/vnd.jupyter.widget-view+json": {
       "model_id": "785ca57fe8cd4a3cac130255ce4e10e6",
       "version_major": 2,
       "version_minor": 0
      },
      "text/plain": [
       "VBox(children=(Label(value='0.003 MB of 0.027 MB uploaded (0.000 MB deduped)\\r'), FloatProgress(value=0.116242…"
      ]
     },
     "metadata": {},
     "output_type": "display_data"
    },
    {
     "data": {
      "text/html": [
       "<style>\n",
       "    table.wandb td:nth-child(1) { padding: 0 10px; text-align: left ; width: auto;} td:nth-child(2) {text-align: left ; width: 100%}\n",
       "    .wandb-row { display: flex; flex-direction: row; flex-wrap: wrap; justify-content: flex-start; width: 100% }\n",
       "    .wandb-col { display: flex; flex-direction: column; flex-basis: 100%; flex: 1; padding: 10px; }\n",
       "    </style>\n",
       "<div class=\"wandb-row\"><div class=\"wandb-col\"><h3>Run history:</h3><br/><table class=\"wandb\"><tr><td>epoch</td><td>▁█</td></tr><tr><td>test_accuracy</td><td>▁</td></tr><tr><td>training_accuracy</td><td>█▁</td></tr><tr><td>training_loss</td><td>█▁</td></tr><tr><td>validation_accuracy</td><td>█▁</td></tr></table><br/></div><div class=\"wandb-col\"><h3>Run summary:</h3><br/><table class=\"wandb\"><tr><td>epoch</td><td>2</td></tr><tr><td>test_accuracy</td><td>0.08569</td></tr><tr><td>training_accuracy</td><td>0.04039</td></tr><tr><td>training_loss</td><td>1.14244</td></tr><tr><td>validation_accuracy</td><td>0.09473</td></tr></table><br/></div></div>"
      ],
      "text/plain": [
       "<IPython.core.display.HTML object>"
      ]
     },
     "metadata": {},
     "output_type": "display_data"
    },
    {
     "data": {
      "text/html": [
       " View run <strong style=\"color:#cdcd00\">bumbling-sweep-9</strong> at: <a href='https://wandb.ai/cs20b013-bersilin/CS6910_Assn3_Attention_RNN/runs/d55j9u67' target=\"_blank\">https://wandb.ai/cs20b013-bersilin/CS6910_Assn3_Attention_RNN/runs/d55j9u67</a><br/>Synced 6 W&B file(s), 0 media file(s), 0 artifact file(s) and 0 other file(s)"
      ],
      "text/plain": [
       "<IPython.core.display.HTML object>"
      ]
     },
     "metadata": {},
     "output_type": "display_data"
    },
    {
     "data": {
      "text/html": [
       "Find logs at: <code>./wandb/run-20230520_105436-d55j9u67/logs</code>"
      ],
      "text/plain": [
       "<IPython.core.display.HTML object>"
      ]
     },
     "metadata": {},
     "output_type": "display_data"
    },
    {
     "name": "stderr",
     "output_type": "stream",
     "text": [
      "\u001b[34m\u001b[1mwandb\u001b[0m: Agent Starting Run: srx3jk2l with config:\n",
      "\u001b[34m\u001b[1mwandb\u001b[0m: \tcell_type: GRU\n",
      "\u001b[34m\u001b[1mwandb\u001b[0m: \tdropout: 0.2\n",
      "\u001b[34m\u001b[1mwandb\u001b[0m: \tembed_size: 32\n",
      "\u001b[34m\u001b[1mwandb\u001b[0m: \thidden_size: 256\n",
      "\u001b[34m\u001b[1mwandb\u001b[0m: \tlearning_rate: 0.005\n",
      "\u001b[34m\u001b[1mwandb\u001b[0m: \tmax_length: 50\n",
      "\u001b[34m\u001b[1mwandb\u001b[0m: \tnum_layers: 3\n",
      "\u001b[34m\u001b[1mwandb\u001b[0m: \toptimizer: SGD\n",
      "\u001b[34m\u001b[1mwandb\u001b[0m: \tteacher_forcing_ratio: 0.5\n",
      "\u001b[34m\u001b[1mwandb\u001b[0m: \tweight_decay: 1e-05\n",
      "Failed to detect the name of this notebook, you can set it manually with the WANDB_NOTEBOOK_NAME environment variable to enable code saving.\n"
     ]
    },
    {
     "data": {
      "text/html": [
       "wandb version 0.15.3 is available!  To upgrade, please run:\n",
       " $ pip install wandb --upgrade"
      ],
      "text/plain": [
       "<IPython.core.display.HTML object>"
      ]
     },
     "metadata": {},
     "output_type": "display_data"
    },
    {
     "data": {
      "text/html": [
       "Tracking run with wandb version 0.15.1"
      ],
      "text/plain": [
       "<IPython.core.display.HTML object>"
      ]
     },
     "metadata": {},
     "output_type": "display_data"
    },
    {
     "data": {
      "text/html": [
       "Run data is saved locally in <code>/home/bersi/Documents/CS6910 Assignments/CS6910-Assignment3/Notebooks/wandb/run-20230520_112941-srx3jk2l</code>"
      ],
      "text/plain": [
       "<IPython.core.display.HTML object>"
      ]
     },
     "metadata": {},
     "output_type": "display_data"
    },
    {
     "data": {
      "text/html": [
       "Syncing run <strong><a href='https://wandb.ai/cs20b013-bersilin/CS6910_Assn3_Attention_RNN/runs/srx3jk2l' target=\"_blank\">copper-sweep-10</a></strong> to <a href='https://wandb.ai/cs20b013-bersilin/CS6910_Assn3_Attention_RNN' target=\"_blank\">Weights & Biases</a> (<a href='https://wandb.me/run' target=\"_blank\">docs</a>)<br/>Sweep page: <a href='https://wandb.ai/cs20b013-bersilin/CS6910_Assn3_Attention_RNN/sweeps/w7rnszm2' target=\"_blank\">https://wandb.ai/cs20b013-bersilin/CS6910_Assn3_Attention_RNN/sweeps/w7rnszm2</a>"
      ],
      "text/plain": [
       "<IPython.core.display.HTML object>"
      ]
     },
     "metadata": {},
     "output_type": "display_data"
    },
    {
     "data": {
      "text/html": [
       " View project at <a href='https://wandb.ai/cs20b013-bersilin/CS6910_Assn3_Attention_RNN' target=\"_blank\">https://wandb.ai/cs20b013-bersilin/CS6910_Assn3_Attention_RNN</a>"
      ],
      "text/plain": [
       "<IPython.core.display.HTML object>"
      ]
     },
     "metadata": {},
     "output_type": "display_data"
    },
    {
     "data": {
      "text/html": [
       " View sweep at <a href='https://wandb.ai/cs20b013-bersilin/CS6910_Assn3_Attention_RNN/sweeps/w7rnszm2' target=\"_blank\">https://wandb.ai/cs20b013-bersilin/CS6910_Assn3_Attention_RNN/sweeps/w7rnszm2</a>"
      ],
      "text/plain": [
       "<IPython.core.display.HTML object>"
      ]
     },
     "metadata": {},
     "output_type": "display_data"
    },
    {
     "data": {
      "text/html": [
       " View run at <a href='https://wandb.ai/cs20b013-bersilin/CS6910_Assn3_Attention_RNN/runs/srx3jk2l' target=\"_blank\">https://wandb.ai/cs20b013-bersilin/CS6910_Assn3_Attention_RNN/runs/srx3jk2l</a>"
      ],
      "text/plain": [
       "<IPython.core.display.HTML object>"
      ]
     },
     "metadata": {},
     "output_type": "display_data"
    },
    {
     "name": "stdout",
     "output_type": "stream",
     "text": [
      "Epoch: 1\n",
      "Loss: 2.7382 | Iterations: 5000 | Time: 69.080\n",
      "Loss: 2.5160 | Iterations: 10000 | Time: 139.621\n",
      "Loss: 2.2610 | Iterations: 15000 | Time: 210.781\n",
      "Loss: 1.9513 | Iterations: 20000 | Time: 281.975\n",
      "Loss: 1.5989 | Iterations: 25000 | Time: 354.327\n",
      "Loss: 1.3284 | Iterations: 30000 | Time: 426.263\n",
      "Loss: 1.0921 | Iterations: 35000 | Time: 498.980\n",
      "Loss: 0.8848 | Iterations: 40000 | Time: 571.995\n",
      "Loss: 0.7872 | Iterations: 45000 | Time: 644.867\n",
      "Loss: 0.7082 | Iterations: 50000 | Time: 717.262\n",
      "Training Accuracy: 0.2839\n",
      "Validation Accuracy: 0.3220\n",
      "Epoch: 2\n",
      "Loss: 0.6426 | Iterations: 5000 | Time: 72.784\n",
      "Loss: 0.6650 | Iterations: 10000 | Time: 145.716\n",
      "Loss: 0.6103 | Iterations: 15000 | Time: 218.571\n",
      "Loss: 1.1754 | Iterations: 20000 | Time: 290.779\n",
      "Loss: 1.1816 | Iterations: 25000 | Time: 363.184\n",
      "Loss: 1.0707 | Iterations: 30000 | Time: 435.461\n",
      "Loss: 0.9742 | Iterations: 35000 | Time: 507.665\n",
      "Loss: 0.8240 | Iterations: 40000 | Time: 580.375\n",
      "Loss: 0.7648 | Iterations: 45000 | Time: 653.339\n",
      "Loss: 0.7265 | Iterations: 50000 | Time: 726.423\n",
      "Training Accuracy: 0.2570\n",
      "Validation Accuracy: 0.3281\n",
      "Epoch: 3\n",
      "Loss: 0.6352 | Iterations: 5000 | Time: 72.513\n",
      "Loss: 0.6084 | Iterations: 10000 | Time: 144.966\n",
      "Loss: 0.5931 | Iterations: 15000 | Time: 218.397\n",
      "Loss: 0.5442 | Iterations: 20000 | Time: 291.831\n",
      "Loss: 0.5323 | Iterations: 25000 | Time: 364.629\n",
      "Loss: 0.5146 | Iterations: 30000 | Time: 437.654\n",
      "Loss: 0.5365 | Iterations: 35000 | Time: 511.513\n",
      "Loss: 0.4813 | Iterations: 40000 | Time: 585.054\n",
      "Loss: 0.4877 | Iterations: 45000 | Time: 658.881\n",
      "Loss: 0.4707 | Iterations: 50000 | Time: 731.218\n",
      "Training Accuracy: 0.4231\n",
      "Validation Accuracy: 0.4182\n",
      "Epoch: 4\n",
      "Loss: 0.4273 | Iterations: 5000 | Time: 72.808\n",
      "Loss: 0.4497 | Iterations: 10000 | Time: 145.849\n",
      "Loss: 0.4295 | Iterations: 15000 | Time: 219.264\n",
      "Loss: 0.4257 | Iterations: 20000 | Time: 292.466\n",
      "Loss: 0.4180 | Iterations: 25000 | Time: 365.883\n",
      "Loss: 0.4209 | Iterations: 30000 | Time: 439.511\n",
      "Loss: 0.4022 | Iterations: 35000 | Time: 513.246\n",
      "Loss: 0.4014 | Iterations: 40000 | Time: 586.400\n",
      "Loss: 0.4010 | Iterations: 45000 | Time: 660.453\n",
      "Loss: 0.3969 | Iterations: 50000 | Time: 734.732\n",
      "Training Accuracy: 0.4731\n",
      "Validation Accuracy: 0.4434\n",
      "Epoch: 5\n",
      "Loss: 0.3800 | Iterations: 5000 | Time: 73.172\n",
      "Loss: 0.3614 | Iterations: 10000 | Time: 146.054\n",
      "Loss: 0.3949 | Iterations: 15000 | Time: 219.057\n",
      "Loss: 0.3880 | Iterations: 20000 | Time: 292.952\n",
      "Loss: 0.7928 | Iterations: 25000 | Time: 366.649\n",
      "Loss: 2.3567 | Iterations: 30000 | Time: 438.146\n",
      "Loss: 1.8922 | Iterations: 35000 | Time: 510.391\n",
      "Loss: 1.5332 | Iterations: 40000 | Time: 582.410\n",
      "Loss: 1.3407 | Iterations: 45000 | Time: 654.745\n",
      "Loss: 1.2559 | Iterations: 50000 | Time: 728.197\n",
      "Training Accuracy: 0.0399\n",
      "Validation Accuracy: 0.1013\n",
      "Test Accuracy: 0.0974\n"
     ]
    },
    {
     "data": {
      "text/html": [
       "Waiting for W&B process to finish... <strong style=\"color:green\">(success).</strong>"
      ],
      "text/plain": [
       "<IPython.core.display.HTML object>"
      ]
     },
     "metadata": {},
     "output_type": "display_data"
    },
    {
     "data": {
      "application/vnd.jupyter.widget-view+json": {
       "model_id": "cf3fc2425cce458bba15c70ca1b53518",
       "version_major": 2,
       "version_minor": 0
      },
      "text/plain": [
       "VBox(children=(Label(value='0.003 MB of 0.003 MB uploaded (0.000 MB deduped)\\r'), FloatProgress(value=1.0, max…"
      ]
     },
     "metadata": {},
     "output_type": "display_data"
    },
    {
     "data": {
      "text/html": [
       "<style>\n",
       "    table.wandb td:nth-child(1) { padding: 0 10px; text-align: left ; width: auto;} td:nth-child(2) {text-align: left ; width: 100%}\n",
       "    .wandb-row { display: flex; flex-direction: row; flex-wrap: wrap; justify-content: flex-start; width: 100% }\n",
       "    .wandb-col { display: flex; flex-direction: column; flex-basis: 100%; flex: 1; padding: 10px; }\n",
       "    </style>\n",
       "<div class=\"wandb-row\"><div class=\"wandb-col\"><h3>Run history:</h3><br/><table class=\"wandb\"><tr><td>epoch</td><td>▁▃▅▆█</td></tr><tr><td>test_accuracy</td><td>▁</td></tr><tr><td>training_accuracy</td><td>▅▅▇█▁</td></tr><tr><td>training_loss</td><td>█▄▂▁▅</td></tr><tr><td>validation_accuracy</td><td>▆▆▇█▁</td></tr></table><br/></div><div class=\"wandb-col\"><h3>Run summary:</h3><br/><table class=\"wandb\"><tr><td>epoch</td><td>5</td></tr><tr><td>test_accuracy</td><td>0.09741</td></tr><tr><td>training_accuracy</td><td>0.0399</td></tr><tr><td>training_loss</td><td>1.07223</td></tr><tr><td>validation_accuracy</td><td>0.10132</td></tr></table><br/></div></div>"
      ],
      "text/plain": [
       "<IPython.core.display.HTML object>"
      ]
     },
     "metadata": {},
     "output_type": "display_data"
    },
    {
     "data": {
      "text/html": [
       " View run <strong style=\"color:#cdcd00\">copper-sweep-10</strong> at: <a href='https://wandb.ai/cs20b013-bersilin/CS6910_Assn3_Attention_RNN/runs/srx3jk2l' target=\"_blank\">https://wandb.ai/cs20b013-bersilin/CS6910_Assn3_Attention_RNN/runs/srx3jk2l</a><br/>Synced 6 W&B file(s), 0 media file(s), 0 artifact file(s) and 0 other file(s)"
      ],
      "text/plain": [
       "<IPython.core.display.HTML object>"
      ]
     },
     "metadata": {},
     "output_type": "display_data"
    },
    {
     "data": {
      "text/html": [
       "Find logs at: <code>./wandb/run-20230520_112941-srx3jk2l/logs</code>"
      ],
      "text/plain": [
       "<IPython.core.display.HTML object>"
      ]
     },
     "metadata": {},
     "output_type": "display_data"
    }
   ],
   "source": [
    "wandb_id = wandb.sweep(sweep_configuration, project=\"CS6910_Assn3_Attention_RNN\")\n",
    "wandb.agent(wandb_id, train_sweep, count=10)"
   ]
  }
 ],
 "metadata": {
  "kernelspec": {
   "display_name": "Python 3",
   "language": "python",
   "name": "python3"
  },
  "language_info": {
   "codemirror_mode": {
    "name": "ipython",
    "version": 3
   },
   "file_extension": ".py",
   "mimetype": "text/x-python",
   "name": "python",
   "nbconvert_exporter": "python",
   "pygments_lexer": "ipython3",
   "version": "3.10.9"
  },
  "orig_nbformat": 4
 },
 "nbformat": 4,
 "nbformat_minor": 2
}
