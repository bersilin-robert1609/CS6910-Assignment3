{
 "cells": [
  {
   "cell_type": "code",
   "execution_count": 1,
   "metadata": {},
   "outputs": [
    {
     "name": "stderr",
     "output_type": "stream",
     "text": [
      "Failed to detect the name of this notebook, you can set it manually with the WANDB_NOTEBOOK_NAME environment variable to enable code saving.\n",
      "\u001b[34m\u001b[1mwandb\u001b[0m: Currently logged in as: \u001b[33mcs20b013\u001b[0m (\u001b[33mcs20b013-bersilin\u001b[0m). Use \u001b[1m`wandb login --relogin`\u001b[0m to force relogin\n"
     ]
    },
    {
     "name": "stdout",
     "output_type": "stream",
     "text": [
      "cuda\n"
     ]
    }
   ],
   "source": [
    "import torch\n",
    "import torch.nn as nn\n",
    "import torch.nn.functional as F\n",
    "import torch.optim as optim\n",
    "import random\n",
    "import numpy as np\n",
    "import matplotlib.pyplot as plt\n",
    "import pandas as pd\n",
    "import time\n",
    "\n",
    "import wandb\n",
    "wandb.login()\n",
    "\n",
    "random.seed()\n",
    "\n",
    "device = torch.device(\"cuda\" if torch.cuda.is_available() else \"cpu\")\n",
    "print(device)"
   ]
  },
  {
   "cell_type": "code",
   "execution_count": 2,
   "metadata": {},
   "outputs": [],
   "source": [
    "# Language Model\n",
    "SOS_token = 0\n",
    "EOS_token = 1\n",
    "\n",
    "class Language:\n",
    "    def __init__(self, name):\n",
    "        self.name = name\n",
    "        self.word2index = {}\n",
    "        self.word2count = {}\n",
    "        self.index2word = {SOS_token: \"<\", EOS_token: \">\"}\n",
    "        self.n_chars = 2  # Count SOS and EOS\n",
    "\n",
    "    def addWord(self, word):\n",
    "        for char in word:\n",
    "            self.addChar(char)\n",
    "\n",
    "    def addChar(self, char):\n",
    "        if char not in self.word2index:\n",
    "            self.word2index[char] = self.n_chars\n",
    "            self.word2count[char] = 1\n",
    "            self.index2word[self.n_chars] = char\n",
    "            self.n_chars += 1\n",
    "        else:\n",
    "            self.word2count[char] += 1"
   ]
  },
  {
   "cell_type": "code",
   "execution_count": 3,
   "metadata": {},
   "outputs": [],
   "source": [
    "def get_data(lang: str, type: str) -> list[list[str]]:\n",
    "    \"\"\"\n",
    "    Returns: 'pairs': list of [input_word, target_word] pairs\n",
    "    \"\"\"\n",
    "    path = \"./aksharantar_sampled/{}/{}_{}.csv\".format(lang, lang, type)\n",
    "    df = pd.read_csv(path, header=None)\n",
    "    pairs = df.values.tolist()\n",
    "    return pairs"
   ]
  },
  {
   "cell_type": "code",
   "execution_count": 4,
   "metadata": {},
   "outputs": [],
   "source": [
    "def get_languages(lang: str):\n",
    "    \"\"\"\n",
    "    Returns \n",
    "    1. input_lang: input language - English\n",
    "    2. output_lang: output language - Given language\n",
    "    3. pairs: list of [input_word, target_word] pairs\n",
    "    \"\"\"\n",
    "    input_lang = Language('eng')\n",
    "    output_lang = Language(lang)\n",
    "    pairs = get_data(lang, \"train\")\n",
    "    for pair in pairs:\n",
    "        input_lang.addWord(pair[0])\n",
    "        output_lang.addWord(pair[1])\n",
    "    return input_lang, output_lang, pairs"
   ]
  },
  {
   "cell_type": "code",
   "execution_count": 5,
   "metadata": {},
   "outputs": [],
   "source": [
    "def get_cell(cell_type: str):\n",
    "    if cell_type == \"LSTM\":\n",
    "        return nn.LSTM\n",
    "    elif cell_type == \"GRU\":\n",
    "        return nn.GRU\n",
    "    elif cell_type == \"RNN\":\n",
    "        return nn.RNN\n",
    "    else:\n",
    "        raise Exception(\"Invalid cell type\")\n",
    "    \n",
    "def get_optimizer(optimizer: str):\n",
    "    if optimizer == \"SGD\":\n",
    "        return optim.SGD\n",
    "    elif optimizer == \"ADAM\":\n",
    "        return optim.Adam\n",
    "    else:\n",
    "        raise Exception(\"Invalid optimizer\")"
   ]
  },
  {
   "cell_type": "code",
   "execution_count": 6,
   "metadata": {},
   "outputs": [],
   "source": [
    "class Encoder(nn.Module):\n",
    "    def __init__(self,\n",
    "                 in_sz: int,\n",
    "                 embed_sz: int,\n",
    "                 hidden_sz: int,\n",
    "                 cell_type: str,\n",
    "                 n_layers: int,\n",
    "                 dropout: float):\n",
    "        \n",
    "        super(Encoder, self).__init__()\n",
    "        self.hidden_sz = hidden_sz\n",
    "        self.n_layers = n_layers\n",
    "        self.dropout = dropout\n",
    "        self.cell_type = cell_type\n",
    "        self.embedding = nn.Embedding(in_sz, embed_sz)\n",
    "\n",
    "        self.rnn = get_cell(cell_type)(input_size = embed_sz,\n",
    "                                       hidden_size = hidden_sz,\n",
    "                                       num_layers = n_layers,\n",
    "                                       dropout = dropout)\n",
    "        \n",
    "    def forward(self, input, hidden, cell):\n",
    "        embedded = self.embedding(input).view(1, 1, -1)\n",
    "\n",
    "        if(self.cell_type == \"LSTM\"):\n",
    "            output, (hidden, cell) = self.rnn(embedded, (hidden, cell))\n",
    "        else:\n",
    "            output, hidden = self.rnn(embedded, hidden)\n",
    "            \n",
    "        return output, hidden, cell\n",
    "    \n",
    "    def initHidden(self):\n",
    "        return torch.zeros(self.n_layers, 1, self.hidden_sz, device=device)"
   ]
  },
  {
   "cell_type": "code",
   "execution_count": 7,
   "metadata": {},
   "outputs": [],
   "source": [
    "class AttentionDecoder(nn.Module):\n",
    "    def __init__(self,\n",
    "                 out_sz: int,\n",
    "                 embed_sz: int,\n",
    "                 hidden_sz: int,\n",
    "                 cell_type: str,\n",
    "                 n_layers: int,\n",
    "                 dropout: float):\n",
    "\n",
    "        super(AttentionDecoder, self).__init__()\n",
    "        self.hidden_sz = hidden_sz\n",
    "        self.n_layers = n_layers\n",
    "        self.dropout = dropout\n",
    "        self.cell_type = cell_type\n",
    "        self.embedding = nn.Embedding(out_sz, embed_sz)\n",
    "\n",
    "        self.attn = nn.Linear(hidden_sz + embed_sz, 50)\n",
    "        self.attn_combine = nn.Linear(hidden_sz + embed_sz, hidden_sz)\n",
    "\n",
    "        self.rnn = get_cell(cell_type)(input_size = hidden_sz,\n",
    "                                       hidden_size = hidden_sz,\n",
    "                                       num_layers = n_layers,\n",
    "                                       dropout = dropout)\n",
    "        \n",
    "        self.out = nn.Linear(hidden_sz, out_sz)\n",
    "        self.softmax = nn.LogSoftmax(dim=1)\n",
    "\n",
    "    def forward(self, input, hidden, cell, encoder_outputs):\n",
    "        embedding = self.embedding(input).view(1, 1, -1)\n",
    "\n",
    "        attn_weights = F.softmax(self.attn(torch.cat((embedding[0], hidden[0]), 1)), dim=1)\n",
    "        attn_applied = torch.bmm(attn_weights.unsqueeze(0), encoder_outputs.unsqueeze(0))\n",
    "        \n",
    "        output = torch.cat((embedding[0], attn_applied[0]), 1)\n",
    "        output = self.attn_combine(output).unsqueeze(0)\n",
    "\n",
    "        if(self.cell_type == \"LSTM\"):\n",
    "            output, (hidden, cell) = self.rnn(output, (hidden, cell))\n",
    "        else:\n",
    "            output, hidden = self.rnn(output, hidden)\n",
    "\n",
    "        output = self.softmax(self.out(output[0]))\n",
    "        return output, hidden, cell, attn_weights\n",
    "    \n",
    "    def initHidden(self):\n",
    "        return torch.zeros(self.n_layers, 1, self.hidden_sz, device=device)"
   ]
  },
  {
   "cell_type": "code",
   "execution_count": 8,
   "metadata": {},
   "outputs": [],
   "source": [
    "def indexesFromWord(lang:Language, word:str):\n",
    "    return [lang.word2index[char] for char in word]\n",
    "\n",
    "def tensorFromWord(lang:Language, word:str):\n",
    "    indexes = indexesFromWord(lang, word)\n",
    "    indexes.append(EOS_token)\n",
    "    return torch.tensor(indexes, dtype=torch.long, device=device).view(-1, 1)\n",
    "\n",
    "def tensorsFromPair(input_lang:Language, output_lang:Language, pair:list[str]):\n",
    "    input_tensor = tensorFromWord(input_lang, pair[0])\n",
    "    target_tensor = tensorFromWord(output_lang, pair[1])\n",
    "    return (input_tensor, target_tensor)"
   ]
  },
  {
   "cell_type": "code",
   "execution_count": 9,
   "metadata": {},
   "outputs": [],
   "source": [
    "def params_definition(): \n",
    "    \"\"\"\n",
    "    params:\n",
    "\n",
    "        embed_size : size of embedding (input and output) (8, 16, 32, 64)\n",
    "        hidden_size : size of hidden layer (64, 128, 256, 512)\n",
    "        cell_type : type of cell (LSTM, GRU, RNN)\n",
    "        num_layers : number of layers in encoder (1, 2, 3)\n",
    "        dropout : dropout probability\n",
    "        learning_rate : learning rate\n",
    "        teacher_forcing_ratio : teacher forcing ratio (0.5 fixed for now)\n",
    "        optimizer : optimizer (SGD, Adam)\n",
    "        max_length : maximum length of input word (50 fixed for now)\n",
    "\n",
    "    \"\"\"\n",
    "    pass"
   ]
  },
  {
   "cell_type": "code",
   "execution_count": 10,
   "metadata": {},
   "outputs": [],
   "source": [
    "PRINT_EVERY = 5000\n",
    "PLOT_EVERY = 100"
   ]
  },
  {
   "cell_type": "code",
   "execution_count": 11,
   "metadata": {},
   "outputs": [],
   "source": [
    "class Translator:\n",
    "    def __init__(self, lang: str, params: dict):\n",
    "        self.lang = lang\n",
    "        self.input_lang, self.output_lang, self.pairs = get_languages(self.lang)\n",
    "        self.input_size = self.input_lang.n_chars\n",
    "        self.output_size = self.output_lang.n_chars\n",
    "\n",
    "        self.training_pairs = [tensorsFromPair(self.input_lang, self.output_lang, pair) for pair in self.pairs]\n",
    "\n",
    "        self.encoder = Encoder(in_sz = self.input_size,\n",
    "                             embed_sz = params[\"embed_size\"],\n",
    "                             hidden_sz = params[\"hidden_size\"],\n",
    "                             cell_type = params[\"cell_type\"],\n",
    "                             n_layers = params[\"num_layers\"],\n",
    "                             dropout = params[\"dropout\"]).to(device)\n",
    "        \n",
    "        self.decoder = AttentionDecoder(out_sz = self.output_size,\n",
    "                             embed_sz = params[\"embed_size\"],\n",
    "                             hidden_sz = params[\"hidden_size\"],\n",
    "                             cell_type = params[\"cell_type\"],\n",
    "                             n_layers = params[\"num_layers\"],\n",
    "                             dropout = params[\"dropout\"]).to(device)\n",
    "\n",
    "        self.encoder_optimizer = get_optimizer(params[\"optimizer\"])(self.encoder.parameters(), lr=params[\"learning_rate\"], weight_decay=params[\"weight_decay\"])\n",
    "        self.decoder_optimizer = get_optimizer(params[\"optimizer\"])(self.decoder.parameters(), lr=params[\"learning_rate\"], weight_decay=params[\"weight_decay\"])\n",
    "        \n",
    "        self.criterion = nn.NLLLoss()\n",
    "\n",
    "        self.teacher_forcing_ratio = params[\"teacher_forcing_ratio\"]\n",
    "        self.max_length = params[\"max_length\"]\n",
    "\n",
    "    def train_single(self, input_tensor, target_tensor):\n",
    "        encoder_hidden = self.encoder.initHidden()\n",
    "        encoder_cell = self.encoder.initHidden()\n",
    "\n",
    "        self.encoder_optimizer.zero_grad()\n",
    "        self.decoder_optimizer.zero_grad()\n",
    "\n",
    "        input_length = input_tensor.size(0)\n",
    "        target_length = target_tensor.size(0)\n",
    "\n",
    "        encoder_outputs = torch.zeros(self.max_length, self.encoder.hidden_sz, device=device)\n",
    "\n",
    "        loss = 0\n",
    "\n",
    "        for ei in range(input_length):\n",
    "            encoder_output, encoder_hidden, encoder_cell = self.encoder(input_tensor[ei], encoder_hidden, encoder_cell)\n",
    "            encoder_outputs[ei] = encoder_output[0, 0]\n",
    "\n",
    "        decoder_input = torch.tensor([[SOS_token]], device=device)\n",
    "        decoder_hidden, decoder_cell = encoder_hidden, encoder_cell\n",
    "\n",
    "        use_teacher_forcing = True if random.random() < self.teacher_forcing_ratio else False\n",
    "\n",
    "        if use_teacher_forcing:\n",
    "            for di in range(target_length):\n",
    "                decoder_output, decoder_hidden, decoder_cell, decoder_attention = self.decoder(decoder_input, decoder_hidden, decoder_cell, encoder_outputs)\n",
    "                loss += self.criterion(decoder_output, target_tensor[di])\n",
    "\n",
    "                decoder_input = target_tensor[di]\n",
    "        else:\n",
    "            for di in range(target_length):\n",
    "                decoder_output, decoder_hidden, decoder_cell, decoder_attention = self.decoder(decoder_input, decoder_hidden, decoder_cell, encoder_outputs)\n",
    "                loss += self.criterion(decoder_output, target_tensor[di])\n",
    "\n",
    "                topv, topi = decoder_output.topk(1)\n",
    "                decoder_input = topi.squeeze().detach()\n",
    "                if decoder_input.item() == EOS_token:\n",
    "                    break\n",
    "\n",
    "        loss.backward()\n",
    "        self.encoder_optimizer.step()\n",
    "        self.decoder_optimizer.step()\n",
    "\n",
    "        return loss.item() / target_length\n",
    "    \n",
    "    def train(self, iters=-1):\n",
    "        start_time = time.time()\n",
    "        plot_losses = []\n",
    "        print_loss_total = 0\n",
    "        plot_loss_total = 0\n",
    "\n",
    "        random.shuffle(self.training_pairs)\n",
    "        iters = len(self.training_pairs) if iters == -1 else iters\n",
    "\n",
    "        for iter in range(1, iters):\n",
    "            training_pair = self.training_pairs[iter - 1]\n",
    "            input_tensor = training_pair[0]\n",
    "            target_tensor = training_pair[1]\n",
    "\n",
    "            loss = self.train_single(input_tensor, target_tensor)\n",
    "            print_loss_total += loss\n",
    "            plot_loss_total += loss\n",
    "\n",
    "            if iter % PRINT_EVERY == 0:\n",
    "                print_loss_avg = print_loss_total / PRINT_EVERY\n",
    "                print_loss_total = 0\n",
    "                current_time = time.time()\n",
    "                print(\"Loss: {:.4f} | Iterations: {} | Time: {:.3f}\".format(print_loss_avg, iter, current_time - start_time))\n",
    "\n",
    "            if iter % PLOT_EVERY == 0:\n",
    "                plot_loss_avg = plot_loss_total / PLOT_EVERY\n",
    "                plot_losses.append(plot_loss_avg)\n",
    "                plot_loss_total = 0\n",
    "            \n",
    "        return plot_losses\n",
    "    \n",
    "    def evaluate(self, word):\n",
    "        with torch.no_grad():\n",
    "            input_tensor = tensorFromWord(self.input_lang, word)\n",
    "            input_length = input_tensor.size()[0]\n",
    "            encoder_hidden = self.encoder.initHidden()\n",
    "            encoder_cell = self.encoder.initHidden()\n",
    "\n",
    "            encoder_outputs = torch.zeros(self.max_length, self.encoder.hidden_sz, device=device)\n",
    "\n",
    "            for ei in range(input_length):\n",
    "                encoder_output, encoder_hidden, encoder_cell = self.encoder(input_tensor[ei], encoder_hidden, encoder_cell)\n",
    "                encoder_outputs[ei] += encoder_output[0, 0]\n",
    "\n",
    "            decoder_input = torch.tensor([[SOS_token]], device=device)\n",
    "            decoder_hidden, decoder_cell = encoder_hidden, encoder_cell\n",
    "\n",
    "            decoded_chars = \"\"\n",
    "            decoder_attentions = torch.zeros(self.max_length, self.max_length)\n",
    "\n",
    "            for di in range(self.max_length):\n",
    "                decoder_output, decoder_hidden, decoder_cell, decoder_attention = self.decoder(decoder_input, decoder_hidden, decoder_cell, encoder_outputs)\n",
    "                decoder_attentions[di] = decoder_attention.data\n",
    "                topv, topi = decoder_output.topk(1)\n",
    "                \n",
    "                if topi.item() == EOS_token:\n",
    "                    break\n",
    "                else:\n",
    "                    decoded_chars += self.output_lang.index2word[topi.item()]\n",
    "\n",
    "                decoder_input = topi.squeeze().detach()\n",
    "\n",
    "            return decoded_chars, decoder_attentions[:di + 1]\n",
    "        \n",
    "    def test_validate(self, type:str):\n",
    "        pairs = get_data(self.lang, type)\n",
    "        accuracy = 0\n",
    "        for pair in pairs:\n",
    "            output, _ = self.evaluate(pair[0])\n",
    "            if output == pair[1]:\n",
    "                accuracy += 1\n",
    "        return accuracy / len(pairs)"
   ]
  },
  {
   "cell_type": "code",
   "execution_count": 12,
   "metadata": {},
   "outputs": [],
   "source": [
    "def plot_losses(plot_losses, title: str):\n",
    "    # return plot of losses\n",
    "    x_labels = [i * PLOT_EVERY for i in range(1, len(plot_losses) + 1)]\n",
    "    plt.plot(x_labels, plot_losses, color=\"blue\")\n",
    "    plt.xlabel(\"Iterations\")\n",
    "    plt.ylabel(\"Loss\")\n",
    "    plt.title(title)\n",
    "    plt.show()"
   ]
  },
  {
   "cell_type": "code",
   "execution_count": 13,
   "metadata": {},
   "outputs": [],
   "source": [
    "sweep_configuration = {\n",
    "    \"method\": \"bayes\",\n",
    "    \"metric\": {\n",
    "        \"name\": \"validation_accuracy\",\n",
    "        \"goal\": \"maximize\"\n",
    "    },\n",
    "    \"parameters\": {\n",
    "        \"embed_size\": {\n",
    "            \"values\": [8, 16, 32]\n",
    "        },\n",
    "        \"hidden_size\": {\n",
    "            \"values\": [128, 256, 512]\n",
    "        },\n",
    "        \"cell_type\": {\n",
    "            \"values\": [\"GRU\", \"LSTM\", \"RNN\"]\n",
    "        },\n",
    "        \"num_layers\": {\n",
    "            \"values\": [1, 2, 3]\n",
    "        },\n",
    "        \"dropout\": {\n",
    "            \"values\": [0, 0.1, 0.2]\n",
    "        },\n",
    "        \"learning_rate\": {\n",
    "            \"values\": [0.001, 0.005]\n",
    "        },\n",
    "        \"optimizer\": {\n",
    "            \"values\": [\"SGD\", \"ADAM\"]\n",
    "        },\n",
    "        \"teacher_forcing_ratio\": {\n",
    "            'value': 0.5\n",
    "        },\n",
    "        \"max_length\": {\n",
    "            'value': 50\n",
    "        },\n",
    "        \"weight_decay\": {\n",
    "            \"values\": [0, 1e-1, 1e-3, 1e-5]\n",
    "        }\n",
    "    }\n",
    "}"
   ]
  },
  {
   "cell_type": "code",
   "execution_count": 14,
   "metadata": {},
   "outputs": [],
   "source": [
    "count = 0\n",
    "\n",
    "def train_sweep():\n",
    "    global count\n",
    "    count += 1\n",
    "\n",
    "    run = wandb.init()\n",
    "    config = wandb.config\n",
    "    run.name = \"embed_size: {} | hidden_size: {} | cell_type: {} | num_layers: {} | dropout: {} | learning_rate: {} | optimizer: {} | teacher_forcing_ratio: {} | max_length: {} | weight_decay: {}\".format(config.embed_size, config.hidden_size, config.cell_type, config.num_layers, config.dropout, config.learning_rate, config.optimizer, config.teacher_forcing_ratio, config.max_length, config.weight_decay)\n",
    "\n",
    "    model = Translator('tam', config)\n",
    "\n",
    "    epochs = 10\n",
    "\n",
    "    for epoch in range(epochs):\n",
    "        print(\"Epoch: {}\".format(epoch + 1))\n",
    "        plot_losses = model.train()\n",
    "\n",
    "        # take average of plot losses as training loss\n",
    "        training_loss = sum(plot_losses) / len(plot_losses)\n",
    "        \n",
    "        training_accuracy = model.test_validate('train')\n",
    "        print(\"Training Accuracy: {:.4f}\".format(training_accuracy))\n",
    "\n",
    "        validation_accuracy = model.test_validate('valid')\n",
    "        print(\"Validation Accuracy: {:.4f}\".format(validation_accuracy))\n",
    "\n",
    "        wandb.log({\n",
    "            \"epoch\": epoch + 1,\n",
    "            \"training_loss\": training_loss,\n",
    "            \"training_accuracy\": training_accuracy,\n",
    "            \"validation_accuracy\": validation_accuracy\n",
    "        })\n",
    "\n",
    "        if epoch > 0:\n",
    "            if validation_accuracy < 0.0001:\n",
    "                break\n",
    "\n",
    "    test_accuracy = model.test_validate('test')\n",
    "    print(\"Test Accuracy: {:.4f}\".format(test_accuracy))\n",
    "\n",
    "    wandb.log({\n",
    "        \"test_accuracy\": test_accuracy\n",
    "    })\n",
    "\n",
    "    run.finish()"
   ]
  },
  {
   "cell_type": "code",
   "execution_count": 15,
   "metadata": {},
   "outputs": [
    {
     "name": "stdout",
     "output_type": "stream",
     "text": [
      "Create sweep with ID: w613tuxy\n",
      "Sweep URL: https://wandb.ai/cs20b013-bersilin/Test2/sweeps/w613tuxy\n"
     ]
    },
    {
     "name": "stderr",
     "output_type": "stream",
     "text": [
      "\u001b[34m\u001b[1mwandb\u001b[0m: Agent Starting Run: 3vzxdlwf with config:\n",
      "\u001b[34m\u001b[1mwandb\u001b[0m: \tcell_type: LSTM\n",
      "\u001b[34m\u001b[1mwandb\u001b[0m: \tdropout: 0.1\n",
      "\u001b[34m\u001b[1mwandb\u001b[0m: \tembed_size: 32\n",
      "\u001b[34m\u001b[1mwandb\u001b[0m: \thidden_size: 128\n",
      "\u001b[34m\u001b[1mwandb\u001b[0m: \tlearning_rate: 0.005\n",
      "\u001b[34m\u001b[1mwandb\u001b[0m: \tmax_length: 50\n",
      "\u001b[34m\u001b[1mwandb\u001b[0m: \tnum_layers: 2\n",
      "\u001b[34m\u001b[1mwandb\u001b[0m: \toptimizer: SGD\n",
      "\u001b[34m\u001b[1mwandb\u001b[0m: \tteacher_forcing_ratio: 0.5\n",
      "\u001b[34m\u001b[1mwandb\u001b[0m: \tweight_decay: 0.1\n",
      "Failed to detect the name of this notebook, you can set it manually with the WANDB_NOTEBOOK_NAME environment variable to enable code saving.\n"
     ]
    },
    {
     "data": {
      "text/html": [
       "Tracking run with wandb version 0.15.2"
      ],
      "text/plain": [
       "<IPython.core.display.HTML object>"
      ]
     },
     "metadata": {},
     "output_type": "display_data"
    },
    {
     "data": {
      "text/html": [
       "Run data is saved locally in <code>/home/bersi/Documents/CS6910 Assignments/CS6910-Assignment3/wandb/run-20230507_000651-3vzxdlwf</code>"
      ],
      "text/plain": [
       "<IPython.core.display.HTML object>"
      ]
     },
     "metadata": {},
     "output_type": "display_data"
    },
    {
     "data": {
      "text/html": [
       "Syncing run <strong><a href='https://wandb.ai/cs20b013-bersilin/Test2/runs/3vzxdlwf' target=\"_blank\">worldly-sweep-1</a></strong> to <a href='https://wandb.ai/cs20b013-bersilin/Test2' target=\"_blank\">Weights & Biases</a> (<a href='https://wandb.me/run' target=\"_blank\">docs</a>)<br/>Sweep page: <a href='https://wandb.ai/cs20b013-bersilin/Test2/sweeps/w613tuxy' target=\"_blank\">https://wandb.ai/cs20b013-bersilin/Test2/sweeps/w613tuxy</a>"
      ],
      "text/plain": [
       "<IPython.core.display.HTML object>"
      ]
     },
     "metadata": {},
     "output_type": "display_data"
    },
    {
     "data": {
      "text/html": [
       " View project at <a href='https://wandb.ai/cs20b013-bersilin/Test2' target=\"_blank\">https://wandb.ai/cs20b013-bersilin/Test2</a>"
      ],
      "text/plain": [
       "<IPython.core.display.HTML object>"
      ]
     },
     "metadata": {},
     "output_type": "display_data"
    },
    {
     "data": {
      "text/html": [
       " View sweep at <a href='https://wandb.ai/cs20b013-bersilin/Test2/sweeps/w613tuxy' target=\"_blank\">https://wandb.ai/cs20b013-bersilin/Test2/sweeps/w613tuxy</a>"
      ],
      "text/plain": [
       "<IPython.core.display.HTML object>"
      ]
     },
     "metadata": {},
     "output_type": "display_data"
    },
    {
     "data": {
      "text/html": [
       " View run at <a href='https://wandb.ai/cs20b013-bersilin/Test2/runs/3vzxdlwf' target=\"_blank\">https://wandb.ai/cs20b013-bersilin/Test2/runs/3vzxdlwf</a>"
      ],
      "text/plain": [
       "<IPython.core.display.HTML object>"
      ]
     },
     "metadata": {},
     "output_type": "display_data"
    },
    {
     "name": "stdout",
     "output_type": "stream",
     "text": [
      "Epoch: 1\n",
      "Loss: 2.9721 | Iterations: 5000 | Time: 58.193\n",
      "Loss: 2.8979 | Iterations: 10000 | Time: 130.161\n",
      "Loss: 2.8853 | Iterations: 15000 | Time: 214.936\n",
      "Loss: 2.8362 | Iterations: 20000 | Time: 297.428\n",
      "Loss: 2.8325 | Iterations: 25000 | Time: 381.752\n",
      "Loss: 2.8172 | Iterations: 30000 | Time: 467.418\n",
      "Loss: 2.8094 | Iterations: 35000 | Time: 551.827\n",
      "Loss: 2.8117 | Iterations: 40000 | Time: 637.342\n",
      "Loss: 2.8111 | Iterations: 45000 | Time: 721.459\n",
      "Loss: 2.8023 | Iterations: 50000 | Time: 803.986\n",
      "Training Accuracy: 0.0000\n",
      "Validation Accuracy: 0.0000\n",
      "Epoch: 2\n",
      "Loss: 2.8088 | Iterations: 5000 | Time: 60.287\n",
      "Loss: 2.8034 | Iterations: 10000 | Time: 119.788\n",
      "Loss: 2.8066 | Iterations: 15000 | Time: 194.650\n",
      "Loss: 2.8106 | Iterations: 20000 | Time: 271.471\n",
      "Loss: 2.8147 | Iterations: 25000 | Time: 348.245\n",
      "Loss: 2.8052 | Iterations: 30000 | Time: 425.318\n",
      "Loss: 2.8012 | Iterations: 35000 | Time: 502.160\n",
      "Loss: 2.8096 | Iterations: 40000 | Time: 578.641\n",
      "Loss: 2.8068 | Iterations: 45000 | Time: 654.992\n",
      "Loss: 2.7995 | Iterations: 50000 | Time: 732.256\n",
      "Training Accuracy: 0.0000\n",
      "Validation Accuracy: 0.0000\n",
      "Test Accuracy: 0.0000\n"
     ]
    },
    {
     "data": {
      "text/html": [
       "Waiting for W&B process to finish... <strong style=\"color:green\">(success).</strong>"
      ],
      "text/plain": [
       "<IPython.core.display.HTML object>"
      ]
     },
     "metadata": {},
     "output_type": "display_data"
    },
    {
     "data": {
      "text/html": [
       "<style>\n",
       "    table.wandb td:nth-child(1) { padding: 0 10px; text-align: left ; width: auto;} td:nth-child(2) {text-align: left ; width: 100%}\n",
       "    .wandb-row { display: flex; flex-direction: row; flex-wrap: wrap; justify-content: flex-start; width: 100% }\n",
       "    .wandb-col { display: flex; flex-direction: column; flex-basis: 100%; flex: 1; padding: 10px; }\n",
       "    </style>\n",
       "<div class=\"wandb-row\"><div class=\"wandb-col\"><h3>Run history:</h3><br/><table class=\"wandb\"><tr><td>epoch</td><td>▁█</td></tr><tr><td>test_accuracy</td><td>▁</td></tr><tr><td>training_accuracy</td><td>▁▁</td></tr><tr><td>training_loss</td><td>█▁</td></tr><tr><td>validation_accuracy</td><td>▁▁</td></tr></table><br/></div><div class=\"wandb-col\"><h3>Run summary:</h3><br/><table class=\"wandb\"><tr><td>epoch</td><td>2</td></tr><tr><td>test_accuracy</td><td>0.0</td></tr><tr><td>training_accuracy</td><td>0.0</td></tr><tr><td>training_loss</td><td>2.80671</td></tr><tr><td>validation_accuracy</td><td>0.0</td></tr></table><br/></div></div>"
      ],
      "text/plain": [
       "<IPython.core.display.HTML object>"
      ]
     },
     "metadata": {},
     "output_type": "display_data"
    },
    {
     "data": {
      "text/html": [
       " View run <strong style=\"color:#cdcd00\">worldly-sweep-1</strong> at: <a href='https://wandb.ai/cs20b013-bersilin/Test2/runs/3vzxdlwf' target=\"_blank\">https://wandb.ai/cs20b013-bersilin/Test2/runs/3vzxdlwf</a><br/>Synced 5 W&B file(s), 0 media file(s), 0 artifact file(s) and 0 other file(s)"
      ],
      "text/plain": [
       "<IPython.core.display.HTML object>"
      ]
     },
     "metadata": {},
     "output_type": "display_data"
    },
    {
     "data": {
      "text/html": [
       "Find logs at: <code>./wandb/run-20230507_000651-3vzxdlwf/logs</code>"
      ],
      "text/plain": [
       "<IPython.core.display.HTML object>"
      ]
     },
     "metadata": {},
     "output_type": "display_data"
    },
    {
     "name": "stderr",
     "output_type": "stream",
     "text": [
      "\u001b[34m\u001b[1mwandb\u001b[0m: Agent Starting Run: rx8yaqdy with config:\n",
      "\u001b[34m\u001b[1mwandb\u001b[0m: \tcell_type: RNN\n",
      "\u001b[34m\u001b[1mwandb\u001b[0m: \tdropout: 0.1\n",
      "\u001b[34m\u001b[1mwandb\u001b[0m: \tembed_size: 16\n",
      "\u001b[34m\u001b[1mwandb\u001b[0m: \thidden_size: 256\n",
      "\u001b[34m\u001b[1mwandb\u001b[0m: \tlearning_rate: 0.005\n",
      "\u001b[34m\u001b[1mwandb\u001b[0m: \tmax_length: 50\n",
      "\u001b[34m\u001b[1mwandb\u001b[0m: \tnum_layers: 3\n",
      "\u001b[34m\u001b[1mwandb\u001b[0m: \toptimizer: ADAM\n",
      "\u001b[34m\u001b[1mwandb\u001b[0m: \tteacher_forcing_ratio: 0.5\n",
      "\u001b[34m\u001b[1mwandb\u001b[0m: \tweight_decay: 1e-05\n",
      "Failed to detect the name of this notebook, you can set it manually with the WANDB_NOTEBOOK_NAME environment variable to enable code saving.\n"
     ]
    },
    {
     "data": {
      "text/html": [
       "Tracking run with wandb version 0.15.2"
      ],
      "text/plain": [
       "<IPython.core.display.HTML object>"
      ]
     },
     "metadata": {},
     "output_type": "display_data"
    },
    {
     "data": {
      "text/html": [
       "Run data is saved locally in <code>/home/bersi/Documents/CS6910 Assignments/CS6910-Assignment3/wandb/run-20230507_005220-rx8yaqdy</code>"
      ],
      "text/plain": [
       "<IPython.core.display.HTML object>"
      ]
     },
     "metadata": {},
     "output_type": "display_data"
    },
    {
     "data": {
      "text/html": [
       "Syncing run <strong><a href='https://wandb.ai/cs20b013-bersilin/Test2/runs/rx8yaqdy' target=\"_blank\">leafy-sweep-4</a></strong> to <a href='https://wandb.ai/cs20b013-bersilin/Test2' target=\"_blank\">Weights & Biases</a> (<a href='https://wandb.me/run' target=\"_blank\">docs</a>)<br/>Sweep page: <a href='https://wandb.ai/cs20b013-bersilin/Test2/sweeps/w613tuxy' target=\"_blank\">https://wandb.ai/cs20b013-bersilin/Test2/sweeps/w613tuxy</a>"
      ],
      "text/plain": [
       "<IPython.core.display.HTML object>"
      ]
     },
     "metadata": {},
     "output_type": "display_data"
    },
    {
     "data": {
      "text/html": [
       " View project at <a href='https://wandb.ai/cs20b013-bersilin/Test2' target=\"_blank\">https://wandb.ai/cs20b013-bersilin/Test2</a>"
      ],
      "text/plain": [
       "<IPython.core.display.HTML object>"
      ]
     },
     "metadata": {},
     "output_type": "display_data"
    },
    {
     "data": {
      "text/html": [
       " View sweep at <a href='https://wandb.ai/cs20b013-bersilin/Test2/sweeps/w613tuxy' target=\"_blank\">https://wandb.ai/cs20b013-bersilin/Test2/sweeps/w613tuxy</a>"
      ],
      "text/plain": [
       "<IPython.core.display.HTML object>"
      ]
     },
     "metadata": {},
     "output_type": "display_data"
    },
    {
     "data": {
      "text/html": [
       " View run at <a href='https://wandb.ai/cs20b013-bersilin/Test2/runs/rx8yaqdy' target=\"_blank\">https://wandb.ai/cs20b013-bersilin/Test2/runs/rx8yaqdy</a>"
      ],
      "text/plain": [
       "<IPython.core.display.HTML object>"
      ]
     },
     "metadata": {},
     "output_type": "display_data"
    },
    {
     "name": "stdout",
     "output_type": "stream",
     "text": [
      "Epoch: 1\n",
      "Loss: 3.2181 | Iterations: 5000 | Time: 87.451\n",
      "Loss: 3.1839 | Iterations: 10000 | Time: 180.186\n",
      "Loss: 3.2117 | Iterations: 15000 | Time: 274.833\n",
      "Loss: 3.2345 | Iterations: 20000 | Time: 371.261\n",
      "Loss: 3.1279 | Iterations: 25000 | Time: 464.190\n",
      "Loss: 3.1364 | Iterations: 30000 | Time: 557.849\n",
      "Loss: 3.0841 | Iterations: 35000 | Time: 650.051\n",
      "Loss: 3.0271 | Iterations: 40000 | Time: 741.638\n",
      "Loss: 3.0068 | Iterations: 45000 | Time: 831.891\n",
      "Loss: 3.0712 | Iterations: 50000 | Time: 919.537\n",
      "Training Accuracy: 0.0000\n",
      "Validation Accuracy: 0.0000\n",
      "Epoch: 2\n",
      "Loss: 3.0614 | Iterations: 5000 | Time: 92.339\n",
      "Loss: 3.1504 | Iterations: 10000 | Time: 186.435\n",
      "Loss: 3.1807 | Iterations: 15000 | Time: 262.133\n",
      "Loss: 3.1501 | Iterations: 20000 | Time: 332.499\n",
      "Loss: 3.0787 | Iterations: 25000 | Time: 400.736\n",
      "Loss: 3.0535 | Iterations: 30000 | Time: 469.390\n",
      "Loss: 3.0669 | Iterations: 35000 | Time: 538.200\n",
      "Loss: 3.0162 | Iterations: 40000 | Time: 606.500\n",
      "Loss: 3.0001 | Iterations: 45000 | Time: 674.754\n",
      "Loss: 3.0118 | Iterations: 50000 | Time: 743.643\n",
      "Training Accuracy: 0.0000\n",
      "Validation Accuracy: 0.0000\n",
      "Test Accuracy: 0.0000\n"
     ]
    },
    {
     "data": {
      "text/html": [
       "Waiting for W&B process to finish... <strong style=\"color:green\">(success).</strong>"
      ],
      "text/plain": [
       "<IPython.core.display.HTML object>"
      ]
     },
     "metadata": {},
     "output_type": "display_data"
    },
    {
     "data": {
      "text/html": [
       "<style>\n",
       "    table.wandb td:nth-child(1) { padding: 0 10px; text-align: left ; width: auto;} td:nth-child(2) {text-align: left ; width: 100%}\n",
       "    .wandb-row { display: flex; flex-direction: row; flex-wrap: wrap; justify-content: flex-start; width: 100% }\n",
       "    .wandb-col { display: flex; flex-direction: column; flex-basis: 100%; flex: 1; padding: 10px; }\n",
       "    </style>\n",
       "<div class=\"wandb-row\"><div class=\"wandb-col\"><h3>Run history:</h3><br/><table class=\"wandb\"><tr><td>epoch</td><td>▁█</td></tr><tr><td>test_accuracy</td><td>▁</td></tr><tr><td>training_accuracy</td><td>▁▁</td></tr><tr><td>training_loss</td><td>█▁</td></tr><tr><td>validation_accuracy</td><td>▁▁</td></tr></table><br/></div><div class=\"wandb-col\"><h3>Run summary:</h3><br/><table class=\"wandb\"><tr><td>epoch</td><td>2</td></tr><tr><td>test_accuracy</td><td>0.0</td></tr><tr><td>training_accuracy</td><td>0.0</td></tr><tr><td>training_loss</td><td>3.07659</td></tr><tr><td>validation_accuracy</td><td>0.0</td></tr></table><br/></div></div>"
      ],
      "text/plain": [
       "<IPython.core.display.HTML object>"
      ]
     },
     "metadata": {},
     "output_type": "display_data"
    },
    {
     "data": {
      "text/html": [
       " View run <strong style=\"color:#cdcd00\">leafy-sweep-4</strong> at: <a href='https://wandb.ai/cs20b013-bersilin/Test2/runs/rx8yaqdy' target=\"_blank\">https://wandb.ai/cs20b013-bersilin/Test2/runs/rx8yaqdy</a><br/>Synced 5 W&B file(s), 0 media file(s), 0 artifact file(s) and 0 other file(s)"
      ],
      "text/plain": [
       "<IPython.core.display.HTML object>"
      ]
     },
     "metadata": {},
     "output_type": "display_data"
    },
    {
     "data": {
      "text/html": [
       "Find logs at: <code>./wandb/run-20230507_005220-rx8yaqdy/logs</code>"
      ],
      "text/plain": [
       "<IPython.core.display.HTML object>"
      ]
     },
     "metadata": {},
     "output_type": "display_data"
    },
    {
     "name": "stderr",
     "output_type": "stream",
     "text": [
      "\u001b[34m\u001b[1mwandb\u001b[0m: Agent Starting Run: qgwyz8io with config:\n",
      "\u001b[34m\u001b[1mwandb\u001b[0m: \tcell_type: GRU\n",
      "\u001b[34m\u001b[1mwandb\u001b[0m: \tdropout: 0\n",
      "\u001b[34m\u001b[1mwandb\u001b[0m: \tembed_size: 32\n",
      "\u001b[34m\u001b[1mwandb\u001b[0m: \thidden_size: 256\n",
      "\u001b[34m\u001b[1mwandb\u001b[0m: \tlearning_rate: 0.005\n",
      "\u001b[34m\u001b[1mwandb\u001b[0m: \tmax_length: 50\n",
      "\u001b[34m\u001b[1mwandb\u001b[0m: \tnum_layers: 1\n",
      "\u001b[34m\u001b[1mwandb\u001b[0m: \toptimizer: ADAM\n",
      "\u001b[34m\u001b[1mwandb\u001b[0m: \tteacher_forcing_ratio: 0.5\n",
      "\u001b[34m\u001b[1mwandb\u001b[0m: \tweight_decay: 0.001\n",
      "Failed to detect the name of this notebook, you can set it manually with the WANDB_NOTEBOOK_NAME environment variable to enable code saving.\n"
     ]
    },
    {
     "data": {
      "text/html": [
       "Tracking run with wandb version 0.15.2"
      ],
      "text/plain": [
       "<IPython.core.display.HTML object>"
      ]
     },
     "metadata": {},
     "output_type": "display_data"
    },
    {
     "data": {
      "text/html": [
       "Run data is saved locally in <code>/home/bersi/Documents/CS6910 Assignments/CS6910-Assignment3/wandb/run-20230507_021525-qgwyz8io</code>"
      ],
      "text/plain": [
       "<IPython.core.display.HTML object>"
      ]
     },
     "metadata": {},
     "output_type": "display_data"
    },
    {
     "data": {
      "text/html": [
       "Syncing run <strong><a href='https://wandb.ai/cs20b013-bersilin/Test2/runs/qgwyz8io' target=\"_blank\">mild-sweep-6</a></strong> to <a href='https://wandb.ai/cs20b013-bersilin/Test2' target=\"_blank\">Weights & Biases</a> (<a href='https://wandb.me/run' target=\"_blank\">docs</a>)<br/>Sweep page: <a href='https://wandb.ai/cs20b013-bersilin/Test2/sweeps/w613tuxy' target=\"_blank\">https://wandb.ai/cs20b013-bersilin/Test2/sweeps/w613tuxy</a>"
      ],
      "text/plain": [
       "<IPython.core.display.HTML object>"
      ]
     },
     "metadata": {},
     "output_type": "display_data"
    },
    {
     "data": {
      "text/html": [
       " View project at <a href='https://wandb.ai/cs20b013-bersilin/Test2' target=\"_blank\">https://wandb.ai/cs20b013-bersilin/Test2</a>"
      ],
      "text/plain": [
       "<IPython.core.display.HTML object>"
      ]
     },
     "metadata": {},
     "output_type": "display_data"
    },
    {
     "data": {
      "text/html": [
       " View sweep at <a href='https://wandb.ai/cs20b013-bersilin/Test2/sweeps/w613tuxy' target=\"_blank\">https://wandb.ai/cs20b013-bersilin/Test2/sweeps/w613tuxy</a>"
      ],
      "text/plain": [
       "<IPython.core.display.HTML object>"
      ]
     },
     "metadata": {},
     "output_type": "display_data"
    },
    {
     "data": {
      "text/html": [
       " View run at <a href='https://wandb.ai/cs20b013-bersilin/Test2/runs/qgwyz8io' target=\"_blank\">https://wandb.ai/cs20b013-bersilin/Test2/runs/qgwyz8io</a>"
      ],
      "text/plain": [
       "<IPython.core.display.HTML object>"
      ]
     },
     "metadata": {},
     "output_type": "display_data"
    },
    {
     "name": "stdout",
     "output_type": "stream",
     "text": [
      "Epoch: 1\n",
      "Loss: 2.3288 | Iterations: 5000 | Time: 58.649\n",
      "Loss: 2.3795 | Iterations: 10000 | Time: 117.600\n",
      "Loss: 2.3846 | Iterations: 15000 | Time: 179.261\n",
      "Loss: 2.5703 | Iterations: 20000 | Time: 241.049\n",
      "Loss: 2.5305 | Iterations: 25000 | Time: 303.344\n",
      "Loss: 2.7091 | Iterations: 30000 | Time: 364.858\n",
      "Loss: 2.9477 | Iterations: 35000 | Time: 425.696\n",
      "Loss: 2.8305 | Iterations: 40000 | Time: 486.114\n",
      "Loss: 2.8389 | Iterations: 45000 | Time: 546.744\n",
      "Loss: 2.8032 | Iterations: 50000 | Time: 607.358\n",
      "Training Accuracy: 0.0000\n",
      "Validation Accuracy: 0.0000\n",
      "Epoch: 2\n",
      "Loss: 2.9227 | Iterations: 5000 | Time: 60.944\n",
      "Loss: 2.9479 | Iterations: 10000 | Time: 122.209\n",
      "Loss: 3.0052 | Iterations: 15000 | Time: 183.471\n",
      "Loss: 2.8671 | Iterations: 20000 | Time: 244.120\n",
      "Loss: 2.9416 | Iterations: 25000 | Time: 305.472\n",
      "Loss: 2.9678 | Iterations: 30000 | Time: 367.084\n",
      "Loss: 2.9607 | Iterations: 35000 | Time: 426.901\n",
      "Loss: 2.9800 | Iterations: 40000 | Time: 484.786\n",
      "Loss: 2.8009 | Iterations: 45000 | Time: 541.860\n",
      "Loss: 2.8408 | Iterations: 50000 | Time: 598.573\n",
      "Training Accuracy: 0.0000\n",
      "Validation Accuracy: 0.0000\n",
      "Test Accuracy: 0.0000\n"
     ]
    },
    {
     "data": {
      "text/html": [
       "Waiting for W&B process to finish... <strong style=\"color:green\">(success).</strong>"
      ],
      "text/plain": [
       "<IPython.core.display.HTML object>"
      ]
     },
     "metadata": {},
     "output_type": "display_data"
    },
    {
     "data": {
      "text/html": [
       "<style>\n",
       "    table.wandb td:nth-child(1) { padding: 0 10px; text-align: left ; width: auto;} td:nth-child(2) {text-align: left ; width: 100%}\n",
       "    .wandb-row { display: flex; flex-direction: row; flex-wrap: wrap; justify-content: flex-start; width: 100% }\n",
       "    .wandb-col { display: flex; flex-direction: column; flex-basis: 100%; flex: 1; padding: 10px; }\n",
       "    </style>\n",
       "<div class=\"wandb-row\"><div class=\"wandb-col\"><h3>Run history:</h3><br/><table class=\"wandb\"><tr><td>epoch</td><td>▁█</td></tr><tr><td>test_accuracy</td><td>▁</td></tr><tr><td>training_accuracy</td><td>▁▁</td></tr><tr><td>training_loss</td><td>▁█</td></tr><tr><td>validation_accuracy</td><td>▁▁</td></tr></table><br/></div><div class=\"wandb-col\"><h3>Run summary:</h3><br/><table class=\"wandb\"><tr><td>epoch</td><td>2</td></tr><tr><td>test_accuracy</td><td>0.0</td></tr><tr><td>training_accuracy</td><td>0.0</td></tr><tr><td>training_loss</td><td>2.92353</td></tr><tr><td>validation_accuracy</td><td>0.0</td></tr></table><br/></div></div>"
      ],
      "text/plain": [
       "<IPython.core.display.HTML object>"
      ]
     },
     "metadata": {},
     "output_type": "display_data"
    },
    {
     "data": {
      "text/html": [
       " View run <strong style=\"color:#cdcd00\">mild-sweep-6</strong> at: <a href='https://wandb.ai/cs20b013-bersilin/Test2/runs/qgwyz8io' target=\"_blank\">https://wandb.ai/cs20b013-bersilin/Test2/runs/qgwyz8io</a><br/>Synced 5 W&B file(s), 0 media file(s), 0 artifact file(s) and 0 other file(s)"
      ],
      "text/plain": [
       "<IPython.core.display.HTML object>"
      ]
     },
     "metadata": {},
     "output_type": "display_data"
    },
    {
     "data": {
      "text/html": [
       "Find logs at: <code>./wandb/run-20230507_021525-qgwyz8io/logs</code>"
      ],
      "text/plain": [
       "<IPython.core.display.HTML object>"
      ]
     },
     "metadata": {},
     "output_type": "display_data"
    },
    {
     "name": "stderr",
     "output_type": "stream",
     "text": [
      "\u001b[34m\u001b[1mwandb\u001b[0m: Agent Starting Run: p2veloxd with config:\n",
      "\u001b[34m\u001b[1mwandb\u001b[0m: \tcell_type: LSTM\n",
      "\u001b[34m\u001b[1mwandb\u001b[0m: \tdropout: 0\n",
      "\u001b[34m\u001b[1mwandb\u001b[0m: \tembed_size: 32\n",
      "\u001b[34m\u001b[1mwandb\u001b[0m: \thidden_size: 256\n",
      "\u001b[34m\u001b[1mwandb\u001b[0m: \tlearning_rate: 0.001\n",
      "\u001b[34m\u001b[1mwandb\u001b[0m: \tmax_length: 50\n",
      "\u001b[34m\u001b[1mwandb\u001b[0m: \tnum_layers: 1\n",
      "\u001b[34m\u001b[1mwandb\u001b[0m: \toptimizer: SGD\n",
      "\u001b[34m\u001b[1mwandb\u001b[0m: \tteacher_forcing_ratio: 0.5\n",
      "\u001b[34m\u001b[1mwandb\u001b[0m: \tweight_decay: 0.001\n",
      "Failed to detect the name of this notebook, you can set it manually with the WANDB_NOTEBOOK_NAME environment variable to enable code saving.\n"
     ]
    },
    {
     "data": {
      "text/html": [
       "Tracking run with wandb version 0.15.2"
      ],
      "text/plain": [
       "<IPython.core.display.HTML object>"
      ]
     },
     "metadata": {},
     "output_type": "display_data"
    },
    {
     "data": {
      "text/html": [
       "Run data is saved locally in <code>/home/bersi/Documents/CS6910 Assignments/CS6910-Assignment3/wandb/run-20230507_032013-p2veloxd</code>"
      ],
      "text/plain": [
       "<IPython.core.display.HTML object>"
      ]
     },
     "metadata": {},
     "output_type": "display_data"
    },
    {
     "data": {
      "text/html": [
       "Syncing run <strong><a href='https://wandb.ai/cs20b013-bersilin/Test2/runs/p2veloxd' target=\"_blank\">soft-sweep-8</a></strong> to <a href='https://wandb.ai/cs20b013-bersilin/Test2' target=\"_blank\">Weights & Biases</a> (<a href='https://wandb.me/run' target=\"_blank\">docs</a>)<br/>Sweep page: <a href='https://wandb.ai/cs20b013-bersilin/Test2/sweeps/w613tuxy' target=\"_blank\">https://wandb.ai/cs20b013-bersilin/Test2/sweeps/w613tuxy</a>"
      ],
      "text/plain": [
       "<IPython.core.display.HTML object>"
      ]
     },
     "metadata": {},
     "output_type": "display_data"
    },
    {
     "data": {
      "text/html": [
       " View project at <a href='https://wandb.ai/cs20b013-bersilin/Test2' target=\"_blank\">https://wandb.ai/cs20b013-bersilin/Test2</a>"
      ],
      "text/plain": [
       "<IPython.core.display.HTML object>"
      ]
     },
     "metadata": {},
     "output_type": "display_data"
    },
    {
     "data": {
      "text/html": [
       " View sweep at <a href='https://wandb.ai/cs20b013-bersilin/Test2/sweeps/w613tuxy' target=\"_blank\">https://wandb.ai/cs20b013-bersilin/Test2/sweeps/w613tuxy</a>"
      ],
      "text/plain": [
       "<IPython.core.display.HTML object>"
      ]
     },
     "metadata": {},
     "output_type": "display_data"
    },
    {
     "data": {
      "text/html": [
       " View run at <a href='https://wandb.ai/cs20b013-bersilin/Test2/runs/p2veloxd' target=\"_blank\">https://wandb.ai/cs20b013-bersilin/Test2/runs/p2veloxd</a>"
      ],
      "text/plain": [
       "<IPython.core.display.HTML object>"
      ]
     },
     "metadata": {},
     "output_type": "display_data"
    },
    {
     "name": "stdout",
     "output_type": "stream",
     "text": [
      "Epoch: 1\n",
      "Loss: 2.9851 | Iterations: 5000 | Time: 60.048\n",
      "Loss: 2.6461 | Iterations: 10000 | Time: 118.143\n",
      "Loss: 2.5764 | Iterations: 15000 | Time: 177.007\n",
      "Loss: 2.5139 | Iterations: 20000 | Time: 236.535\n",
      "Loss: 2.4557 | Iterations: 25000 | Time: 295.942\n",
      "Loss: 2.3526 | Iterations: 30000 | Time: 351.310\n",
      "Loss: 2.1433 | Iterations: 35000 | Time: 417.578\n",
      "Loss: 1.7856 | Iterations: 40000 | Time: 485.095\n",
      "Loss: 1.4823 | Iterations: 45000 | Time: 553.211\n",
      "Loss: 1.2096 | Iterations: 50000 | Time: 621.712\n",
      "Training Accuracy: 0.1150\n",
      "Validation Accuracy: 0.1560\n",
      "Epoch: 2\n",
      "Loss: 0.8912 | Iterations: 5000 | Time: 56.592\n",
      "Loss: 0.7235 | Iterations: 10000 | Time: 114.496\n",
      "Loss: 0.6263 | Iterations: 15000 | Time: 171.910\n",
      "Loss: 0.5419 | Iterations: 20000 | Time: 229.129\n",
      "Loss: 0.4946 | Iterations: 25000 | Time: 296.357\n",
      "Loss: 0.4578 | Iterations: 30000 | Time: 365.051\n",
      "Loss: 0.4303 | Iterations: 35000 | Time: 434.199\n",
      "Loss: 0.4144 | Iterations: 40000 | Time: 504.054\n",
      "Loss: 0.3824 | Iterations: 45000 | Time: 573.416\n",
      "Loss: 0.3772 | Iterations: 50000 | Time: 643.255\n",
      "Training Accuracy: 0.5528\n",
      "Validation Accuracy: 0.4636\n",
      "Epoch: 3\n",
      "Loss: 0.3609 | Iterations: 5000 | Time: 56.809\n",
      "Loss: 0.3486 | Iterations: 10000 | Time: 112.586\n",
      "Loss: 0.3563 | Iterations: 15000 | Time: 184.487\n",
      "Loss: 0.3330 | Iterations: 20000 | Time: 282.570\n",
      "Loss: 0.3295 | Iterations: 25000 | Time: 380.908\n",
      "Loss: 0.3297 | Iterations: 30000 | Time: 480.391\n",
      "Loss: 0.3069 | Iterations: 35000 | Time: 581.095\n",
      "Loss: 0.2955 | Iterations: 40000 | Time: 680.922\n",
      "Loss: 0.2852 | Iterations: 45000 | Time: 780.883\n",
      "Loss: 0.2984 | Iterations: 50000 | Time: 881.060\n",
      "Training Accuracy: 0.6166\n",
      "Validation Accuracy: 0.5049\n",
      "Epoch: 4\n",
      "Loss: 0.2871 | Iterations: 5000 | Time: 64.138\n",
      "Loss: 0.2696 | Iterations: 10000 | Time: 127.711\n",
      "Loss: 0.2871 | Iterations: 15000 | Time: 192.487\n",
      "Loss: 0.2761 | Iterations: 20000 | Time: 256.571\n",
      "Loss: 0.2767 | Iterations: 25000 | Time: 320.399\n",
      "Loss: 0.2674 | Iterations: 30000 | Time: 389.699\n",
      "Loss: 0.2652 | Iterations: 35000 | Time: 487.800\n",
      "Loss: 0.2692 | Iterations: 40000 | Time: 586.793\n",
      "Loss: 0.2666 | Iterations: 45000 | Time: 685.389\n",
      "Loss: 0.2487 | Iterations: 50000 | Time: 785.133\n",
      "Training Accuracy: 0.6597\n",
      "Validation Accuracy: 0.5344\n",
      "Epoch: 5\n",
      "Loss: 0.2553 | Iterations: 5000 | Time: 65.306\n",
      "Loss: 0.2447 | Iterations: 10000 | Time: 130.339\n",
      "Loss: 0.2496 | Iterations: 15000 | Time: 194.836\n",
      "Loss: 0.2376 | Iterations: 20000 | Time: 259.607\n",
      "Loss: 0.2398 | Iterations: 25000 | Time: 324.039\n",
      "Loss: 0.2405 | Iterations: 30000 | Time: 420.280\n",
      "Loss: 0.2197 | Iterations: 35000 | Time: 518.847\n",
      "Loss: 0.2410 | Iterations: 40000 | Time: 617.367\n",
      "Loss: 0.2425 | Iterations: 45000 | Time: 715.547\n",
      "Loss: 0.2386 | Iterations: 50000 | Time: 815.386\n",
      "Training Accuracy: 0.6765\n",
      "Validation Accuracy: 0.5398\n",
      "Epoch: 6\n",
      "Loss: 0.2400 | Iterations: 5000 | Time: 65.326\n",
      "Loss: 0.2391 | Iterations: 10000 | Time: 129.711\n",
      "Loss: 0.2193 | Iterations: 15000 | Time: 195.075\n",
      "Loss: 0.2165 | Iterations: 20000 | Time: 260.555\n",
      "Loss: 0.2204 | Iterations: 25000 | Time: 360.302\n",
      "Loss: 0.2118 | Iterations: 30000 | Time: 458.992\n",
      "Loss: 0.2240 | Iterations: 35000 | Time: 556.937\n",
      "Loss: 0.2311 | Iterations: 40000 | Time: 656.255\n",
      "Loss: 0.2147 | Iterations: 45000 | Time: 754.939\n",
      "Loss: 0.2155 | Iterations: 50000 | Time: 854.547\n",
      "Training Accuracy: 0.6816\n",
      "Validation Accuracy: 0.5354\n",
      "Epoch: 7\n",
      "Loss: 0.2209 | Iterations: 5000 | Time: 63.773\n",
      "Loss: 0.2015 | Iterations: 10000 | Time: 127.402\n",
      "Loss: 0.1968 | Iterations: 15000 | Time: 191.123\n",
      "Loss: 0.2048 | Iterations: 20000 | Time: 255.847\n",
      "Loss: 0.2154 | Iterations: 25000 | Time: 320.596\n",
      "Loss: 0.2111 | Iterations: 30000 | Time: 384.976\n",
      "Loss: 0.2160 | Iterations: 35000 | Time: 448.906\n",
      "Loss: 0.2133 | Iterations: 40000 | Time: 534.299\n",
      "Loss: 0.2090 | Iterations: 45000 | Time: 633.257\n",
      "Loss: 0.2065 | Iterations: 50000 | Time: 732.683\n",
      "Training Accuracy: 0.6933\n",
      "Validation Accuracy: 0.5464\n",
      "Epoch: 8\n",
      "Loss: 0.2130 | Iterations: 5000 | Time: 64.531\n",
      "Loss: 0.2003 | Iterations: 10000 | Time: 129.641\n",
      "Loss: 0.1996 | Iterations: 15000 | Time: 194.801\n",
      "Loss: 0.1831 | Iterations: 20000 | Time: 260.128\n",
      "Loss: 0.1942 | Iterations: 25000 | Time: 325.246\n",
      "Loss: 0.2128 | Iterations: 30000 | Time: 389.815\n",
      "Loss: 0.2012 | Iterations: 35000 | Time: 474.207\n",
      "Loss: 0.1997 | Iterations: 40000 | Time: 572.181\n",
      "Loss: 0.1966 | Iterations: 45000 | Time: 671.931\n",
      "Loss: 0.2104 | Iterations: 50000 | Time: 776.422\n",
      "Training Accuracy: 0.7162\n",
      "Validation Accuracy: 0.5591\n",
      "Epoch: 9\n",
      "Loss: 0.1976 | Iterations: 5000 | Time: 64.241\n",
      "Loss: 0.1901 | Iterations: 10000 | Time: 127.810\n",
      "Loss: 0.1964 | Iterations: 15000 | Time: 191.372\n",
      "Loss: 0.1986 | Iterations: 20000 | Time: 254.710\n",
      "Loss: 0.1909 | Iterations: 25000 | Time: 318.458\n",
      "Loss: 0.1978 | Iterations: 30000 | Time: 382.690\n",
      "Loss: 0.1972 | Iterations: 35000 | Time: 446.690\n",
      "Loss: 0.2008 | Iterations: 40000 | Time: 510.316\n",
      "Loss: 0.1903 | Iterations: 45000 | Time: 574.258\n",
      "Loss: 0.2013 | Iterations: 50000 | Time: 637.139\n",
      "Training Accuracy: 0.7260\n",
      "Validation Accuracy: 0.5557\n",
      "Epoch: 10\n",
      "Loss: 0.1827 | Iterations: 5000 | Time: 99.342\n",
      "Loss: 0.1839 | Iterations: 10000 | Time: 200.274\n",
      "Loss: 0.1740 | Iterations: 15000 | Time: 298.649\n",
      "Loss: 0.1922 | Iterations: 20000 | Time: 408.266\n",
      "Loss: 0.1921 | Iterations: 25000 | Time: 493.240\n",
      "Loss: 0.1815 | Iterations: 30000 | Time: 569.703\n",
      "Loss: 0.1929 | Iterations: 35000 | Time: 644.179\n",
      "Loss: 0.1718 | Iterations: 40000 | Time: 720.037\n",
      "Loss: 0.2047 | Iterations: 45000 | Time: 791.602\n",
      "Loss: 0.1972 | Iterations: 50000 | Time: 860.011\n",
      "Training Accuracy: 0.7321\n",
      "Validation Accuracy: 0.5669\n",
      "Test Accuracy: 0.4575\n"
     ]
    },
    {
     "data": {
      "text/html": [
       "Waiting for W&B process to finish... <strong style=\"color:green\">(success).</strong>"
      ],
      "text/plain": [
       "<IPython.core.display.HTML object>"
      ]
     },
     "metadata": {},
     "output_type": "display_data"
    },
    {
     "data": {
      "text/html": [
       "<style>\n",
       "    table.wandb td:nth-child(1) { padding: 0 10px; text-align: left ; width: auto;} td:nth-child(2) {text-align: left ; width: 100%}\n",
       "    .wandb-row { display: flex; flex-direction: row; flex-wrap: wrap; justify-content: flex-start; width: 100% }\n",
       "    .wandb-col { display: flex; flex-direction: column; flex-basis: 100%; flex: 1; padding: 10px; }\n",
       "    </style>\n",
       "<div class=\"wandb-row\"><div class=\"wandb-col\"><h3>Run history:</h3><br/><table class=\"wandb\"><tr><td>epoch</td><td>▁▂▃▃▄▅▆▆▇█</td></tr><tr><td>test_accuracy</td><td>▁</td></tr><tr><td>training_accuracy</td><td>▁▆▇▇▇▇████</td></tr><tr><td>training_loss</td><td>█▂▁▁▁▁▁▁▁▁</td></tr><tr><td>validation_accuracy</td><td>▁▆▇▇█▇████</td></tr></table><br/></div><div class=\"wandb-col\"><h3>Run summary:</h3><br/><table class=\"wandb\"><tr><td>epoch</td><td>10</td></tr><tr><td>test_accuracy</td><td>0.45752</td></tr><tr><td>training_accuracy</td><td>0.73213</td></tr><tr><td>training_loss</td><td>0.18705</td></tr><tr><td>validation_accuracy</td><td>0.56689</td></tr></table><br/></div></div>"
      ],
      "text/plain": [
       "<IPython.core.display.HTML object>"
      ]
     },
     "metadata": {},
     "output_type": "display_data"
    },
    {
     "data": {
      "text/html": [
       " View run <strong style=\"color:#cdcd00\">soft-sweep-8</strong> at: <a href='https://wandb.ai/cs20b013-bersilin/Test2/runs/p2veloxd' target=\"_blank\">https://wandb.ai/cs20b013-bersilin/Test2/runs/p2veloxd</a><br/>Synced 5 W&B file(s), 0 media file(s), 0 artifact file(s) and 0 other file(s)"
      ],
      "text/plain": [
       "<IPython.core.display.HTML object>"
      ]
     },
     "metadata": {},
     "output_type": "display_data"
    },
    {
     "data": {
      "text/html": [
       "Find logs at: <code>./wandb/run-20230507_032013-p2veloxd/logs</code>"
      ],
      "text/plain": [
       "<IPython.core.display.HTML object>"
      ]
     },
     "metadata": {},
     "output_type": "display_data"
    },
    {
     "name": "stderr",
     "output_type": "stream",
     "text": [
      "\u001b[34m\u001b[1mwandb\u001b[0m: Agent Starting Run: 8njjk7gp with config:\n",
      "\u001b[34m\u001b[1mwandb\u001b[0m: \tcell_type: RNN\n",
      "\u001b[34m\u001b[1mwandb\u001b[0m: \tdropout: 0\n",
      "\u001b[34m\u001b[1mwandb\u001b[0m: \tembed_size: 32\n",
      "\u001b[34m\u001b[1mwandb\u001b[0m: \thidden_size: 256\n",
      "\u001b[34m\u001b[1mwandb\u001b[0m: \tlearning_rate: 0.001\n",
      "\u001b[34m\u001b[1mwandb\u001b[0m: \tmax_length: 50\n",
      "\u001b[34m\u001b[1mwandb\u001b[0m: \tnum_layers: 2\n",
      "\u001b[34m\u001b[1mwandb\u001b[0m: \toptimizer: SGD\n",
      "\u001b[34m\u001b[1mwandb\u001b[0m: \tteacher_forcing_ratio: 0.5\n",
      "\u001b[34m\u001b[1mwandb\u001b[0m: \tweight_decay: 0.001\n",
      "Failed to detect the name of this notebook, you can set it manually with the WANDB_NOTEBOOK_NAME environment variable to enable code saving.\n"
     ]
    },
    {
     "data": {
      "text/html": [
       "Tracking run with wandb version 0.15.2"
      ],
      "text/plain": [
       "<IPython.core.display.HTML object>"
      ]
     },
     "metadata": {},
     "output_type": "display_data"
    },
    {
     "data": {
      "text/html": [
       "Run data is saved locally in <code>/home/bersi/Documents/CS6910 Assignments/CS6910-Assignment3/wandb/run-20230507_082935-8njjk7gp</code>"
      ],
      "text/plain": [
       "<IPython.core.display.HTML object>"
      ]
     },
     "metadata": {},
     "output_type": "display_data"
    },
    {
     "data": {
      "text/html": [
       "Syncing run <strong><a href='https://wandb.ai/cs20b013-bersilin/Test2/runs/8njjk7gp' target=\"_blank\">smooth-sweep-11</a></strong> to <a href='https://wandb.ai/cs20b013-bersilin/Test2' target=\"_blank\">Weights & Biases</a> (<a href='https://wandb.me/run' target=\"_blank\">docs</a>)<br/>Sweep page: <a href='https://wandb.ai/cs20b013-bersilin/Test2/sweeps/w613tuxy' target=\"_blank\">https://wandb.ai/cs20b013-bersilin/Test2/sweeps/w613tuxy</a>"
      ],
      "text/plain": [
       "<IPython.core.display.HTML object>"
      ]
     },
     "metadata": {},
     "output_type": "display_data"
    },
    {
     "data": {
      "text/html": [
       " View project at <a href='https://wandb.ai/cs20b013-bersilin/Test2' target=\"_blank\">https://wandb.ai/cs20b013-bersilin/Test2</a>"
      ],
      "text/plain": [
       "<IPython.core.display.HTML object>"
      ]
     },
     "metadata": {},
     "output_type": "display_data"
    },
    {
     "data": {
      "text/html": [
       " View sweep at <a href='https://wandb.ai/cs20b013-bersilin/Test2/sweeps/w613tuxy' target=\"_blank\">https://wandb.ai/cs20b013-bersilin/Test2/sweeps/w613tuxy</a>"
      ],
      "text/plain": [
       "<IPython.core.display.HTML object>"
      ]
     },
     "metadata": {},
     "output_type": "display_data"
    },
    {
     "data": {
      "text/html": [
       " View run at <a href='https://wandb.ai/cs20b013-bersilin/Test2/runs/8njjk7gp' target=\"_blank\">https://wandb.ai/cs20b013-bersilin/Test2/runs/8njjk7gp</a>"
      ],
      "text/plain": [
       "<IPython.core.display.HTML object>"
      ]
     },
     "metadata": {},
     "output_type": "display_data"
    },
    {
     "name": "stdout",
     "output_type": "stream",
     "text": [
      "Epoch: 1\n",
      "Loss: 2.6482 | Iterations: 5000 | Time: 116.914\n",
      "Loss: 2.4904 | Iterations: 10000 | Time: 220.763\n",
      "Loss: 1.9186 | Iterations: 15000 | Time: 289.225\n",
      "Loss: 1.0822 | Iterations: 20000 | Time: 359.174\n",
      "Loss: 0.7007 | Iterations: 25000 | Time: 428.109\n",
      "Loss: 0.5542 | Iterations: 30000 | Time: 498.700\n",
      "Loss: 0.4607 | Iterations: 35000 | Time: 568.792\n",
      "Loss: 0.4289 | Iterations: 40000 | Time: 638.527\n",
      "Loss: 0.3887 | Iterations: 45000 | Time: 708.300\n",
      "Loss: 0.3476 | Iterations: 50000 | Time: 778.356\n",
      "Training Accuracy: 0.5652\n",
      "Validation Accuracy: 0.4688\n",
      "Epoch: 2\n",
      "Loss: 0.3131 | Iterations: 5000 | Time: 120.924\n",
      "Loss: 0.3339 | Iterations: 10000 | Time: 243.117\n",
      "Loss: 0.3233 | Iterations: 15000 | Time: 365.319\n",
      "Loss: 0.2932 | Iterations: 20000 | Time: 486.285\n",
      "Loss: 0.3130 | Iterations: 25000 | Time: 604.011\n",
      "Loss: 0.2921 | Iterations: 30000 | Time: 699.236\n",
      "Loss: 0.2814 | Iterations: 35000 | Time: 766.116\n",
      "Loss: 0.2865 | Iterations: 40000 | Time: 831.811\n",
      "Loss: 0.2899 | Iterations: 45000 | Time: 897.768\n",
      "Loss: 0.2758 | Iterations: 50000 | Time: 962.352\n",
      "Training Accuracy: 0.6459\n",
      "Validation Accuracy: 0.5203\n",
      "Epoch: 3\n",
      "Loss: 0.2411 | Iterations: 5000 | Time: 64.328\n",
      "Loss: 0.2656 | Iterations: 10000 | Time: 130.017\n",
      "Loss: 0.2281 | Iterations: 15000 | Time: 195.399\n",
      "Loss: 0.2438 | Iterations: 20000 | Time: 268.899\n",
      "Loss: 0.2499 | Iterations: 25000 | Time: 339.535\n",
      "Loss: 0.2477 | Iterations: 30000 | Time: 415.678\n",
      "Loss: 0.2321 | Iterations: 35000 | Time: 518.831\n",
      "Loss: 0.2521 | Iterations: 40000 | Time: 656.865\n",
      "Loss: 0.2531 | Iterations: 45000 | Time: 791.433\n",
      "Loss: 0.2385 | Iterations: 50000 | Time: 921.971\n",
      "Training Accuracy: 0.6708\n",
      "Validation Accuracy: 0.5222\n",
      "Epoch: 4\n",
      "Loss: 0.2236 | Iterations: 5000 | Time: 75.044\n",
      "Loss: 0.2261 | Iterations: 10000 | Time: 152.323\n",
      "Loss: 0.2255 | Iterations: 15000 | Time: 232.567\n",
      "Loss: 0.2270 | Iterations: 20000 | Time: 310.681\n",
      "Loss: 0.2126 | Iterations: 25000 | Time: 391.725\n",
      "Loss: 0.2376 | Iterations: 30000 | Time: 469.790\n",
      "Loss: 0.2336 | Iterations: 35000 | Time: 545.309\n",
      "Loss: 0.2157 | Iterations: 40000 | Time: 617.836\n",
      "Loss: 0.2037 | Iterations: 45000 | Time: 690.248\n",
      "Loss: 0.2143 | Iterations: 50000 | Time: 765.841\n",
      "Training Accuracy: 0.6422\n",
      "Validation Accuracy: 0.5239\n",
      "Epoch: 5\n",
      "Loss: 0.2253 | Iterations: 5000 | Time: 92.209\n",
      "Loss: 0.2225 | Iterations: 10000 | Time: 186.474\n",
      "Loss: 0.1968 | Iterations: 15000 | Time: 282.984\n",
      "Loss: 0.2003 | Iterations: 20000 | Time: 375.121\n",
      "Loss: 0.2097 | Iterations: 25000 | Time: 466.672\n",
      "Loss: 0.2046 | Iterations: 30000 | Time: 558.467\n",
      "Loss: 0.2049 | Iterations: 35000 | Time: 651.254\n",
      "Loss: 0.1948 | Iterations: 40000 | Time: 733.802\n",
      "Loss: 0.2057 | Iterations: 45000 | Time: 800.033\n",
      "Loss: 0.2012 | Iterations: 50000 | Time: 865.873\n",
      "Training Accuracy: 0.7216\n",
      "Validation Accuracy: 0.5598\n",
      "Epoch: 6\n",
      "Loss: 0.1862 | Iterations: 5000 | Time: 98.570\n",
      "Loss: 0.1956 | Iterations: 10000 | Time: 196.112\n",
      "Loss: 0.1919 | Iterations: 15000 | Time: 292.162\n",
      "Loss: 0.1912 | Iterations: 20000 | Time: 384.668\n",
      "Loss: 0.1825 | Iterations: 25000 | Time: 477.649\n",
      "Loss: 0.1922 | Iterations: 30000 | Time: 574.782\n",
      "Loss: 0.1821 | Iterations: 35000 | Time: 668.125\n",
      "Loss: 0.1890 | Iterations: 40000 | Time: 763.791\n",
      "Loss: 0.1743 | Iterations: 45000 | Time: 859.129\n",
      "Loss: 0.1995 | Iterations: 50000 | Time: 934.280\n",
      "Training Accuracy: 0.7182\n",
      "Validation Accuracy: 0.5623\n",
      "Epoch: 7\n",
      "Loss: 0.1685 | Iterations: 5000 | Time: 95.084\n",
      "Loss: 0.1778 | Iterations: 10000 | Time: 191.271\n",
      "Loss: 0.1839 | Iterations: 15000 | Time: 290.901\n",
      "Loss: 0.1805 | Iterations: 20000 | Time: 387.171\n",
      "Loss: 0.1881 | Iterations: 25000 | Time: 483.165\n",
      "Loss: 0.1800 | Iterations: 30000 | Time: 578.918\n",
      "Loss: 0.2024 | Iterations: 35000 | Time: 678.233\n",
      "Loss: 0.2039 | Iterations: 40000 | Time: 774.031\n",
      "Loss: 0.1934 | Iterations: 45000 | Time: 875.483\n",
      "Loss: 0.1914 | Iterations: 50000 | Time: 976.206\n",
      "Training Accuracy: 0.7016\n",
      "Validation Accuracy: 0.5444\n",
      "Epoch: 8\n",
      "Loss: 0.1804 | Iterations: 5000 | Time: 78.100\n",
      "Loss: 0.1790 | Iterations: 10000 | Time: 174.477\n",
      "Loss: 0.1930 | Iterations: 15000 | Time: 269.953\n",
      "Loss: 0.1715 | Iterations: 20000 | Time: 365.000\n",
      "Loss: 0.1513 | Iterations: 25000 | Time: 461.275\n",
      "Loss: 0.1810 | Iterations: 30000 | Time: 559.381\n",
      "Loss: 0.1762 | Iterations: 35000 | Time: 656.605\n",
      "Loss: 0.1703 | Iterations: 40000 | Time: 751.944\n",
      "Loss: 0.1801 | Iterations: 45000 | Time: 847.787\n",
      "Loss: 0.1759 | Iterations: 50000 | Time: 942.150\n",
      "Training Accuracy: 0.7164\n",
      "Validation Accuracy: 0.5364\n",
      "Epoch: 9\n",
      "Loss: 0.1688 | Iterations: 5000 | Time: 63.521\n",
      "Loss: 0.1579 | Iterations: 10000 | Time: 139.490\n",
      "Loss: 0.1596 | Iterations: 15000 | Time: 236.109\n",
      "Loss: 0.1646 | Iterations: 20000 | Time: 330.717\n",
      "Loss: 0.1742 | Iterations: 25000 | Time: 427.022\n",
      "Loss: 0.1760 | Iterations: 30000 | Time: 520.571\n",
      "Loss: 0.1742 | Iterations: 35000 | Time: 612.471\n",
      "Loss: 0.1728 | Iterations: 40000 | Time: 704.808\n",
      "Loss: 0.1719 | Iterations: 45000 | Time: 797.700\n",
      "Loss: 0.1616 | Iterations: 50000 | Time: 893.204\n",
      "Training Accuracy: 0.7575\n",
      "Validation Accuracy: 0.5803\n",
      "Epoch: 10\n",
      "Loss: 0.1369 | Iterations: 5000 | Time: 71.151\n",
      "Loss: 0.1474 | Iterations: 10000 | Time: 144.935\n",
      "Loss: 0.1627 | Iterations: 15000 | Time: 215.875\n",
      "Loss: 0.1560 | Iterations: 20000 | Time: 280.270\n",
      "Loss: 0.1706 | Iterations: 25000 | Time: 345.929\n",
      "Loss: 0.1740 | Iterations: 30000 | Time: 411.495\n",
      "Loss: 0.1626 | Iterations: 35000 | Time: 477.515\n",
      "Loss: 0.1768 | Iterations: 40000 | Time: 543.223\n",
      "Loss: 0.1906 | Iterations: 45000 | Time: 608.533\n",
      "Loss: 0.1745 | Iterations: 50000 | Time: 674.145\n",
      "Training Accuracy: 0.7363\n",
      "Validation Accuracy: 0.5647\n",
      "Test Accuracy: 0.4543\n"
     ]
    },
    {
     "data": {
      "text/html": [
       "Waiting for W&B process to finish... <strong style=\"color:green\">(success).</strong>"
      ],
      "text/plain": [
       "<IPython.core.display.HTML object>"
      ]
     },
     "metadata": {},
     "output_type": "display_data"
    },
    {
     "data": {
      "text/html": [
       "<style>\n",
       "    table.wandb td:nth-child(1) { padding: 0 10px; text-align: left ; width: auto;} td:nth-child(2) {text-align: left ; width: 100%}\n",
       "    .wandb-row { display: flex; flex-direction: row; flex-wrap: wrap; justify-content: flex-start; width: 100% }\n",
       "    .wandb-col { display: flex; flex-direction: column; flex-basis: 100%; flex: 1; padding: 10px; }\n",
       "    </style>\n",
       "<div class=\"wandb-row\"><div class=\"wandb-col\"><h3>Run history:</h3><br/><table class=\"wandb\"><tr><td>epoch</td><td>▁▂▃▃▄▅▆▆▇█</td></tr><tr><td>test_accuracy</td><td>▁</td></tr><tr><td>training_accuracy</td><td>▁▄▅▄▇▇▆▇█▇</td></tr><tr><td>training_loss</td><td>█▂▂▁▁▁▁▁▁▁</td></tr><tr><td>validation_accuracy</td><td>▁▄▄▄▇▇▆▅█▇</td></tr></table><br/></div><div class=\"wandb-col\"><h3>Run summary:</h3><br/><table class=\"wandb\"><tr><td>epoch</td><td>10</td></tr><tr><td>test_accuracy</td><td>0.45435</td></tr><tr><td>training_accuracy</td><td>0.73631</td></tr><tr><td>training_loss</td><td>0.16528</td></tr><tr><td>validation_accuracy</td><td>0.5647</td></tr></table><br/></div></div>"
      ],
      "text/plain": [
       "<IPython.core.display.HTML object>"
      ]
     },
     "metadata": {},
     "output_type": "display_data"
    },
    {
     "data": {
      "text/html": [
       " View run <strong style=\"color:#cdcd00\">smooth-sweep-11</strong> at: <a href='https://wandb.ai/cs20b013-bersilin/Test2/runs/8njjk7gp' target=\"_blank\">https://wandb.ai/cs20b013-bersilin/Test2/runs/8njjk7gp</a><br/>Synced 5 W&B file(s), 0 media file(s), 0 artifact file(s) and 0 other file(s)"
      ],
      "text/plain": [
       "<IPython.core.display.HTML object>"
      ]
     },
     "metadata": {},
     "output_type": "display_data"
    },
    {
     "data": {
      "text/html": [
       "Find logs at: <code>./wandb/run-20230507_082935-8njjk7gp/logs</code>"
      ],
      "text/plain": [
       "<IPython.core.display.HTML object>"
      ]
     },
     "metadata": {},
     "output_type": "display_data"
    },
    {
     "name": "stderr",
     "output_type": "stream",
     "text": [
      "\u001b[34m\u001b[1mwandb\u001b[0m: Agent Starting Run: pyqg6bau with config:\n",
      "\u001b[34m\u001b[1mwandb\u001b[0m: \tcell_type: RNN\n",
      "\u001b[34m\u001b[1mwandb\u001b[0m: \tdropout: 0\n",
      "\u001b[34m\u001b[1mwandb\u001b[0m: \tembed_size: 32\n",
      "\u001b[34m\u001b[1mwandb\u001b[0m: \thidden_size: 256\n",
      "\u001b[34m\u001b[1mwandb\u001b[0m: \tlearning_rate: 0.001\n",
      "\u001b[34m\u001b[1mwandb\u001b[0m: \tmax_length: 50\n",
      "\u001b[34m\u001b[1mwandb\u001b[0m: \tnum_layers: 2\n",
      "\u001b[34m\u001b[1mwandb\u001b[0m: \toptimizer: SGD\n",
      "\u001b[34m\u001b[1mwandb\u001b[0m: \tteacher_forcing_ratio: 0.5\n",
      "\u001b[34m\u001b[1mwandb\u001b[0m: \tweight_decay: 0.001\n",
      "Failed to detect the name of this notebook, you can set it manually with the WANDB_NOTEBOOK_NAME environment variable to enable code saving.\n"
     ]
    },
    {
     "data": {
      "text/html": [
       "Tracking run with wandb version 0.15.2"
      ],
      "text/plain": [
       "<IPython.core.display.HTML object>"
      ]
     },
     "metadata": {},
     "output_type": "display_data"
    },
    {
     "data": {
      "text/html": [
       "Run data is saved locally in <code>/home/bersi/Documents/CS6910 Assignments/CS6910-Assignment3/wandb/run-20230507_125554-pyqg6bau</code>"
      ],
      "text/plain": [
       "<IPython.core.display.HTML object>"
      ]
     },
     "metadata": {},
     "output_type": "display_data"
    },
    {
     "data": {
      "text/html": [
       "Syncing run <strong><a href='https://wandb.ai/cs20b013-bersilin/Test2/runs/pyqg6bau' target=\"_blank\">hearty-sweep-16</a></strong> to <a href='https://wandb.ai/cs20b013-bersilin/Test2' target=\"_blank\">Weights & Biases</a> (<a href='https://wandb.me/run' target=\"_blank\">docs</a>)<br/>Sweep page: <a href='https://wandb.ai/cs20b013-bersilin/Test2/sweeps/w613tuxy' target=\"_blank\">https://wandb.ai/cs20b013-bersilin/Test2/sweeps/w613tuxy</a>"
      ],
      "text/plain": [
       "<IPython.core.display.HTML object>"
      ]
     },
     "metadata": {},
     "output_type": "display_data"
    },
    {
     "data": {
      "text/html": [
       " View project at <a href='https://wandb.ai/cs20b013-bersilin/Test2' target=\"_blank\">https://wandb.ai/cs20b013-bersilin/Test2</a>"
      ],
      "text/plain": [
       "<IPython.core.display.HTML object>"
      ]
     },
     "metadata": {},
     "output_type": "display_data"
    },
    {
     "data": {
      "text/html": [
       " View sweep at <a href='https://wandb.ai/cs20b013-bersilin/Test2/sweeps/w613tuxy' target=\"_blank\">https://wandb.ai/cs20b013-bersilin/Test2/sweeps/w613tuxy</a>"
      ],
      "text/plain": [
       "<IPython.core.display.HTML object>"
      ]
     },
     "metadata": {},
     "output_type": "display_data"
    },
    {
     "data": {
      "text/html": [
       " View run at <a href='https://wandb.ai/cs20b013-bersilin/Test2/runs/pyqg6bau' target=\"_blank\">https://wandb.ai/cs20b013-bersilin/Test2/runs/pyqg6bau</a>"
      ],
      "text/plain": [
       "<IPython.core.display.HTML object>"
      ]
     },
     "metadata": {},
     "output_type": "display_data"
    },
    {
     "name": "stdout",
     "output_type": "stream",
     "text": [
      "Epoch: 1\n",
      "Loss: 2.6608 | Iterations: 5000 | Time: 57.448\n",
      "Loss: 2.4295 | Iterations: 10000 | Time: 120.917\n",
      "Loss: 1.7206 | Iterations: 15000 | Time: 185.008\n",
      "Loss: 1.0218 | Iterations: 20000 | Time: 249.919\n",
      "Loss: 0.6799 | Iterations: 25000 | Time: 314.668\n",
      "Loss: 0.5113 | Iterations: 30000 | Time: 379.496\n",
      "Loss: 0.4293 | Iterations: 35000 | Time: 444.791\n",
      "Loss: 0.4044 | Iterations: 40000 | Time: 510.343\n",
      "Loss: 0.3825 | Iterations: 45000 | Time: 575.106\n",
      "Loss: 0.3674 | Iterations: 50000 | Time: 640.684\n",
      "Training Accuracy: 0.5879\n",
      "Validation Accuracy: 0.4856\n",
      "Epoch: 2\n",
      "Loss: 0.3235 | Iterations: 5000 | Time: 57.559\n",
      "Loss: 0.3243 | Iterations: 10000 | Time: 125.127\n",
      "Loss: 0.3238 | Iterations: 15000 | Time: 208.130\n",
      "Loss: 0.2974 | Iterations: 20000 | Time: 291.232\n",
      "Loss: 0.2935 | Iterations: 25000 | Time: 374.142\n",
      "Loss: 0.2772 | Iterations: 30000 | Time: 456.972\n",
      "Loss: 0.2955 | Iterations: 35000 | Time: 540.205\n",
      "Loss: 0.2870 | Iterations: 40000 | Time: 623.144\n",
      "Loss: 0.2500 | Iterations: 45000 | Time: 706.038\n",
      "Loss: 0.2575 | Iterations: 50000 | Time: 788.929\n",
      "Training Accuracy: 0.6655\n",
      "Validation Accuracy: 0.5049\n",
      "Epoch: 3\n",
      "Loss: 0.2329 | Iterations: 5000 | Time: 75.972\n",
      "Loss: 0.2626 | Iterations: 10000 | Time: 145.292\n",
      "Loss: 0.2593 | Iterations: 15000 | Time: 222.918\n",
      "Loss: 0.2378 | Iterations: 20000 | Time: 325.050\n",
      "Loss: 0.2314 | Iterations: 25000 | Time: 427.702\n",
      "Loss: 0.2611 | Iterations: 30000 | Time: 529.307\n",
      "Loss: 0.2496 | Iterations: 35000 | Time: 630.463\n",
      "Loss: 0.2529 | Iterations: 40000 | Time: 731.428\n",
      "Loss: 0.2545 | Iterations: 45000 | Time: 832.353\n",
      "Loss: 0.2554 | Iterations: 50000 | Time: 933.046\n",
      "Training Accuracy: 0.6882\n",
      "Validation Accuracy: 0.5417\n",
      "Epoch: 4\n",
      "Loss: 0.2342 | Iterations: 5000 | Time: 82.154\n",
      "Loss: 0.2231 | Iterations: 10000 | Time: 161.550\n",
      "Loss: 0.2253 | Iterations: 15000 | Time: 230.834\n",
      "Loss: 0.2291 | Iterations: 20000 | Time: 298.574\n",
      "Loss: 0.2164 | Iterations: 25000 | Time: 380.769\n",
      "Loss: 0.2063 | Iterations: 30000 | Time: 474.452\n",
      "Loss: 0.2200 | Iterations: 35000 | Time: 566.630\n",
      "Loss: 0.2038 | Iterations: 40000 | Time: 656.378\n",
      "Loss: 0.1992 | Iterations: 45000 | Time: 745.520\n",
      "Loss: 0.2268 | Iterations: 50000 | Time: 838.451\n",
      "Training Accuracy: 0.7060\n",
      "Validation Accuracy: 0.5530\n",
      "Epoch: 5\n",
      "Loss: 0.1893 | Iterations: 5000 | Time: 68.036\n",
      "Loss: 0.2130 | Iterations: 10000 | Time: 136.971\n",
      "Loss: 0.2068 | Iterations: 15000 | Time: 205.650\n",
      "Loss: 0.2131 | Iterations: 20000 | Time: 274.088\n",
      "Loss: 0.1923 | Iterations: 25000 | Time: 343.927\n",
      "Loss: 0.1887 | Iterations: 30000 | Time: 417.248\n",
      "Loss: 0.2108 | Iterations: 35000 | Time: 506.942\n",
      "Loss: 0.2133 | Iterations: 40000 | Time: 596.196\n",
      "Loss: 0.2116 | Iterations: 45000 | Time: 686.113\n",
      "Loss: 0.2017 | Iterations: 50000 | Time: 774.964\n"
     ]
    },
    {
     "name": "stderr",
     "output_type": "stream",
     "text": [
      "\u001b[34m\u001b[1mwandb\u001b[0m: Ctrl + C detected. Stopping sweep.\n"
     ]
    }
   ],
   "source": [
    "sweep_id = wandb.sweep(sweep_configuration, project=\"Test2\")\n",
    "wandb.agent(sweep_id, train_sweep, count=10)"
   ]
  }
 ],
 "metadata": {
  "kernelspec": {
   "display_name": "Python 3",
   "language": "python",
   "name": "python3"
  },
  "language_info": {
   "codemirror_mode": {
    "name": "ipython",
    "version": 3
   },
   "file_extension": ".py",
   "mimetype": "text/x-python",
   "name": "python",
   "nbconvert_exporter": "python",
   "pygments_lexer": "ipython3",
   "version": "3.11.2"
  },
  "orig_nbformat": 4
 },
 "nbformat": 4,
 "nbformat_minor": 2
}
